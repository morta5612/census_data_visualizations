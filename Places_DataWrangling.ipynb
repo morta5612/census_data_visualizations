{
 "cells": [
  {
   "cell_type": "markdown",
   "source": [
    "# Question: Which places in NC have the highest and lowest percentage of computer and internet access?\n",
    "* Data source: acs/acs5/profile for places (https://api.census.gov/data/2020/acs/acs5/profile?get=NAME,DP02_0153E,DP02_0153PE,DP02_0154E,DP02_0154PE&for=place:*&in=state:37)\n",
    "* Vintage: 2020\n",
    "* Geography Level: Places"
   ],
   "metadata": {
    "collapsed": false
   }
  },
  {
   "cell_type": "markdown",
   "source": [
    "### Imports"
   ],
   "metadata": {
    "collapsed": false
   }
  },
  {
   "cell_type": "code",
   "execution_count": 15,
   "outputs": [],
   "source": [
    "import pandas as pd\n",
    "import requests"
   ],
   "metadata": {
    "collapsed": false
   }
  },
  {
   "cell_type": "markdown",
   "source": [
    "### Build the API request url"
   ],
   "metadata": {
    "collapsed": false
   }
  },
  {
   "cell_type": "code",
   "execution_count": 16,
   "outputs": [
    {
     "name": "stdout",
     "output_type": "stream",
     "text": [
      "request_url =  https://api.census.gov/data/2020/acs/acs5/profile?get=NAME,DP02_0153E,DP02_0153PE,DP02_0154E,DP02_0154PE&for=place:*&in=state:37\n"
     ]
    }
   ],
   "source": [
    "base_url = \"https://api.census.gov/data\"\n",
    "dataset_name = \"/2020/acs/acs5/profile\"\n",
    "get_start = \"?get=\"\n",
    "get_variables = \"NAME,DP02_0153E,DP02_0153PE,DP02_0154E,DP02_0154PE\"\n",
    "geography = \"&for=place:*&in=state:37\"\n",
    "request_url = base_url + dataset_name + get_start + get_variables + geography\n",
    "print(\"request_url = \", request_url)"
   ],
   "metadata": {
    "collapsed": false
   }
  },
  {
   "cell_type": "markdown",
   "source": [
    "### Use *requests* library to make the API call"
   ],
   "metadata": {
    "collapsed": false
   }
  },
  {
   "cell_type": "code",
   "execution_count": 17,
   "outputs": [],
   "source": [
    "r = requests.get(request_url)\n",
    "\n",
    "api_results = r.json()"
   ],
   "metadata": {
    "collapsed": false
   }
  },
  {
   "cell_type": "markdown",
   "source": [
    "### Get the data into a Dataframe"
   ],
   "metadata": {
    "collapsed": false
   }
  },
  {
   "cell_type": "code",
   "execution_count": 18,
   "outputs": [
    {
     "name": "stdout",
     "output_type": "stream",
     "text": [
      "(777, 7)\n"
     ]
    },
    {
     "data": {
      "text/plain": "                                    0           1            2           3  \\\n0                                NAME  DP02_0153E  DP02_0153PE  DP02_0154E   \n1       Aberdeen town, North Carolina        2842         90.6        2839   \n2         Advance CDP, North Carolina         334         85.2         312   \n3        Ahoskie town, North Carolina        1542         80.9        1332   \n4    Alamance village, North Carolina         399         95.2         387   \n..                                ...         ...          ...         ...   \n772  Yadkinville town, North Carolina         992         84.5         921   \n773  Yanceyville town, North Carolina         861         71.3         582   \n774  Youngsville town, North Carolina         841         92.9         831   \n775      Zebulon town, North Carolina        1570         80.2        1467   \n776    Whitakers town, North Carolina         194         74.9         161   \n\n               4      5      6  \n0    DP02_0154PE  state  place  \n1           90.5     37  00160  \n2           79.6     37  00440  \n3           69.9     37  00500  \n4           92.4     37  00640  \n..           ...    ...    ...  \n772         78.4     37  75960  \n773         48.2     37  76000  \n774         91.8     37  76200  \n775         74.9     37  76220  \n776         62.2     37  73160  \n\n[777 rows x 7 columns]",
      "text/html": "<div>\n<style scoped>\n    .dataframe tbody tr th:only-of-type {\n        vertical-align: middle;\n    }\n\n    .dataframe tbody tr th {\n        vertical-align: top;\n    }\n\n    .dataframe thead th {\n        text-align: right;\n    }\n</style>\n<table border=\"1\" class=\"dataframe\">\n  <thead>\n    <tr style=\"text-align: right;\">\n      <th></th>\n      <th>0</th>\n      <th>1</th>\n      <th>2</th>\n      <th>3</th>\n      <th>4</th>\n      <th>5</th>\n      <th>6</th>\n    </tr>\n  </thead>\n  <tbody>\n    <tr>\n      <th>0</th>\n      <td>NAME</td>\n      <td>DP02_0153E</td>\n      <td>DP02_0153PE</td>\n      <td>DP02_0154E</td>\n      <td>DP02_0154PE</td>\n      <td>state</td>\n      <td>place</td>\n    </tr>\n    <tr>\n      <th>1</th>\n      <td>Aberdeen town, North Carolina</td>\n      <td>2842</td>\n      <td>90.6</td>\n      <td>2839</td>\n      <td>90.5</td>\n      <td>37</td>\n      <td>00160</td>\n    </tr>\n    <tr>\n      <th>2</th>\n      <td>Advance CDP, North Carolina</td>\n      <td>334</td>\n      <td>85.2</td>\n      <td>312</td>\n      <td>79.6</td>\n      <td>37</td>\n      <td>00440</td>\n    </tr>\n    <tr>\n      <th>3</th>\n      <td>Ahoskie town, North Carolina</td>\n      <td>1542</td>\n      <td>80.9</td>\n      <td>1332</td>\n      <td>69.9</td>\n      <td>37</td>\n      <td>00500</td>\n    </tr>\n    <tr>\n      <th>4</th>\n      <td>Alamance village, North Carolina</td>\n      <td>399</td>\n      <td>95.2</td>\n      <td>387</td>\n      <td>92.4</td>\n      <td>37</td>\n      <td>00640</td>\n    </tr>\n    <tr>\n      <th>...</th>\n      <td>...</td>\n      <td>...</td>\n      <td>...</td>\n      <td>...</td>\n      <td>...</td>\n      <td>...</td>\n      <td>...</td>\n    </tr>\n    <tr>\n      <th>772</th>\n      <td>Yadkinville town, North Carolina</td>\n      <td>992</td>\n      <td>84.5</td>\n      <td>921</td>\n      <td>78.4</td>\n      <td>37</td>\n      <td>75960</td>\n    </tr>\n    <tr>\n      <th>773</th>\n      <td>Yanceyville town, North Carolina</td>\n      <td>861</td>\n      <td>71.3</td>\n      <td>582</td>\n      <td>48.2</td>\n      <td>37</td>\n      <td>76000</td>\n    </tr>\n    <tr>\n      <th>774</th>\n      <td>Youngsville town, North Carolina</td>\n      <td>841</td>\n      <td>92.9</td>\n      <td>831</td>\n      <td>91.8</td>\n      <td>37</td>\n      <td>76200</td>\n    </tr>\n    <tr>\n      <th>775</th>\n      <td>Zebulon town, North Carolina</td>\n      <td>1570</td>\n      <td>80.2</td>\n      <td>1467</td>\n      <td>74.9</td>\n      <td>37</td>\n      <td>76220</td>\n    </tr>\n    <tr>\n      <th>776</th>\n      <td>Whitakers town, North Carolina</td>\n      <td>194</td>\n      <td>74.9</td>\n      <td>161</td>\n      <td>62.2</td>\n      <td>37</td>\n      <td>73160</td>\n    </tr>\n  </tbody>\n</table>\n<p>777 rows × 7 columns</p>\n</div>"
     },
     "execution_count": 18,
     "metadata": {},
     "output_type": "execute_result"
    }
   ],
   "source": [
    "df_place = pd.DataFrame(api_results)\n",
    "\n",
    "print(df_place.shape)\n",
    "df_place"
   ],
   "metadata": {
    "collapsed": false
   }
  },
  {
   "cell_type": "markdown",
   "source": [
    "### Getting the first row into the columns & removing"
   ],
   "metadata": {
    "collapsed": false
   }
  },
  {
   "cell_type": "code",
   "execution_count": 19,
   "outputs": [
    {
     "name": "stdout",
     "output_type": "stream",
     "text": [
      "0           NAME\n",
      "1     DP02_0153E\n",
      "2    DP02_0153PE\n",
      "3     DP02_0154E\n",
      "4    DP02_0154PE\n",
      "5          state\n",
      "6          place\n",
      "Name: 0, dtype: object\n"
     ]
    }
   ],
   "source": [
    "column_names = df_place.iloc[0]\n",
    "\n",
    "print(column_names)"
   ],
   "metadata": {
    "collapsed": false
   }
  },
  {
   "cell_type": "code",
   "execution_count": 20,
   "outputs": [
    {
     "name": "stdout",
     "output_type": "stream",
     "text": [
      "(777, 7)\n"
     ]
    },
    {
     "data": {
      "text/plain": "0                              NAME  DP02_0153E  DP02_0153PE  DP02_0154E  \\\n0                              NAME  DP02_0153E  DP02_0153PE  DP02_0154E   \n1     Aberdeen town, North Carolina        2842         90.6        2839   \n2       Advance CDP, North Carolina         334         85.2         312   \n3      Ahoskie town, North Carolina        1542         80.9        1332   \n4  Alamance village, North Carolina         399         95.2         387   \n\n0  DP02_0154PE  state  place  \n0  DP02_0154PE  state  place  \n1         90.5     37  00160  \n2         79.6     37  00440  \n3         69.9     37  00500  \n4         92.4     37  00640  ",
      "text/html": "<div>\n<style scoped>\n    .dataframe tbody tr th:only-of-type {\n        vertical-align: middle;\n    }\n\n    .dataframe tbody tr th {\n        vertical-align: top;\n    }\n\n    .dataframe thead th {\n        text-align: right;\n    }\n</style>\n<table border=\"1\" class=\"dataframe\">\n  <thead>\n    <tr style=\"text-align: right;\">\n      <th></th>\n      <th>NAME</th>\n      <th>DP02_0153E</th>\n      <th>DP02_0153PE</th>\n      <th>DP02_0154E</th>\n      <th>DP02_0154PE</th>\n      <th>state</th>\n      <th>place</th>\n    </tr>\n  </thead>\n  <tbody>\n    <tr>\n      <th>0</th>\n      <td>NAME</td>\n      <td>DP02_0153E</td>\n      <td>DP02_0153PE</td>\n      <td>DP02_0154E</td>\n      <td>DP02_0154PE</td>\n      <td>state</td>\n      <td>place</td>\n    </tr>\n    <tr>\n      <th>1</th>\n      <td>Aberdeen town, North Carolina</td>\n      <td>2842</td>\n      <td>90.6</td>\n      <td>2839</td>\n      <td>90.5</td>\n      <td>37</td>\n      <td>00160</td>\n    </tr>\n    <tr>\n      <th>2</th>\n      <td>Advance CDP, North Carolina</td>\n      <td>334</td>\n      <td>85.2</td>\n      <td>312</td>\n      <td>79.6</td>\n      <td>37</td>\n      <td>00440</td>\n    </tr>\n    <tr>\n      <th>3</th>\n      <td>Ahoskie town, North Carolina</td>\n      <td>1542</td>\n      <td>80.9</td>\n      <td>1332</td>\n      <td>69.9</td>\n      <td>37</td>\n      <td>00500</td>\n    </tr>\n    <tr>\n      <th>4</th>\n      <td>Alamance village, North Carolina</td>\n      <td>399</td>\n      <td>95.2</td>\n      <td>387</td>\n      <td>92.4</td>\n      <td>37</td>\n      <td>00640</td>\n    </tr>\n  </tbody>\n</table>\n</div>"
     },
     "execution_count": 20,
     "metadata": {},
     "output_type": "execute_result"
    }
   ],
   "source": [
    "df_place.columns = column_names\n",
    "\n",
    "print(df_place.shape)\n",
    "df_place.head()"
   ],
   "metadata": {
    "collapsed": false
   }
  },
  {
   "cell_type": "code",
   "execution_count": 21,
   "outputs": [
    {
     "name": "stdout",
     "output_type": "stream",
     "text": [
      "(776, 7)\n"
     ]
    },
    {
     "data": {
      "text/plain": "0                                NAME DP02_0153E DP02_0153PE DP02_0154E  \\\n1       Aberdeen town, North Carolina       2842        90.6       2839   \n2         Advance CDP, North Carolina        334        85.2        312   \n3        Ahoskie town, North Carolina       1542        80.9       1332   \n4    Alamance village, North Carolina        399        95.2        387   \n5      Albemarle city, North Carolina       5255        84.0       4860   \n..                                ...        ...         ...        ...   \n772  Yadkinville town, North Carolina        992        84.5        921   \n773  Yanceyville town, North Carolina        861        71.3        582   \n774  Youngsville town, North Carolina        841        92.9        831   \n775      Zebulon town, North Carolina       1570        80.2       1467   \n776    Whitakers town, North Carolina        194        74.9        161   \n\n0   DP02_0154PE state  place  \n1          90.5    37  00160  \n2          79.6    37  00440  \n3          69.9    37  00500  \n4          92.4    37  00640  \n5          77.7    37  00680  \n..          ...   ...    ...  \n772        78.4    37  75960  \n773        48.2    37  76000  \n774        91.8    37  76200  \n775        74.9    37  76220  \n776        62.2    37  73160  \n\n[776 rows x 7 columns]",
      "text/html": "<div>\n<style scoped>\n    .dataframe tbody tr th:only-of-type {\n        vertical-align: middle;\n    }\n\n    .dataframe tbody tr th {\n        vertical-align: top;\n    }\n\n    .dataframe thead th {\n        text-align: right;\n    }\n</style>\n<table border=\"1\" class=\"dataframe\">\n  <thead>\n    <tr style=\"text-align: right;\">\n      <th></th>\n      <th>NAME</th>\n      <th>DP02_0153E</th>\n      <th>DP02_0153PE</th>\n      <th>DP02_0154E</th>\n      <th>DP02_0154PE</th>\n      <th>state</th>\n      <th>place</th>\n    </tr>\n  </thead>\n  <tbody>\n    <tr>\n      <th>1</th>\n      <td>Aberdeen town, North Carolina</td>\n      <td>2842</td>\n      <td>90.6</td>\n      <td>2839</td>\n      <td>90.5</td>\n      <td>37</td>\n      <td>00160</td>\n    </tr>\n    <tr>\n      <th>2</th>\n      <td>Advance CDP, North Carolina</td>\n      <td>334</td>\n      <td>85.2</td>\n      <td>312</td>\n      <td>79.6</td>\n      <td>37</td>\n      <td>00440</td>\n    </tr>\n    <tr>\n      <th>3</th>\n      <td>Ahoskie town, North Carolina</td>\n      <td>1542</td>\n      <td>80.9</td>\n      <td>1332</td>\n      <td>69.9</td>\n      <td>37</td>\n      <td>00500</td>\n    </tr>\n    <tr>\n      <th>4</th>\n      <td>Alamance village, North Carolina</td>\n      <td>399</td>\n      <td>95.2</td>\n      <td>387</td>\n      <td>92.4</td>\n      <td>37</td>\n      <td>00640</td>\n    </tr>\n    <tr>\n      <th>5</th>\n      <td>Albemarle city, North Carolina</td>\n      <td>5255</td>\n      <td>84.0</td>\n      <td>4860</td>\n      <td>77.7</td>\n      <td>37</td>\n      <td>00680</td>\n    </tr>\n    <tr>\n      <th>...</th>\n      <td>...</td>\n      <td>...</td>\n      <td>...</td>\n      <td>...</td>\n      <td>...</td>\n      <td>...</td>\n      <td>...</td>\n    </tr>\n    <tr>\n      <th>772</th>\n      <td>Yadkinville town, North Carolina</td>\n      <td>992</td>\n      <td>84.5</td>\n      <td>921</td>\n      <td>78.4</td>\n      <td>37</td>\n      <td>75960</td>\n    </tr>\n    <tr>\n      <th>773</th>\n      <td>Yanceyville town, North Carolina</td>\n      <td>861</td>\n      <td>71.3</td>\n      <td>582</td>\n      <td>48.2</td>\n      <td>37</td>\n      <td>76000</td>\n    </tr>\n    <tr>\n      <th>774</th>\n      <td>Youngsville town, North Carolina</td>\n      <td>841</td>\n      <td>92.9</td>\n      <td>831</td>\n      <td>91.8</td>\n      <td>37</td>\n      <td>76200</td>\n    </tr>\n    <tr>\n      <th>775</th>\n      <td>Zebulon town, North Carolina</td>\n      <td>1570</td>\n      <td>80.2</td>\n      <td>1467</td>\n      <td>74.9</td>\n      <td>37</td>\n      <td>76220</td>\n    </tr>\n    <tr>\n      <th>776</th>\n      <td>Whitakers town, North Carolina</td>\n      <td>194</td>\n      <td>74.9</td>\n      <td>161</td>\n      <td>62.2</td>\n      <td>37</td>\n      <td>73160</td>\n    </tr>\n  </tbody>\n</table>\n<p>776 rows × 7 columns</p>\n</div>"
     },
     "execution_count": 21,
     "metadata": {},
     "output_type": "execute_result"
    }
   ],
   "source": [
    "df_place = df_place.iloc[1:]\n",
    "\n",
    "print(df_place.shape)\n",
    "df_place"
   ],
   "metadata": {
    "collapsed": false
   }
  },
  {
   "cell_type": "markdown",
   "source": [
    "### Splitting the columns to get rid of extra information"
   ],
   "metadata": {
    "collapsed": false
   }
  },
  {
   "cell_type": "code",
   "execution_count": 22,
   "outputs": [
    {
     "name": "stdout",
     "output_type": "stream",
     "text": [
      "(776, 9)\n"
     ]
    },
    {
     "name": "stderr",
     "output_type": "stream",
     "text": [
      "/tmp/ipykernel_318581/2142605359.py:2: SettingWithCopyWarning: \n",
      "A value is trying to be set on a copy of a slice from a DataFrame.\n",
      "Try using .loc[row_indexer,col_indexer] = value instead\n",
      "\n",
      "See the caveats in the documentation: https://pandas.pydata.org/pandas-docs/stable/user_guide/indexing.html#returning-a-view-versus-a-copy\n",
      "  df_place[two_cols] = df_place[\"NAME\"].str.split(',',1, expand=True)\n",
      "/tmp/ipykernel_318581/2142605359.py:2: SettingWithCopyWarning: \n",
      "A value is trying to be set on a copy of a slice from a DataFrame.\n",
      "Try using .loc[row_indexer,col_indexer] = value instead\n",
      "\n",
      "See the caveats in the documentation: https://pandas.pydata.org/pandas-docs/stable/user_guide/indexing.html#returning-a-view-versus-a-copy\n",
      "  df_place[two_cols] = df_place[\"NAME\"].str.split(',',1, expand=True)\n"
     ]
    },
    {
     "data": {
      "text/plain": "0                              NAME DP02_0153E DP02_0153PE DP02_0154E  \\\n1     Aberdeen town, North Carolina       2842        90.6       2839   \n2       Advance CDP, North Carolina        334        85.2        312   \n3      Ahoskie town, North Carolina       1542        80.9       1332   \n4  Alamance village, North Carolina        399        95.2        387   \n5    Albemarle city, North Carolina       5255        84.0       4860   \n\n0 DP02_0154PE state  place        Place_Name            Trash  \n1        90.5    37  00160     Aberdeen town   North Carolina  \n2        79.6    37  00440       Advance CDP   North Carolina  \n3        69.9    37  00500      Ahoskie town   North Carolina  \n4        92.4    37  00640  Alamance village   North Carolina  \n5        77.7    37  00680    Albemarle city   North Carolina  ",
      "text/html": "<div>\n<style scoped>\n    .dataframe tbody tr th:only-of-type {\n        vertical-align: middle;\n    }\n\n    .dataframe tbody tr th {\n        vertical-align: top;\n    }\n\n    .dataframe thead th {\n        text-align: right;\n    }\n</style>\n<table border=\"1\" class=\"dataframe\">\n  <thead>\n    <tr style=\"text-align: right;\">\n      <th></th>\n      <th>NAME</th>\n      <th>DP02_0153E</th>\n      <th>DP02_0153PE</th>\n      <th>DP02_0154E</th>\n      <th>DP02_0154PE</th>\n      <th>state</th>\n      <th>place</th>\n      <th>Place_Name</th>\n      <th>Trash</th>\n    </tr>\n  </thead>\n  <tbody>\n    <tr>\n      <th>1</th>\n      <td>Aberdeen town, North Carolina</td>\n      <td>2842</td>\n      <td>90.6</td>\n      <td>2839</td>\n      <td>90.5</td>\n      <td>37</td>\n      <td>00160</td>\n      <td>Aberdeen town</td>\n      <td>North Carolina</td>\n    </tr>\n    <tr>\n      <th>2</th>\n      <td>Advance CDP, North Carolina</td>\n      <td>334</td>\n      <td>85.2</td>\n      <td>312</td>\n      <td>79.6</td>\n      <td>37</td>\n      <td>00440</td>\n      <td>Advance CDP</td>\n      <td>North Carolina</td>\n    </tr>\n    <tr>\n      <th>3</th>\n      <td>Ahoskie town, North Carolina</td>\n      <td>1542</td>\n      <td>80.9</td>\n      <td>1332</td>\n      <td>69.9</td>\n      <td>37</td>\n      <td>00500</td>\n      <td>Ahoskie town</td>\n      <td>North Carolina</td>\n    </tr>\n    <tr>\n      <th>4</th>\n      <td>Alamance village, North Carolina</td>\n      <td>399</td>\n      <td>95.2</td>\n      <td>387</td>\n      <td>92.4</td>\n      <td>37</td>\n      <td>00640</td>\n      <td>Alamance village</td>\n      <td>North Carolina</td>\n    </tr>\n    <tr>\n      <th>5</th>\n      <td>Albemarle city, North Carolina</td>\n      <td>5255</td>\n      <td>84.0</td>\n      <td>4860</td>\n      <td>77.7</td>\n      <td>37</td>\n      <td>00680</td>\n      <td>Albemarle city</td>\n      <td>North Carolina</td>\n    </tr>\n  </tbody>\n</table>\n</div>"
     },
     "execution_count": 22,
     "metadata": {},
     "output_type": "execute_result"
    }
   ],
   "source": [
    "two_cols = [\"Place_Name\", \"Trash\"]\n",
    "df_place[two_cols] = df_place[\"NAME\"].str.split(',',1, expand=True)\n",
    "\n",
    "print(df_place.shape)\n",
    "df_place.head()"
   ],
   "metadata": {
    "collapsed": false
   }
  },
  {
   "cell_type": "markdown",
   "source": [
    "### Renaming the columns"
   ],
   "metadata": {
    "collapsed": false
   }
  },
  {
   "cell_type": "code",
   "execution_count": 23,
   "outputs": [
    {
     "name": "stdout",
     "output_type": "stream",
     "text": [
      "(776, 9)\n"
     ]
    },
    {
     "name": "stderr",
     "output_type": "stream",
     "text": [
      "/tmp/ipykernel_318581/964636366.py:1: SettingWithCopyWarning: \n",
      "A value is trying to be set on a copy of a slice from a DataFrame\n",
      "\n",
      "See the caveats in the documentation: https://pandas.pydata.org/pandas-docs/stable/user_guide/indexing.html#returning-a-view-versus-a-copy\n",
      "  df_place.rename(columns={\"DP02_0153E\": \"Total_Computer\", \"DP02_0153PE\": \"Total_Computer_Percent\", \"DP02_0154E\": \"Total_Broadband_Internet\", \"DP02_0154PE\": \"Total_Broadband_Internet_Percent\", \"state\": \"State_FIPS\", \"place\": \"Place_FIPS\"}, inplace=True)\n"
     ]
    },
    {
     "data": {
      "text/plain": "0                              NAME Total_Computer Total_Computer_Percent  \\\n1     Aberdeen town, North Carolina           2842                   90.6   \n2       Advance CDP, North Carolina            334                   85.2   \n3      Ahoskie town, North Carolina           1542                   80.9   \n4  Alamance village, North Carolina            399                   95.2   \n5    Albemarle city, North Carolina           5255                   84.0   \n\n0 Total_Broadband_Internet Total_Broadband_Internet_Percent State_FIPS  \\\n1                     2839                             90.5         37   \n2                      312                             79.6         37   \n3                     1332                             69.9         37   \n4                      387                             92.4         37   \n5                     4860                             77.7         37   \n\n0 Place_FIPS        Place_Name            Trash  \n1      00160     Aberdeen town   North Carolina  \n2      00440       Advance CDP   North Carolina  \n3      00500      Ahoskie town   North Carolina  \n4      00640  Alamance village   North Carolina  \n5      00680    Albemarle city   North Carolina  ",
      "text/html": "<div>\n<style scoped>\n    .dataframe tbody tr th:only-of-type {\n        vertical-align: middle;\n    }\n\n    .dataframe tbody tr th {\n        vertical-align: top;\n    }\n\n    .dataframe thead th {\n        text-align: right;\n    }\n</style>\n<table border=\"1\" class=\"dataframe\">\n  <thead>\n    <tr style=\"text-align: right;\">\n      <th></th>\n      <th>NAME</th>\n      <th>Total_Computer</th>\n      <th>Total_Computer_Percent</th>\n      <th>Total_Broadband_Internet</th>\n      <th>Total_Broadband_Internet_Percent</th>\n      <th>State_FIPS</th>\n      <th>Place_FIPS</th>\n      <th>Place_Name</th>\n      <th>Trash</th>\n    </tr>\n  </thead>\n  <tbody>\n    <tr>\n      <th>1</th>\n      <td>Aberdeen town, North Carolina</td>\n      <td>2842</td>\n      <td>90.6</td>\n      <td>2839</td>\n      <td>90.5</td>\n      <td>37</td>\n      <td>00160</td>\n      <td>Aberdeen town</td>\n      <td>North Carolina</td>\n    </tr>\n    <tr>\n      <th>2</th>\n      <td>Advance CDP, North Carolina</td>\n      <td>334</td>\n      <td>85.2</td>\n      <td>312</td>\n      <td>79.6</td>\n      <td>37</td>\n      <td>00440</td>\n      <td>Advance CDP</td>\n      <td>North Carolina</td>\n    </tr>\n    <tr>\n      <th>3</th>\n      <td>Ahoskie town, North Carolina</td>\n      <td>1542</td>\n      <td>80.9</td>\n      <td>1332</td>\n      <td>69.9</td>\n      <td>37</td>\n      <td>00500</td>\n      <td>Ahoskie town</td>\n      <td>North Carolina</td>\n    </tr>\n    <tr>\n      <th>4</th>\n      <td>Alamance village, North Carolina</td>\n      <td>399</td>\n      <td>95.2</td>\n      <td>387</td>\n      <td>92.4</td>\n      <td>37</td>\n      <td>00640</td>\n      <td>Alamance village</td>\n      <td>North Carolina</td>\n    </tr>\n    <tr>\n      <th>5</th>\n      <td>Albemarle city, North Carolina</td>\n      <td>5255</td>\n      <td>84.0</td>\n      <td>4860</td>\n      <td>77.7</td>\n      <td>37</td>\n      <td>00680</td>\n      <td>Albemarle city</td>\n      <td>North Carolina</td>\n    </tr>\n  </tbody>\n</table>\n</div>"
     },
     "execution_count": 23,
     "metadata": {},
     "output_type": "execute_result"
    }
   ],
   "source": [
    "df_place.rename(columns={\"DP02_0153E\": \"Total_Computer\", \"DP02_0153PE\": \"Total_Computer_Percent\", \"DP02_0154E\": \"Total_Broadband_Internet\", \"DP02_0154PE\": \"Total_Broadband_Internet_Percent\", \"state\": \"State_FIPS\", \"place\": \"Place_FIPS\"}, inplace=True)\n",
    "\n",
    "print(df_place.shape)\n",
    "df_place.head()"
   ],
   "metadata": {
    "collapsed": false
   }
  },
  {
   "cell_type": "markdown",
   "source": [
    "### Convert to ints and floats"
   ],
   "metadata": {
    "collapsed": false
   }
  },
  {
   "cell_type": "code",
   "execution_count": 24,
   "outputs": [
    {
     "data": {
      "text/plain": "0\nNAME                                object\nTotal_Computer                      object\nTotal_Computer_Percent              object\nTotal_Broadband_Internet            object\nTotal_Broadband_Internet_Percent    object\nState_FIPS                          object\nPlace_FIPS                          object\nPlace_Name                          object\nTrash                               object\ndtype: object"
     },
     "execution_count": 24,
     "metadata": {},
     "output_type": "execute_result"
    }
   ],
   "source": [
    "df_place.dtypes"
   ],
   "metadata": {
    "collapsed": false
   }
  },
  {
   "cell_type": "code",
   "execution_count": 25,
   "outputs": [
    {
     "name": "stderr",
     "output_type": "stream",
     "text": [
      "/tmp/ipykernel_318581/67773317.py:1: SettingWithCopyWarning: \n",
      "A value is trying to be set on a copy of a slice from a DataFrame.\n",
      "Try using .loc[row_indexer,col_indexer] = value instead\n",
      "\n",
      "See the caveats in the documentation: https://pandas.pydata.org/pandas-docs/stable/user_guide/indexing.html#returning-a-view-versus-a-copy\n",
      "  df_place[\"Total_Computer\"] = pd.to_numeric(df_place[\"Total_Computer\"]).astype(int)\n",
      "/tmp/ipykernel_318581/67773317.py:2: SettingWithCopyWarning: \n",
      "A value is trying to be set on a copy of a slice from a DataFrame.\n",
      "Try using .loc[row_indexer,col_indexer] = value instead\n",
      "\n",
      "See the caveats in the documentation: https://pandas.pydata.org/pandas-docs/stable/user_guide/indexing.html#returning-a-view-versus-a-copy\n",
      "  df_place[\"Total_Broadband_Internet\"] = pd.to_numeric(df_place[\"Total_Broadband_Internet\"]).astype(int)\n",
      "/tmp/ipykernel_318581/67773317.py:3: SettingWithCopyWarning: \n",
      "A value is trying to be set on a copy of a slice from a DataFrame.\n",
      "Try using .loc[row_indexer,col_indexer] = value instead\n",
      "\n",
      "See the caveats in the documentation: https://pandas.pydata.org/pandas-docs/stable/user_guide/indexing.html#returning-a-view-versus-a-copy\n",
      "  df_place[\"Total_Computer_Percent\"] = pd.to_numeric(df_place[\"Total_Computer_Percent\"]).astype(float)\n",
      "/tmp/ipykernel_318581/67773317.py:4: SettingWithCopyWarning: \n",
      "A value is trying to be set on a copy of a slice from a DataFrame.\n",
      "Try using .loc[row_indexer,col_indexer] = value instead\n",
      "\n",
      "See the caveats in the documentation: https://pandas.pydata.org/pandas-docs/stable/user_guide/indexing.html#returning-a-view-versus-a-copy\n",
      "  df_place[\"Total_Broadband_Internet_Percent\"] = pd.to_numeric(df_place[\"Total_Broadband_Internet_Percent\"]).astype(float)\n"
     ]
    },
    {
     "data": {
      "text/plain": "0\nNAME                                 object\nTotal_Computer                        int64\nTotal_Computer_Percent              float64\nTotal_Broadband_Internet              int64\nTotal_Broadband_Internet_Percent    float64\nState_FIPS                           object\nPlace_FIPS                           object\nPlace_Name                           object\nTrash                                object\ndtype: object"
     },
     "execution_count": 25,
     "metadata": {},
     "output_type": "execute_result"
    }
   ],
   "source": [
    "df_place[\"Total_Computer\"] = pd.to_numeric(df_place[\"Total_Computer\"]).astype(int)\n",
    "df_place[\"Total_Broadband_Internet\"] = pd.to_numeric(df_place[\"Total_Broadband_Internet\"]).astype(int)\n",
    "df_place[\"Total_Computer_Percent\"] = pd.to_numeric(df_place[\"Total_Computer_Percent\"]).astype(float)\n",
    "df_place[\"Total_Broadband_Internet_Percent\"] = pd.to_numeric(df_place[\"Total_Broadband_Internet_Percent\"]).astype(float)\n",
    "\n",
    "df_place.dtypes"
   ],
   "metadata": {
    "collapsed": false
   }
  },
  {
   "cell_type": "markdown",
   "source": [
    "### Make a FIPS_Code column"
   ],
   "metadata": {
    "collapsed": false
   }
  },
  {
   "cell_type": "code",
   "execution_count": 26,
   "outputs": [
    {
     "name": "stdout",
     "output_type": "stream",
     "text": [
      "(776, 10)\n"
     ]
    },
    {
     "name": "stderr",
     "output_type": "stream",
     "text": [
      "/tmp/ipykernel_318581/3143065820.py:1: SettingWithCopyWarning: \n",
      "A value is trying to be set on a copy of a slice from a DataFrame.\n",
      "Try using .loc[row_indexer,col_indexer] = value instead\n",
      "\n",
      "See the caveats in the documentation: https://pandas.pydata.org/pandas-docs/stable/user_guide/indexing.html#returning-a-view-versus-a-copy\n",
      "  df_place[\"FIPS_Code\"] = df_place[\"State_FIPS\"] + df_place[\"Place_FIPS\"]\n"
     ]
    },
    {
     "data": {
      "text/plain": "0                              NAME  Total_Computer  Total_Computer_Percent  \\\n1     Aberdeen town, North Carolina            2842                    90.6   \n2       Advance CDP, North Carolina             334                    85.2   \n3      Ahoskie town, North Carolina            1542                    80.9   \n4  Alamance village, North Carolina             399                    95.2   \n5    Albemarle city, North Carolina            5255                    84.0   \n\n0  Total_Broadband_Internet  Total_Broadband_Internet_Percent State_FIPS  \\\n1                      2839                              90.5         37   \n2                       312                              79.6         37   \n3                      1332                              69.9         37   \n4                       387                              92.4         37   \n5                      4860                              77.7         37   \n\n0 Place_FIPS        Place_Name            Trash FIPS_Code  \n1      00160     Aberdeen town   North Carolina   3700160  \n2      00440       Advance CDP   North Carolina   3700440  \n3      00500      Ahoskie town   North Carolina   3700500  \n4      00640  Alamance village   North Carolina   3700640  \n5      00680    Albemarle city   North Carolina   3700680  ",
      "text/html": "<div>\n<style scoped>\n    .dataframe tbody tr th:only-of-type {\n        vertical-align: middle;\n    }\n\n    .dataframe tbody tr th {\n        vertical-align: top;\n    }\n\n    .dataframe thead th {\n        text-align: right;\n    }\n</style>\n<table border=\"1\" class=\"dataframe\">\n  <thead>\n    <tr style=\"text-align: right;\">\n      <th></th>\n      <th>NAME</th>\n      <th>Total_Computer</th>\n      <th>Total_Computer_Percent</th>\n      <th>Total_Broadband_Internet</th>\n      <th>Total_Broadband_Internet_Percent</th>\n      <th>State_FIPS</th>\n      <th>Place_FIPS</th>\n      <th>Place_Name</th>\n      <th>Trash</th>\n      <th>FIPS_Code</th>\n    </tr>\n  </thead>\n  <tbody>\n    <tr>\n      <th>1</th>\n      <td>Aberdeen town, North Carolina</td>\n      <td>2842</td>\n      <td>90.6</td>\n      <td>2839</td>\n      <td>90.5</td>\n      <td>37</td>\n      <td>00160</td>\n      <td>Aberdeen town</td>\n      <td>North Carolina</td>\n      <td>3700160</td>\n    </tr>\n    <tr>\n      <th>2</th>\n      <td>Advance CDP, North Carolina</td>\n      <td>334</td>\n      <td>85.2</td>\n      <td>312</td>\n      <td>79.6</td>\n      <td>37</td>\n      <td>00440</td>\n      <td>Advance CDP</td>\n      <td>North Carolina</td>\n      <td>3700440</td>\n    </tr>\n    <tr>\n      <th>3</th>\n      <td>Ahoskie town, North Carolina</td>\n      <td>1542</td>\n      <td>80.9</td>\n      <td>1332</td>\n      <td>69.9</td>\n      <td>37</td>\n      <td>00500</td>\n      <td>Ahoskie town</td>\n      <td>North Carolina</td>\n      <td>3700500</td>\n    </tr>\n    <tr>\n      <th>4</th>\n      <td>Alamance village, North Carolina</td>\n      <td>399</td>\n      <td>95.2</td>\n      <td>387</td>\n      <td>92.4</td>\n      <td>37</td>\n      <td>00640</td>\n      <td>Alamance village</td>\n      <td>North Carolina</td>\n      <td>3700640</td>\n    </tr>\n    <tr>\n      <th>5</th>\n      <td>Albemarle city, North Carolina</td>\n      <td>5255</td>\n      <td>84.0</td>\n      <td>4860</td>\n      <td>77.7</td>\n      <td>37</td>\n      <td>00680</td>\n      <td>Albemarle city</td>\n      <td>North Carolina</td>\n      <td>3700680</td>\n    </tr>\n  </tbody>\n</table>\n</div>"
     },
     "execution_count": 26,
     "metadata": {},
     "output_type": "execute_result"
    }
   ],
   "source": [
    "df_place[\"FIPS_Code\"] = df_place[\"State_FIPS\"] + df_place[\"Place_FIPS\"]\n",
    "\n",
    "print(df_place.shape)\n",
    "df_place.head()"
   ],
   "metadata": {
    "collapsed": false
   }
  },
  {
   "cell_type": "markdown",
   "source": [
    "### Reorder and remove columns"
   ],
   "metadata": {
    "collapsed": false
   }
  },
  {
   "cell_type": "code",
   "execution_count": 27,
   "outputs": [
    {
     "name": "stdout",
     "output_type": "stream",
     "text": [
      "(776, 8)\n"
     ]
    },
    {
     "data": {
      "text/plain": "0        Place_Name State_FIPS Place_FIPS FIPS_Code  Total_Computer  \\\n1     Aberdeen town         37      00160   3700160            2842   \n2       Advance CDP         37      00440   3700440             334   \n3      Ahoskie town         37      00500   3700500            1542   \n4  Alamance village         37      00640   3700640             399   \n5    Albemarle city         37      00680   3700680            5255   \n\n0  Total_Computer_Percent  Total_Broadband_Internet  \\\n1                    90.6                      2839   \n2                    85.2                       312   \n3                    80.9                      1332   \n4                    95.2                       387   \n5                    84.0                      4860   \n\n0  Total_Broadband_Internet_Percent  \n1                              90.5  \n2                              79.6  \n3                              69.9  \n4                              92.4  \n5                              77.7  ",
      "text/html": "<div>\n<style scoped>\n    .dataframe tbody tr th:only-of-type {\n        vertical-align: middle;\n    }\n\n    .dataframe tbody tr th {\n        vertical-align: top;\n    }\n\n    .dataframe thead th {\n        text-align: right;\n    }\n</style>\n<table border=\"1\" class=\"dataframe\">\n  <thead>\n    <tr style=\"text-align: right;\">\n      <th></th>\n      <th>Place_Name</th>\n      <th>State_FIPS</th>\n      <th>Place_FIPS</th>\n      <th>FIPS_Code</th>\n      <th>Total_Computer</th>\n      <th>Total_Computer_Percent</th>\n      <th>Total_Broadband_Internet</th>\n      <th>Total_Broadband_Internet_Percent</th>\n    </tr>\n  </thead>\n  <tbody>\n    <tr>\n      <th>1</th>\n      <td>Aberdeen town</td>\n      <td>37</td>\n      <td>00160</td>\n      <td>3700160</td>\n      <td>2842</td>\n      <td>90.6</td>\n      <td>2839</td>\n      <td>90.5</td>\n    </tr>\n    <tr>\n      <th>2</th>\n      <td>Advance CDP</td>\n      <td>37</td>\n      <td>00440</td>\n      <td>3700440</td>\n      <td>334</td>\n      <td>85.2</td>\n      <td>312</td>\n      <td>79.6</td>\n    </tr>\n    <tr>\n      <th>3</th>\n      <td>Ahoskie town</td>\n      <td>37</td>\n      <td>00500</td>\n      <td>3700500</td>\n      <td>1542</td>\n      <td>80.9</td>\n      <td>1332</td>\n      <td>69.9</td>\n    </tr>\n    <tr>\n      <th>4</th>\n      <td>Alamance village</td>\n      <td>37</td>\n      <td>00640</td>\n      <td>3700640</td>\n      <td>399</td>\n      <td>95.2</td>\n      <td>387</td>\n      <td>92.4</td>\n    </tr>\n    <tr>\n      <th>5</th>\n      <td>Albemarle city</td>\n      <td>37</td>\n      <td>00680</td>\n      <td>3700680</td>\n      <td>5255</td>\n      <td>84.0</td>\n      <td>4860</td>\n      <td>77.7</td>\n    </tr>\n  </tbody>\n</table>\n</div>"
     },
     "execution_count": 27,
     "metadata": {},
     "output_type": "execute_result"
    }
   ],
   "source": [
    "cols_to_keep = [\"Place_Name\", \"State_FIPS\", \"Place_FIPS\", \"FIPS_Code\", \"Total_Computer\", \"Total_Computer_Percent\", \"Total_Broadband_Internet\", \"Total_Broadband_Internet_Percent\"]\n",
    "df_place = df_place[cols_to_keep]\n",
    "\n",
    "print(df_place.shape)\n",
    "df_place.head()"
   ],
   "metadata": {
    "collapsed": false
   }
  },
  {
   "cell_type": "markdown",
   "source": [
    "### Save to CSV"
   ],
   "metadata": {
    "collapsed": false
   }
  },
  {
   "cell_type": "code",
   "execution_count": 28,
   "outputs": [],
   "source": [
    "csv_file_to_create = \"Place_Computer_Internet.csv\"\n",
    "\n",
    "filename_with_path = \"Data/\" + csv_file_to_create\n",
    "df_place.to_csv(filename_with_path, index=False)"
   ],
   "metadata": {
    "collapsed": false
   }
  }
 ],
 "metadata": {
  "kernelspec": {
   "display_name": "Python 3",
   "language": "python",
   "name": "python3"
  },
  "language_info": {
   "codemirror_mode": {
    "name": "ipython",
    "version": 2
   },
   "file_extension": ".py",
   "mimetype": "text/x-python",
   "name": "python",
   "nbconvert_exporter": "python",
   "pygments_lexer": "ipython2",
   "version": "2.7.6"
  }
 },
 "nbformat": 4,
 "nbformat_minor": 0
}
