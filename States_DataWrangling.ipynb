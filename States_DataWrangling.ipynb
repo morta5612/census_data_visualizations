{
 "cells": [
  {
   "cell_type": "markdown",
   "source": [
    "# Question: Which states have the highest and lowest percentage of computer and internet access?\n",
    "* Data source: acs/acs5/profile for states (https://api.census.gov/data/2020/acs/acs5/profile?get=NAME,DP02_0153E,DP02_0153PE,DP02_0154E,DP02_0154PE&for=state)\n",
    "* Vintage: 2020\n",
    "* Geography Level: States"
   ],
   "metadata": {
    "collapsed": false
   }
  },
  {
   "cell_type": "markdown",
   "source": [
    "### Imports"
   ],
   "metadata": {
    "collapsed": false
   }
  },
  {
   "cell_type": "code",
   "execution_count": 30,
   "outputs": [],
   "source": [
    "import pandas as pd\n",
    "import requests"
   ],
   "metadata": {
    "collapsed": false
   }
  },
  {
   "cell_type": "markdown",
   "source": [
    "## Skill: Census API Data Retrieval\n",
    "### Build the API request url"
   ],
   "metadata": {
    "collapsed": false
   }
  },
  {
   "cell_type": "code",
   "execution_count": 31,
   "outputs": [
    {
     "name": "stdout",
     "output_type": "stream",
     "text": [
      "request_url =  https://api.census.gov/data/2020/acs/acs5/profile?get=NAME,DP02_0153E,DP02_0153PE,DP02_0154E,DP02_0154PE&for=state:*\n"
     ]
    }
   ],
   "source": [
    "base_url = \"https://api.census.gov/data\"\n",
    "dataset_name = \"/2020/acs/acs5/profile\"\n",
    "get_start = \"?get=\"\n",
    "get_variables = \"NAME,DP02_0153E,DP02_0153PE,DP02_0154E,DP02_0154PE\"\n",
    "geography = \"&for=state:*\"\n",
    "request_url = base_url + dataset_name + get_start + get_variables + geography\n",
    "print(\"request_url = \", request_url)"
   ],
   "metadata": {
    "collapsed": false
   }
  },
  {
   "cell_type": "markdown",
   "source": [
    "### Use *requests* library to make the API call"
   ],
   "metadata": {
    "collapsed": false
   }
  },
  {
   "cell_type": "code",
   "execution_count": 32,
   "outputs": [],
   "source": [
    "r = requests.get(request_url)\n",
    "\n",
    "api_results = r.json()"
   ],
   "metadata": {
    "collapsed": false
   }
  },
  {
   "cell_type": "markdown",
   "source": [
    "### Get the data into a Dataframe"
   ],
   "metadata": {
    "collapsed": false
   }
  },
  {
   "cell_type": "code",
   "execution_count": 33,
   "outputs": [
    {
     "name": "stdout",
     "output_type": "stream",
     "text": [
      "(53, 6)\n"
     ]
    },
    {
     "data": {
      "text/plain": "                       0           1            2           3            4  \\\n0                   NAME  DP02_0153E  DP02_0153PE  DP02_0154E  DP02_0154PE   \n1               Arkansas     1031971         88.2      900851         77.0   \n2             Washington     2755772         94.8     2617889         90.1   \n3                 Kansas     1047658         91.7      964872         84.5   \n4               Oklahoma     1352894         90.6     1220163         81.7   \n5              Wisconsin     2157295         90.7     2013911         84.7   \n6            Mississippi      965947         86.5      846801         75.8   \n7               Missouri     2213727         90.7     2029268         83.2   \n8               Michigan     3625797         91.1     3358996         84.4   \n9           Rhode Island      375980         90.7      358992         86.6   \n10             Minnesota     2046817         92.7     1921524         87.0   \n11                  Iowa     1151928         90.4     1058240         83.1   \n12            New Mexico      698146         88.1      617248         77.9   \n13                Nevada     1058007         93.6      966388         85.5   \n14              Delaware      345186         93.1      324194         87.4   \n15           Puerto Rico        None         None        None         None   \n16              Kentucky     1547842         88.5     1427064         81.6   \n17          South Dakota      313834         90.2      289591         83.2   \n18             Tennessee     2352354         89.1     2151736         81.5   \n19          Pennsylvania     4573026         89.6     4291043         84.0   \n20            California    12360505         94.3    11650839         88.9   \n21         West Virginia      632566         86.2      579140         78.9   \n22                  Utah      964342         96.1      896175         89.3   \n23              New York     6754292         91.1     6320975         85.2   \n24  District of Columbia      268218         93.0      246847         85.6   \n25                Alaska      242325         95.0      222838         87.3   \n26               Florida     7383447         93.1     6775756         85.4   \n27        South Carolina     1769828         90.2     1593308         81.2   \n28          North Dakota      292964         91.3      266498         83.1   \n29                 Maine      518583         91.1      480343         84.3   \n30               Georgia     3522345         92.0     3233397         84.4   \n31               Alabama     1659065         87.9     1509206         79.9   \n32         New Hampshire      505000         93.7      478829         88.8   \n33                Oregon     1545561         94.1     1446350         88.1   \n34               Wyoming      217146         93.1      200362         85.9   \n35               Arizona     2467069         93.3     2288198         86.6   \n36             Louisiana     1543376         88.1     1385094         79.1   \n37               Indiana     2350951         90.3     2164235         83.2   \n38                 Idaho      605316         93.2      558279         86.0   \n39           Connecticut     1274056         92.0     1209432         87.3   \n40                Hawaii      433778         92.7      407533         87.1   \n41              Illinois     4468588         91.5     4168736         85.4   \n42         Massachusetts     2450583         92.6     2335640         88.2   \n43                 Texas     9187393         92.7     8428632         85.1   \n44               Montana      394771         90.5      363179         83.3   \n45              Nebraska      701638         91.5      656006         85.6   \n46                  Ohio     4276409         90.7     3988413         84.5   \n47              Colorado     2028365         94.9     1916108         89.6   \n48            New Jersey     3040126         92.9     2876590         87.9   \n49              Maryland     2088686         93.6     1974696         88.5   \n50              Virginia     2939714         92.3     2740020         86.1   \n51               Vermont      239892         91.3      218071         83.0   \n52        North Carolina     3657447         90.7     3364263         83.4   \n\n        5  \n0   state  \n1      05  \n2      53  \n3      20  \n4      40  \n5      55  \n6      28  \n7      29  \n8      26  \n9      44  \n10     27  \n11     19  \n12     35  \n13     32  \n14     10  \n15     72  \n16     21  \n17     46  \n18     47  \n19     42  \n20     06  \n21     54  \n22     49  \n23     36  \n24     11  \n25     02  \n26     12  \n27     45  \n28     38  \n29     23  \n30     13  \n31     01  \n32     33  \n33     41  \n34     56  \n35     04  \n36     22  \n37     18  \n38     16  \n39     09  \n40     15  \n41     17  \n42     25  \n43     48  \n44     30  \n45     31  \n46     39  \n47     08  \n48     34  \n49     24  \n50     51  \n51     50  \n52     37  ",
      "text/html": "<div>\n<style scoped>\n    .dataframe tbody tr th:only-of-type {\n        vertical-align: middle;\n    }\n\n    .dataframe tbody tr th {\n        vertical-align: top;\n    }\n\n    .dataframe thead th {\n        text-align: right;\n    }\n</style>\n<table border=\"1\" class=\"dataframe\">\n  <thead>\n    <tr style=\"text-align: right;\">\n      <th></th>\n      <th>0</th>\n      <th>1</th>\n      <th>2</th>\n      <th>3</th>\n      <th>4</th>\n      <th>5</th>\n    </tr>\n  </thead>\n  <tbody>\n    <tr>\n      <th>0</th>\n      <td>NAME</td>\n      <td>DP02_0153E</td>\n      <td>DP02_0153PE</td>\n      <td>DP02_0154E</td>\n      <td>DP02_0154PE</td>\n      <td>state</td>\n    </tr>\n    <tr>\n      <th>1</th>\n      <td>Arkansas</td>\n      <td>1031971</td>\n      <td>88.2</td>\n      <td>900851</td>\n      <td>77.0</td>\n      <td>05</td>\n    </tr>\n    <tr>\n      <th>2</th>\n      <td>Washington</td>\n      <td>2755772</td>\n      <td>94.8</td>\n      <td>2617889</td>\n      <td>90.1</td>\n      <td>53</td>\n    </tr>\n    <tr>\n      <th>3</th>\n      <td>Kansas</td>\n      <td>1047658</td>\n      <td>91.7</td>\n      <td>964872</td>\n      <td>84.5</td>\n      <td>20</td>\n    </tr>\n    <tr>\n      <th>4</th>\n      <td>Oklahoma</td>\n      <td>1352894</td>\n      <td>90.6</td>\n      <td>1220163</td>\n      <td>81.7</td>\n      <td>40</td>\n    </tr>\n    <tr>\n      <th>5</th>\n      <td>Wisconsin</td>\n      <td>2157295</td>\n      <td>90.7</td>\n      <td>2013911</td>\n      <td>84.7</td>\n      <td>55</td>\n    </tr>\n    <tr>\n      <th>6</th>\n      <td>Mississippi</td>\n      <td>965947</td>\n      <td>86.5</td>\n      <td>846801</td>\n      <td>75.8</td>\n      <td>28</td>\n    </tr>\n    <tr>\n      <th>7</th>\n      <td>Missouri</td>\n      <td>2213727</td>\n      <td>90.7</td>\n      <td>2029268</td>\n      <td>83.2</td>\n      <td>29</td>\n    </tr>\n    <tr>\n      <th>8</th>\n      <td>Michigan</td>\n      <td>3625797</td>\n      <td>91.1</td>\n      <td>3358996</td>\n      <td>84.4</td>\n      <td>26</td>\n    </tr>\n    <tr>\n      <th>9</th>\n      <td>Rhode Island</td>\n      <td>375980</td>\n      <td>90.7</td>\n      <td>358992</td>\n      <td>86.6</td>\n      <td>44</td>\n    </tr>\n    <tr>\n      <th>10</th>\n      <td>Minnesota</td>\n      <td>2046817</td>\n      <td>92.7</td>\n      <td>1921524</td>\n      <td>87.0</td>\n      <td>27</td>\n    </tr>\n    <tr>\n      <th>11</th>\n      <td>Iowa</td>\n      <td>1151928</td>\n      <td>90.4</td>\n      <td>1058240</td>\n      <td>83.1</td>\n      <td>19</td>\n    </tr>\n    <tr>\n      <th>12</th>\n      <td>New Mexico</td>\n      <td>698146</td>\n      <td>88.1</td>\n      <td>617248</td>\n      <td>77.9</td>\n      <td>35</td>\n    </tr>\n    <tr>\n      <th>13</th>\n      <td>Nevada</td>\n      <td>1058007</td>\n      <td>93.6</td>\n      <td>966388</td>\n      <td>85.5</td>\n      <td>32</td>\n    </tr>\n    <tr>\n      <th>14</th>\n      <td>Delaware</td>\n      <td>345186</td>\n      <td>93.1</td>\n      <td>324194</td>\n      <td>87.4</td>\n      <td>10</td>\n    </tr>\n    <tr>\n      <th>15</th>\n      <td>Puerto Rico</td>\n      <td>None</td>\n      <td>None</td>\n      <td>None</td>\n      <td>None</td>\n      <td>72</td>\n    </tr>\n    <tr>\n      <th>16</th>\n      <td>Kentucky</td>\n      <td>1547842</td>\n      <td>88.5</td>\n      <td>1427064</td>\n      <td>81.6</td>\n      <td>21</td>\n    </tr>\n    <tr>\n      <th>17</th>\n      <td>South Dakota</td>\n      <td>313834</td>\n      <td>90.2</td>\n      <td>289591</td>\n      <td>83.2</td>\n      <td>46</td>\n    </tr>\n    <tr>\n      <th>18</th>\n      <td>Tennessee</td>\n      <td>2352354</td>\n      <td>89.1</td>\n      <td>2151736</td>\n      <td>81.5</td>\n      <td>47</td>\n    </tr>\n    <tr>\n      <th>19</th>\n      <td>Pennsylvania</td>\n      <td>4573026</td>\n      <td>89.6</td>\n      <td>4291043</td>\n      <td>84.0</td>\n      <td>42</td>\n    </tr>\n    <tr>\n      <th>20</th>\n      <td>California</td>\n      <td>12360505</td>\n      <td>94.3</td>\n      <td>11650839</td>\n      <td>88.9</td>\n      <td>06</td>\n    </tr>\n    <tr>\n      <th>21</th>\n      <td>West Virginia</td>\n      <td>632566</td>\n      <td>86.2</td>\n      <td>579140</td>\n      <td>78.9</td>\n      <td>54</td>\n    </tr>\n    <tr>\n      <th>22</th>\n      <td>Utah</td>\n      <td>964342</td>\n      <td>96.1</td>\n      <td>896175</td>\n      <td>89.3</td>\n      <td>49</td>\n    </tr>\n    <tr>\n      <th>23</th>\n      <td>New York</td>\n      <td>6754292</td>\n      <td>91.1</td>\n      <td>6320975</td>\n      <td>85.2</td>\n      <td>36</td>\n    </tr>\n    <tr>\n      <th>24</th>\n      <td>District of Columbia</td>\n      <td>268218</td>\n      <td>93.0</td>\n      <td>246847</td>\n      <td>85.6</td>\n      <td>11</td>\n    </tr>\n    <tr>\n      <th>25</th>\n      <td>Alaska</td>\n      <td>242325</td>\n      <td>95.0</td>\n      <td>222838</td>\n      <td>87.3</td>\n      <td>02</td>\n    </tr>\n    <tr>\n      <th>26</th>\n      <td>Florida</td>\n      <td>7383447</td>\n      <td>93.1</td>\n      <td>6775756</td>\n      <td>85.4</td>\n      <td>12</td>\n    </tr>\n    <tr>\n      <th>27</th>\n      <td>South Carolina</td>\n      <td>1769828</td>\n      <td>90.2</td>\n      <td>1593308</td>\n      <td>81.2</td>\n      <td>45</td>\n    </tr>\n    <tr>\n      <th>28</th>\n      <td>North Dakota</td>\n      <td>292964</td>\n      <td>91.3</td>\n      <td>266498</td>\n      <td>83.1</td>\n      <td>38</td>\n    </tr>\n    <tr>\n      <th>29</th>\n      <td>Maine</td>\n      <td>518583</td>\n      <td>91.1</td>\n      <td>480343</td>\n      <td>84.3</td>\n      <td>23</td>\n    </tr>\n    <tr>\n      <th>30</th>\n      <td>Georgia</td>\n      <td>3522345</td>\n      <td>92.0</td>\n      <td>3233397</td>\n      <td>84.4</td>\n      <td>13</td>\n    </tr>\n    <tr>\n      <th>31</th>\n      <td>Alabama</td>\n      <td>1659065</td>\n      <td>87.9</td>\n      <td>1509206</td>\n      <td>79.9</td>\n      <td>01</td>\n    </tr>\n    <tr>\n      <th>32</th>\n      <td>New Hampshire</td>\n      <td>505000</td>\n      <td>93.7</td>\n      <td>478829</td>\n      <td>88.8</td>\n      <td>33</td>\n    </tr>\n    <tr>\n      <th>33</th>\n      <td>Oregon</td>\n      <td>1545561</td>\n      <td>94.1</td>\n      <td>1446350</td>\n      <td>88.1</td>\n      <td>41</td>\n    </tr>\n    <tr>\n      <th>34</th>\n      <td>Wyoming</td>\n      <td>217146</td>\n      <td>93.1</td>\n      <td>200362</td>\n      <td>85.9</td>\n      <td>56</td>\n    </tr>\n    <tr>\n      <th>35</th>\n      <td>Arizona</td>\n      <td>2467069</td>\n      <td>93.3</td>\n      <td>2288198</td>\n      <td>86.6</td>\n      <td>04</td>\n    </tr>\n    <tr>\n      <th>36</th>\n      <td>Louisiana</td>\n      <td>1543376</td>\n      <td>88.1</td>\n      <td>1385094</td>\n      <td>79.1</td>\n      <td>22</td>\n    </tr>\n    <tr>\n      <th>37</th>\n      <td>Indiana</td>\n      <td>2350951</td>\n      <td>90.3</td>\n      <td>2164235</td>\n      <td>83.2</td>\n      <td>18</td>\n    </tr>\n    <tr>\n      <th>38</th>\n      <td>Idaho</td>\n      <td>605316</td>\n      <td>93.2</td>\n      <td>558279</td>\n      <td>86.0</td>\n      <td>16</td>\n    </tr>\n    <tr>\n      <th>39</th>\n      <td>Connecticut</td>\n      <td>1274056</td>\n      <td>92.0</td>\n      <td>1209432</td>\n      <td>87.3</td>\n      <td>09</td>\n    </tr>\n    <tr>\n      <th>40</th>\n      <td>Hawaii</td>\n      <td>433778</td>\n      <td>92.7</td>\n      <td>407533</td>\n      <td>87.1</td>\n      <td>15</td>\n    </tr>\n    <tr>\n      <th>41</th>\n      <td>Illinois</td>\n      <td>4468588</td>\n      <td>91.5</td>\n      <td>4168736</td>\n      <td>85.4</td>\n      <td>17</td>\n    </tr>\n    <tr>\n      <th>42</th>\n      <td>Massachusetts</td>\n      <td>2450583</td>\n      <td>92.6</td>\n      <td>2335640</td>\n      <td>88.2</td>\n      <td>25</td>\n    </tr>\n    <tr>\n      <th>43</th>\n      <td>Texas</td>\n      <td>9187393</td>\n      <td>92.7</td>\n      <td>8428632</td>\n      <td>85.1</td>\n      <td>48</td>\n    </tr>\n    <tr>\n      <th>44</th>\n      <td>Montana</td>\n      <td>394771</td>\n      <td>90.5</td>\n      <td>363179</td>\n      <td>83.3</td>\n      <td>30</td>\n    </tr>\n    <tr>\n      <th>45</th>\n      <td>Nebraska</td>\n      <td>701638</td>\n      <td>91.5</td>\n      <td>656006</td>\n      <td>85.6</td>\n      <td>31</td>\n    </tr>\n    <tr>\n      <th>46</th>\n      <td>Ohio</td>\n      <td>4276409</td>\n      <td>90.7</td>\n      <td>3988413</td>\n      <td>84.5</td>\n      <td>39</td>\n    </tr>\n    <tr>\n      <th>47</th>\n      <td>Colorado</td>\n      <td>2028365</td>\n      <td>94.9</td>\n      <td>1916108</td>\n      <td>89.6</td>\n      <td>08</td>\n    </tr>\n    <tr>\n      <th>48</th>\n      <td>New Jersey</td>\n      <td>3040126</td>\n      <td>92.9</td>\n      <td>2876590</td>\n      <td>87.9</td>\n      <td>34</td>\n    </tr>\n    <tr>\n      <th>49</th>\n      <td>Maryland</td>\n      <td>2088686</td>\n      <td>93.6</td>\n      <td>1974696</td>\n      <td>88.5</td>\n      <td>24</td>\n    </tr>\n    <tr>\n      <th>50</th>\n      <td>Virginia</td>\n      <td>2939714</td>\n      <td>92.3</td>\n      <td>2740020</td>\n      <td>86.1</td>\n      <td>51</td>\n    </tr>\n    <tr>\n      <th>51</th>\n      <td>Vermont</td>\n      <td>239892</td>\n      <td>91.3</td>\n      <td>218071</td>\n      <td>83.0</td>\n      <td>50</td>\n    </tr>\n    <tr>\n      <th>52</th>\n      <td>North Carolina</td>\n      <td>3657447</td>\n      <td>90.7</td>\n      <td>3364263</td>\n      <td>83.4</td>\n      <td>37</td>\n    </tr>\n  </tbody>\n</table>\n</div>"
     },
     "execution_count": 33,
     "metadata": {},
     "output_type": "execute_result"
    }
   ],
   "source": [
    "df_state = pd.DataFrame(api_results)\n",
    "\n",
    "print(df_state.shape)\n",
    "df_state"
   ],
   "metadata": {
    "collapsed": false
   }
  },
  {
   "cell_type": "markdown",
   "source": [
    "### Getting the first row into the columns & removing"
   ],
   "metadata": {
    "collapsed": false
   }
  },
  {
   "cell_type": "code",
   "execution_count": 34,
   "outputs": [
    {
     "name": "stdout",
     "output_type": "stream",
     "text": [
      "0           NAME\n",
      "1     DP02_0153E\n",
      "2    DP02_0153PE\n",
      "3     DP02_0154E\n",
      "4    DP02_0154PE\n",
      "5          state\n",
      "Name: 0, dtype: object\n"
     ]
    }
   ],
   "source": [
    "column_names = df_state.iloc[0]\n",
    "\n",
    "print(column_names)"
   ],
   "metadata": {
    "collapsed": false
   }
  },
  {
   "cell_type": "code",
   "execution_count": 35,
   "outputs": [
    {
     "name": "stdout",
     "output_type": "stream",
     "text": [
      "(53, 6)\n"
     ]
    },
    {
     "data": {
      "text/plain": "0        NAME  DP02_0153E  DP02_0153PE  DP02_0154E  DP02_0154PE  state\n0        NAME  DP02_0153E  DP02_0153PE  DP02_0154E  DP02_0154PE  state\n1    Arkansas     1031971         88.2      900851         77.0     05\n2  Washington     2755772         94.8     2617889         90.1     53\n3      Kansas     1047658         91.7      964872         84.5     20\n4    Oklahoma     1352894         90.6     1220163         81.7     40",
      "text/html": "<div>\n<style scoped>\n    .dataframe tbody tr th:only-of-type {\n        vertical-align: middle;\n    }\n\n    .dataframe tbody tr th {\n        vertical-align: top;\n    }\n\n    .dataframe thead th {\n        text-align: right;\n    }\n</style>\n<table border=\"1\" class=\"dataframe\">\n  <thead>\n    <tr style=\"text-align: right;\">\n      <th></th>\n      <th>NAME</th>\n      <th>DP02_0153E</th>\n      <th>DP02_0153PE</th>\n      <th>DP02_0154E</th>\n      <th>DP02_0154PE</th>\n      <th>state</th>\n    </tr>\n  </thead>\n  <tbody>\n    <tr>\n      <th>0</th>\n      <td>NAME</td>\n      <td>DP02_0153E</td>\n      <td>DP02_0153PE</td>\n      <td>DP02_0154E</td>\n      <td>DP02_0154PE</td>\n      <td>state</td>\n    </tr>\n    <tr>\n      <th>1</th>\n      <td>Arkansas</td>\n      <td>1031971</td>\n      <td>88.2</td>\n      <td>900851</td>\n      <td>77.0</td>\n      <td>05</td>\n    </tr>\n    <tr>\n      <th>2</th>\n      <td>Washington</td>\n      <td>2755772</td>\n      <td>94.8</td>\n      <td>2617889</td>\n      <td>90.1</td>\n      <td>53</td>\n    </tr>\n    <tr>\n      <th>3</th>\n      <td>Kansas</td>\n      <td>1047658</td>\n      <td>91.7</td>\n      <td>964872</td>\n      <td>84.5</td>\n      <td>20</td>\n    </tr>\n    <tr>\n      <th>4</th>\n      <td>Oklahoma</td>\n      <td>1352894</td>\n      <td>90.6</td>\n      <td>1220163</td>\n      <td>81.7</td>\n      <td>40</td>\n    </tr>\n  </tbody>\n</table>\n</div>"
     },
     "execution_count": 35,
     "metadata": {},
     "output_type": "execute_result"
    }
   ],
   "source": [
    "df_state.columns = column_names\n",
    "\n",
    "print(df_state.shape)\n",
    "df_state.head()"
   ],
   "metadata": {
    "collapsed": false
   }
  },
  {
   "cell_type": "code",
   "execution_count": 36,
   "outputs": [
    {
     "name": "stdout",
     "output_type": "stream",
     "text": [
      "(52, 6)\n"
     ]
    },
    {
     "data": {
      "text/plain": "0                   NAME DP02_0153E DP02_0153PE DP02_0154E DP02_0154PE state\n1               Arkansas    1031971        88.2     900851        77.0    05\n2             Washington    2755772        94.8    2617889        90.1    53\n3                 Kansas    1047658        91.7     964872        84.5    20\n4               Oklahoma    1352894        90.6    1220163        81.7    40\n5              Wisconsin    2157295        90.7    2013911        84.7    55\n6            Mississippi     965947        86.5     846801        75.8    28\n7               Missouri    2213727        90.7    2029268        83.2    29\n8               Michigan    3625797        91.1    3358996        84.4    26\n9           Rhode Island     375980        90.7     358992        86.6    44\n10             Minnesota    2046817        92.7    1921524        87.0    27\n11                  Iowa    1151928        90.4    1058240        83.1    19\n12            New Mexico     698146        88.1     617248        77.9    35\n13                Nevada    1058007        93.6     966388        85.5    32\n14              Delaware     345186        93.1     324194        87.4    10\n15           Puerto Rico       None        None       None        None    72\n16              Kentucky    1547842        88.5    1427064        81.6    21\n17          South Dakota     313834        90.2     289591        83.2    46\n18             Tennessee    2352354        89.1    2151736        81.5    47\n19          Pennsylvania    4573026        89.6    4291043        84.0    42\n20            California   12360505        94.3   11650839        88.9    06\n21         West Virginia     632566        86.2     579140        78.9    54\n22                  Utah     964342        96.1     896175        89.3    49\n23              New York    6754292        91.1    6320975        85.2    36\n24  District of Columbia     268218        93.0     246847        85.6    11\n25                Alaska     242325        95.0     222838        87.3    02\n26               Florida    7383447        93.1    6775756        85.4    12\n27        South Carolina    1769828        90.2    1593308        81.2    45\n28          North Dakota     292964        91.3     266498        83.1    38\n29                 Maine     518583        91.1     480343        84.3    23\n30               Georgia    3522345        92.0    3233397        84.4    13\n31               Alabama    1659065        87.9    1509206        79.9    01\n32         New Hampshire     505000        93.7     478829        88.8    33\n33                Oregon    1545561        94.1    1446350        88.1    41\n34               Wyoming     217146        93.1     200362        85.9    56\n35               Arizona    2467069        93.3    2288198        86.6    04\n36             Louisiana    1543376        88.1    1385094        79.1    22\n37               Indiana    2350951        90.3    2164235        83.2    18\n38                 Idaho     605316        93.2     558279        86.0    16\n39           Connecticut    1274056        92.0    1209432        87.3    09\n40                Hawaii     433778        92.7     407533        87.1    15\n41              Illinois    4468588        91.5    4168736        85.4    17\n42         Massachusetts    2450583        92.6    2335640        88.2    25\n43                 Texas    9187393        92.7    8428632        85.1    48\n44               Montana     394771        90.5     363179        83.3    30\n45              Nebraska     701638        91.5     656006        85.6    31\n46                  Ohio    4276409        90.7    3988413        84.5    39\n47              Colorado    2028365        94.9    1916108        89.6    08\n48            New Jersey    3040126        92.9    2876590        87.9    34\n49              Maryland    2088686        93.6    1974696        88.5    24\n50              Virginia    2939714        92.3    2740020        86.1    51\n51               Vermont     239892        91.3     218071        83.0    50\n52        North Carolina    3657447        90.7    3364263        83.4    37",
      "text/html": "<div>\n<style scoped>\n    .dataframe tbody tr th:only-of-type {\n        vertical-align: middle;\n    }\n\n    .dataframe tbody tr th {\n        vertical-align: top;\n    }\n\n    .dataframe thead th {\n        text-align: right;\n    }\n</style>\n<table border=\"1\" class=\"dataframe\">\n  <thead>\n    <tr style=\"text-align: right;\">\n      <th></th>\n      <th>NAME</th>\n      <th>DP02_0153E</th>\n      <th>DP02_0153PE</th>\n      <th>DP02_0154E</th>\n      <th>DP02_0154PE</th>\n      <th>state</th>\n    </tr>\n  </thead>\n  <tbody>\n    <tr>\n      <th>1</th>\n      <td>Arkansas</td>\n      <td>1031971</td>\n      <td>88.2</td>\n      <td>900851</td>\n      <td>77.0</td>\n      <td>05</td>\n    </tr>\n    <tr>\n      <th>2</th>\n      <td>Washington</td>\n      <td>2755772</td>\n      <td>94.8</td>\n      <td>2617889</td>\n      <td>90.1</td>\n      <td>53</td>\n    </tr>\n    <tr>\n      <th>3</th>\n      <td>Kansas</td>\n      <td>1047658</td>\n      <td>91.7</td>\n      <td>964872</td>\n      <td>84.5</td>\n      <td>20</td>\n    </tr>\n    <tr>\n      <th>4</th>\n      <td>Oklahoma</td>\n      <td>1352894</td>\n      <td>90.6</td>\n      <td>1220163</td>\n      <td>81.7</td>\n      <td>40</td>\n    </tr>\n    <tr>\n      <th>5</th>\n      <td>Wisconsin</td>\n      <td>2157295</td>\n      <td>90.7</td>\n      <td>2013911</td>\n      <td>84.7</td>\n      <td>55</td>\n    </tr>\n    <tr>\n      <th>6</th>\n      <td>Mississippi</td>\n      <td>965947</td>\n      <td>86.5</td>\n      <td>846801</td>\n      <td>75.8</td>\n      <td>28</td>\n    </tr>\n    <tr>\n      <th>7</th>\n      <td>Missouri</td>\n      <td>2213727</td>\n      <td>90.7</td>\n      <td>2029268</td>\n      <td>83.2</td>\n      <td>29</td>\n    </tr>\n    <tr>\n      <th>8</th>\n      <td>Michigan</td>\n      <td>3625797</td>\n      <td>91.1</td>\n      <td>3358996</td>\n      <td>84.4</td>\n      <td>26</td>\n    </tr>\n    <tr>\n      <th>9</th>\n      <td>Rhode Island</td>\n      <td>375980</td>\n      <td>90.7</td>\n      <td>358992</td>\n      <td>86.6</td>\n      <td>44</td>\n    </tr>\n    <tr>\n      <th>10</th>\n      <td>Minnesota</td>\n      <td>2046817</td>\n      <td>92.7</td>\n      <td>1921524</td>\n      <td>87.0</td>\n      <td>27</td>\n    </tr>\n    <tr>\n      <th>11</th>\n      <td>Iowa</td>\n      <td>1151928</td>\n      <td>90.4</td>\n      <td>1058240</td>\n      <td>83.1</td>\n      <td>19</td>\n    </tr>\n    <tr>\n      <th>12</th>\n      <td>New Mexico</td>\n      <td>698146</td>\n      <td>88.1</td>\n      <td>617248</td>\n      <td>77.9</td>\n      <td>35</td>\n    </tr>\n    <tr>\n      <th>13</th>\n      <td>Nevada</td>\n      <td>1058007</td>\n      <td>93.6</td>\n      <td>966388</td>\n      <td>85.5</td>\n      <td>32</td>\n    </tr>\n    <tr>\n      <th>14</th>\n      <td>Delaware</td>\n      <td>345186</td>\n      <td>93.1</td>\n      <td>324194</td>\n      <td>87.4</td>\n      <td>10</td>\n    </tr>\n    <tr>\n      <th>15</th>\n      <td>Puerto Rico</td>\n      <td>None</td>\n      <td>None</td>\n      <td>None</td>\n      <td>None</td>\n      <td>72</td>\n    </tr>\n    <tr>\n      <th>16</th>\n      <td>Kentucky</td>\n      <td>1547842</td>\n      <td>88.5</td>\n      <td>1427064</td>\n      <td>81.6</td>\n      <td>21</td>\n    </tr>\n    <tr>\n      <th>17</th>\n      <td>South Dakota</td>\n      <td>313834</td>\n      <td>90.2</td>\n      <td>289591</td>\n      <td>83.2</td>\n      <td>46</td>\n    </tr>\n    <tr>\n      <th>18</th>\n      <td>Tennessee</td>\n      <td>2352354</td>\n      <td>89.1</td>\n      <td>2151736</td>\n      <td>81.5</td>\n      <td>47</td>\n    </tr>\n    <tr>\n      <th>19</th>\n      <td>Pennsylvania</td>\n      <td>4573026</td>\n      <td>89.6</td>\n      <td>4291043</td>\n      <td>84.0</td>\n      <td>42</td>\n    </tr>\n    <tr>\n      <th>20</th>\n      <td>California</td>\n      <td>12360505</td>\n      <td>94.3</td>\n      <td>11650839</td>\n      <td>88.9</td>\n      <td>06</td>\n    </tr>\n    <tr>\n      <th>21</th>\n      <td>West Virginia</td>\n      <td>632566</td>\n      <td>86.2</td>\n      <td>579140</td>\n      <td>78.9</td>\n      <td>54</td>\n    </tr>\n    <tr>\n      <th>22</th>\n      <td>Utah</td>\n      <td>964342</td>\n      <td>96.1</td>\n      <td>896175</td>\n      <td>89.3</td>\n      <td>49</td>\n    </tr>\n    <tr>\n      <th>23</th>\n      <td>New York</td>\n      <td>6754292</td>\n      <td>91.1</td>\n      <td>6320975</td>\n      <td>85.2</td>\n      <td>36</td>\n    </tr>\n    <tr>\n      <th>24</th>\n      <td>District of Columbia</td>\n      <td>268218</td>\n      <td>93.0</td>\n      <td>246847</td>\n      <td>85.6</td>\n      <td>11</td>\n    </tr>\n    <tr>\n      <th>25</th>\n      <td>Alaska</td>\n      <td>242325</td>\n      <td>95.0</td>\n      <td>222838</td>\n      <td>87.3</td>\n      <td>02</td>\n    </tr>\n    <tr>\n      <th>26</th>\n      <td>Florida</td>\n      <td>7383447</td>\n      <td>93.1</td>\n      <td>6775756</td>\n      <td>85.4</td>\n      <td>12</td>\n    </tr>\n    <tr>\n      <th>27</th>\n      <td>South Carolina</td>\n      <td>1769828</td>\n      <td>90.2</td>\n      <td>1593308</td>\n      <td>81.2</td>\n      <td>45</td>\n    </tr>\n    <tr>\n      <th>28</th>\n      <td>North Dakota</td>\n      <td>292964</td>\n      <td>91.3</td>\n      <td>266498</td>\n      <td>83.1</td>\n      <td>38</td>\n    </tr>\n    <tr>\n      <th>29</th>\n      <td>Maine</td>\n      <td>518583</td>\n      <td>91.1</td>\n      <td>480343</td>\n      <td>84.3</td>\n      <td>23</td>\n    </tr>\n    <tr>\n      <th>30</th>\n      <td>Georgia</td>\n      <td>3522345</td>\n      <td>92.0</td>\n      <td>3233397</td>\n      <td>84.4</td>\n      <td>13</td>\n    </tr>\n    <tr>\n      <th>31</th>\n      <td>Alabama</td>\n      <td>1659065</td>\n      <td>87.9</td>\n      <td>1509206</td>\n      <td>79.9</td>\n      <td>01</td>\n    </tr>\n    <tr>\n      <th>32</th>\n      <td>New Hampshire</td>\n      <td>505000</td>\n      <td>93.7</td>\n      <td>478829</td>\n      <td>88.8</td>\n      <td>33</td>\n    </tr>\n    <tr>\n      <th>33</th>\n      <td>Oregon</td>\n      <td>1545561</td>\n      <td>94.1</td>\n      <td>1446350</td>\n      <td>88.1</td>\n      <td>41</td>\n    </tr>\n    <tr>\n      <th>34</th>\n      <td>Wyoming</td>\n      <td>217146</td>\n      <td>93.1</td>\n      <td>200362</td>\n      <td>85.9</td>\n      <td>56</td>\n    </tr>\n    <tr>\n      <th>35</th>\n      <td>Arizona</td>\n      <td>2467069</td>\n      <td>93.3</td>\n      <td>2288198</td>\n      <td>86.6</td>\n      <td>04</td>\n    </tr>\n    <tr>\n      <th>36</th>\n      <td>Louisiana</td>\n      <td>1543376</td>\n      <td>88.1</td>\n      <td>1385094</td>\n      <td>79.1</td>\n      <td>22</td>\n    </tr>\n    <tr>\n      <th>37</th>\n      <td>Indiana</td>\n      <td>2350951</td>\n      <td>90.3</td>\n      <td>2164235</td>\n      <td>83.2</td>\n      <td>18</td>\n    </tr>\n    <tr>\n      <th>38</th>\n      <td>Idaho</td>\n      <td>605316</td>\n      <td>93.2</td>\n      <td>558279</td>\n      <td>86.0</td>\n      <td>16</td>\n    </tr>\n    <tr>\n      <th>39</th>\n      <td>Connecticut</td>\n      <td>1274056</td>\n      <td>92.0</td>\n      <td>1209432</td>\n      <td>87.3</td>\n      <td>09</td>\n    </tr>\n    <tr>\n      <th>40</th>\n      <td>Hawaii</td>\n      <td>433778</td>\n      <td>92.7</td>\n      <td>407533</td>\n      <td>87.1</td>\n      <td>15</td>\n    </tr>\n    <tr>\n      <th>41</th>\n      <td>Illinois</td>\n      <td>4468588</td>\n      <td>91.5</td>\n      <td>4168736</td>\n      <td>85.4</td>\n      <td>17</td>\n    </tr>\n    <tr>\n      <th>42</th>\n      <td>Massachusetts</td>\n      <td>2450583</td>\n      <td>92.6</td>\n      <td>2335640</td>\n      <td>88.2</td>\n      <td>25</td>\n    </tr>\n    <tr>\n      <th>43</th>\n      <td>Texas</td>\n      <td>9187393</td>\n      <td>92.7</td>\n      <td>8428632</td>\n      <td>85.1</td>\n      <td>48</td>\n    </tr>\n    <tr>\n      <th>44</th>\n      <td>Montana</td>\n      <td>394771</td>\n      <td>90.5</td>\n      <td>363179</td>\n      <td>83.3</td>\n      <td>30</td>\n    </tr>\n    <tr>\n      <th>45</th>\n      <td>Nebraska</td>\n      <td>701638</td>\n      <td>91.5</td>\n      <td>656006</td>\n      <td>85.6</td>\n      <td>31</td>\n    </tr>\n    <tr>\n      <th>46</th>\n      <td>Ohio</td>\n      <td>4276409</td>\n      <td>90.7</td>\n      <td>3988413</td>\n      <td>84.5</td>\n      <td>39</td>\n    </tr>\n    <tr>\n      <th>47</th>\n      <td>Colorado</td>\n      <td>2028365</td>\n      <td>94.9</td>\n      <td>1916108</td>\n      <td>89.6</td>\n      <td>08</td>\n    </tr>\n    <tr>\n      <th>48</th>\n      <td>New Jersey</td>\n      <td>3040126</td>\n      <td>92.9</td>\n      <td>2876590</td>\n      <td>87.9</td>\n      <td>34</td>\n    </tr>\n    <tr>\n      <th>49</th>\n      <td>Maryland</td>\n      <td>2088686</td>\n      <td>93.6</td>\n      <td>1974696</td>\n      <td>88.5</td>\n      <td>24</td>\n    </tr>\n    <tr>\n      <th>50</th>\n      <td>Virginia</td>\n      <td>2939714</td>\n      <td>92.3</td>\n      <td>2740020</td>\n      <td>86.1</td>\n      <td>51</td>\n    </tr>\n    <tr>\n      <th>51</th>\n      <td>Vermont</td>\n      <td>239892</td>\n      <td>91.3</td>\n      <td>218071</td>\n      <td>83.0</td>\n      <td>50</td>\n    </tr>\n    <tr>\n      <th>52</th>\n      <td>North Carolina</td>\n      <td>3657447</td>\n      <td>90.7</td>\n      <td>3364263</td>\n      <td>83.4</td>\n      <td>37</td>\n    </tr>\n  </tbody>\n</table>\n</div>"
     },
     "execution_count": 36,
     "metadata": {},
     "output_type": "execute_result"
    }
   ],
   "source": [
    "df_state = df_state.iloc[1:]\n",
    "\n",
    "print(df_state.shape)\n",
    "df_state"
   ],
   "metadata": {
    "collapsed": false
   }
  },
  {
   "cell_type": "markdown",
   "source": [
    "# Skill: Renaming Columns"
   ],
   "metadata": {
    "collapsed": false
   }
  },
  {
   "cell_type": "code",
   "execution_count": 37,
   "outputs": [
    {
     "name": "stdout",
     "output_type": "stream",
     "text": [
      "(52, 6)\n"
     ]
    },
    {
     "name": "stderr",
     "output_type": "stream",
     "text": [
      "/tmp/ipykernel_294985/3521467036.py:1: SettingWithCopyWarning: \n",
      "A value is trying to be set on a copy of a slice from a DataFrame\n",
      "\n",
      "See the caveats in the documentation: https://pandas.pydata.org/pandas-docs/stable/user_guide/indexing.html#returning-a-view-versus-a-copy\n",
      "  df_state.rename(columns={\"NAME\": \"State_Name\", \"DP02_0153E\": \"Total_Computer\", \"DP02_0153PE\": \"Total_Computer_Percent\", \"DP02_0154E\": \"Total_Broadband_Internet\", \"DP02_0154PE\": \"Total_Broadband_Internet_Percent\", \"state\": \"State_FIPS\"}, inplace=True)\n"
     ]
    },
    {
     "data": {
      "text/plain": "0  State_Name Total_Computer Total_Computer_Percent Total_Broadband_Internet  \\\n1    Arkansas        1031971                   88.2                   900851   \n2  Washington        2755772                   94.8                  2617889   \n3      Kansas        1047658                   91.7                   964872   \n4    Oklahoma        1352894                   90.6                  1220163   \n5   Wisconsin        2157295                   90.7                  2013911   \n\n0 Total_Broadband_Internet_Percent State_FIPS  \n1                             77.0         05  \n2                             90.1         53  \n3                             84.5         20  \n4                             81.7         40  \n5                             84.7         55  ",
      "text/html": "<div>\n<style scoped>\n    .dataframe tbody tr th:only-of-type {\n        vertical-align: middle;\n    }\n\n    .dataframe tbody tr th {\n        vertical-align: top;\n    }\n\n    .dataframe thead th {\n        text-align: right;\n    }\n</style>\n<table border=\"1\" class=\"dataframe\">\n  <thead>\n    <tr style=\"text-align: right;\">\n      <th></th>\n      <th>State_Name</th>\n      <th>Total_Computer</th>\n      <th>Total_Computer_Percent</th>\n      <th>Total_Broadband_Internet</th>\n      <th>Total_Broadband_Internet_Percent</th>\n      <th>State_FIPS</th>\n    </tr>\n  </thead>\n  <tbody>\n    <tr>\n      <th>1</th>\n      <td>Arkansas</td>\n      <td>1031971</td>\n      <td>88.2</td>\n      <td>900851</td>\n      <td>77.0</td>\n      <td>05</td>\n    </tr>\n    <tr>\n      <th>2</th>\n      <td>Washington</td>\n      <td>2755772</td>\n      <td>94.8</td>\n      <td>2617889</td>\n      <td>90.1</td>\n      <td>53</td>\n    </tr>\n    <tr>\n      <th>3</th>\n      <td>Kansas</td>\n      <td>1047658</td>\n      <td>91.7</td>\n      <td>964872</td>\n      <td>84.5</td>\n      <td>20</td>\n    </tr>\n    <tr>\n      <th>4</th>\n      <td>Oklahoma</td>\n      <td>1352894</td>\n      <td>90.6</td>\n      <td>1220163</td>\n      <td>81.7</td>\n      <td>40</td>\n    </tr>\n    <tr>\n      <th>5</th>\n      <td>Wisconsin</td>\n      <td>2157295</td>\n      <td>90.7</td>\n      <td>2013911</td>\n      <td>84.7</td>\n      <td>55</td>\n    </tr>\n  </tbody>\n</table>\n</div>"
     },
     "execution_count": 37,
     "metadata": {},
     "output_type": "execute_result"
    }
   ],
   "source": [
    "df_state.rename(columns={\"NAME\": \"State_Name\", \"DP02_0153E\": \"Total_Computer\", \"DP02_0153PE\": \"Total_Computer_Percent\", \"DP02_0154E\": \"Total_Broadband_Internet\", \"DP02_0154PE\": \"Total_Broadband_Internet_Percent\", \"state\": \"State_FIPS\"}, inplace=True)\n",
    "\n",
    "print(df_state.shape)\n",
    "df_state.head()"
   ],
   "metadata": {
    "collapsed": false
   }
  },
  {
   "cell_type": "markdown",
   "source": [
    "# Skill: Regular use of query()"
   ],
   "metadata": {
    "collapsed": false
   }
  },
  {
   "cell_type": "code",
   "execution_count": 38,
   "outputs": [
    {
     "name": "stdout",
     "output_type": "stream",
     "text": [
      "(50, 6)\n"
     ]
    },
    {
     "data": {
      "text/plain": "0  State_Name Total_Computer Total_Computer_Percent Total_Broadband_Internet  \\\n1    Arkansas        1031971                   88.2                   900851   \n2  Washington        2755772                   94.8                  2617889   \n3      Kansas        1047658                   91.7                   964872   \n4    Oklahoma        1352894                   90.6                  1220163   \n5   Wisconsin        2157295                   90.7                  2013911   \n\n0 Total_Broadband_Internet_Percent State_FIPS  \n1                             77.0         05  \n2                             90.1         53  \n3                             84.5         20  \n4                             81.7         40  \n5                             84.7         55  ",
      "text/html": "<div>\n<style scoped>\n    .dataframe tbody tr th:only-of-type {\n        vertical-align: middle;\n    }\n\n    .dataframe tbody tr th {\n        vertical-align: top;\n    }\n\n    .dataframe thead th {\n        text-align: right;\n    }\n</style>\n<table border=\"1\" class=\"dataframe\">\n  <thead>\n    <tr style=\"text-align: right;\">\n      <th></th>\n      <th>State_Name</th>\n      <th>Total_Computer</th>\n      <th>Total_Computer_Percent</th>\n      <th>Total_Broadband_Internet</th>\n      <th>Total_Broadband_Internet_Percent</th>\n      <th>State_FIPS</th>\n    </tr>\n  </thead>\n  <tbody>\n    <tr>\n      <th>1</th>\n      <td>Arkansas</td>\n      <td>1031971</td>\n      <td>88.2</td>\n      <td>900851</td>\n      <td>77.0</td>\n      <td>05</td>\n    </tr>\n    <tr>\n      <th>2</th>\n      <td>Washington</td>\n      <td>2755772</td>\n      <td>94.8</td>\n      <td>2617889</td>\n      <td>90.1</td>\n      <td>53</td>\n    </tr>\n    <tr>\n      <th>3</th>\n      <td>Kansas</td>\n      <td>1047658</td>\n      <td>91.7</td>\n      <td>964872</td>\n      <td>84.5</td>\n      <td>20</td>\n    </tr>\n    <tr>\n      <th>4</th>\n      <td>Oklahoma</td>\n      <td>1352894</td>\n      <td>90.6</td>\n      <td>1220163</td>\n      <td>81.7</td>\n      <td>40</td>\n    </tr>\n    <tr>\n      <th>5</th>\n      <td>Wisconsin</td>\n      <td>2157295</td>\n      <td>90.7</td>\n      <td>2013911</td>\n      <td>84.7</td>\n      <td>55</td>\n    </tr>\n  </tbody>\n</table>\n</div>"
     },
     "execution_count": 38,
     "metadata": {},
     "output_type": "execute_result"
    }
   ],
   "source": [
    "get_rid = [\"Puerto Rico\", \"District of Columbia\"]\n",
    "df_state = df_state.query(\"State_Name not in @get_rid\")\n",
    "\n",
    "print(df_state.shape)\n",
    "df_state.head()"
   ],
   "metadata": {
    "collapsed": false
   }
  },
  {
   "cell_type": "markdown",
   "source": [
    "### I need a state abbreviations to be able to plot, so I'm going grab a list and screenscrape it and then merge it after"
   ],
   "metadata": {
    "collapsed": false
   }
  },
  {
   "cell_type": "markdown",
   "source": [
    "# Skill: Screenscraping"
   ],
   "metadata": {
    "collapsed": false
   }
  },
  {
   "cell_type": "code",
   "execution_count": 39,
   "outputs": [
    {
     "data": {
      "text/plain": "[                 0                  1                         2\n 0       State Name  USPS Abbreviation  Traditional Abbreviation\n 1          Alabama                 AL                      Ala.\n 2           Alaska                 AK                    Alaska\n 3          Arizona                 AZ                     Ariz.\n 4         Arkansas                 AR                      Ark.\n 5       California                 CA                    Calif.\n 6         Colorado                 CO                     Colo.\n 7      Connecticut                 CT                     Conn.\n 8         Delaware                 DE                      Del.\n 9          Florida                 FL                      Fla.\n 10         Georgia                 GA                       Ga.\n 11          Hawaii                 HI                    Hawaii\n 12           Idaho                 ID                     Idaho\n 13        Illinois                 IL                      Ill.\n 14         Indiana                 IN                      Ind.\n 15            Iowa                 IA                      Iowa\n 16          Kansas                 KS                     Kans.\n 17        Kentucky                 KY                       Ky.\n 18       Louisiana                 LA                       La.\n 19           Maine                 ME                     Maine\n 20        Maryland                 MD                       Md.\n 21   Massachusetts                 MA                     Mass.\n 22        Michigan                 MI                     Mich.\n 23       Minnesota                 MN                     Minn.\n 24     Mississippi                 MS                     Miss.\n 25        Missouri                 MO                       Mo.\n 26         Montana                 MT                     Mont.\n 27        Nebraska                 NE             Neb. or Nebr.\n 28          Nevada                 NV                      Nev.\n 29   New Hampshire                 NH                      N.H.\n 30      New Jersey                 NJ                      N.J.\n 31      New Mexico                 NM                    N.Mex.\n 32        New York                 NY                      N.Y.\n 33  North Carolina                 NC                      N.C.\n 34    North Dakota                 ND                    N.Dak.\n 35            Ohio                 OH                      Ohio\n 36        Oklahoma                 OK                     Okla.\n 37          Oregon                 OR             Ore. or Oreg.\n 38    Pennsylvania                 PA                       Pa.\n 39    Rhode Island                 RI                      R.I.\n 40  South Carolina                 SC                      S.C.\n 41    South Dakota                 SD                    S.Dak.\n 42       Tennessee                 TN                     Tenn.\n 43           Texas                 TX             Tex. or Texas\n 44            Utah                 UT                      Utah\n 45         Vermont                 VT                       Vt.\n 46        Virginia                 VA                       Va.\n 47      Washington                 WA                     Wash.\n 48   West Virginia                 WV                     W.Va.\n 49       Wisconsin                 WI             Wis. or Wisc.\n 50         Wyoming                 WY                      Wyo.,\n                           0                  1                         2\n 0            Territory Name  USPS Abbreviation  Traditional Abbreviation\n 1            American Samoa                 AS               Amer. Samoa\n 2      District of Columbia                 DC                      D.C.\n 3                      Guam                 GU                      Guam\n 4  Northern Mariana Islands                 MP                      M.P.\n 5               Puerto Rico                 PR                      P.R.\n 6            Virgin Islands                 VI                      V.I.]"
     },
     "execution_count": 39,
     "metadata": {},
     "output_type": "execute_result"
    }
   ],
   "source": [
    "tables = pd.read_html('https://abbreviations.yourdictionary.com/articles/state-abbrev.html')\n",
    "\n",
    "tables"
   ],
   "metadata": {
    "collapsed": false
   }
  },
  {
   "cell_type": "code",
   "execution_count": 40,
   "outputs": [
    {
     "name": "stdout",
     "output_type": "stream",
     "text": [
      "Number of Tables of Data in tables List:   2\n"
     ]
    }
   ],
   "source": [
    "print(\"Number of Tables of Data in tables List:  \", len(tables))"
   ],
   "metadata": {
    "collapsed": false
   }
  },
  {
   "cell_type": "code",
   "execution_count": 41,
   "outputs": [
    {
     "data": {
      "text/plain": "                 0                  1                         2\n0       State Name  USPS Abbreviation  Traditional Abbreviation\n1          Alabama                 AL                      Ala.\n2           Alaska                 AK                    Alaska\n3          Arizona                 AZ                     Ariz.\n4         Arkansas                 AR                      Ark.\n5       California                 CA                    Calif.\n6         Colorado                 CO                     Colo.\n7      Connecticut                 CT                     Conn.\n8         Delaware                 DE                      Del.\n9          Florida                 FL                      Fla.\n10         Georgia                 GA                       Ga.\n11          Hawaii                 HI                    Hawaii\n12           Idaho                 ID                     Idaho\n13        Illinois                 IL                      Ill.\n14         Indiana                 IN                      Ind.\n15            Iowa                 IA                      Iowa\n16          Kansas                 KS                     Kans.\n17        Kentucky                 KY                       Ky.\n18       Louisiana                 LA                       La.\n19           Maine                 ME                     Maine\n20        Maryland                 MD                       Md.\n21   Massachusetts                 MA                     Mass.\n22        Michigan                 MI                     Mich.\n23       Minnesota                 MN                     Minn.\n24     Mississippi                 MS                     Miss.\n25        Missouri                 MO                       Mo.\n26         Montana                 MT                     Mont.\n27        Nebraska                 NE             Neb. or Nebr.\n28          Nevada                 NV                      Nev.\n29   New Hampshire                 NH                      N.H.\n30      New Jersey                 NJ                      N.J.\n31      New Mexico                 NM                    N.Mex.\n32        New York                 NY                      N.Y.\n33  North Carolina                 NC                      N.C.\n34    North Dakota                 ND                    N.Dak.\n35            Ohio                 OH                      Ohio\n36        Oklahoma                 OK                     Okla.\n37          Oregon                 OR             Ore. or Oreg.\n38    Pennsylvania                 PA                       Pa.\n39    Rhode Island                 RI                      R.I.\n40  South Carolina                 SC                      S.C.\n41    South Dakota                 SD                    S.Dak.\n42       Tennessee                 TN                     Tenn.\n43           Texas                 TX             Tex. or Texas\n44            Utah                 UT                      Utah\n45         Vermont                 VT                       Vt.\n46        Virginia                 VA                       Va.\n47      Washington                 WA                     Wash.\n48   West Virginia                 WV                     W.Va.\n49       Wisconsin                 WI             Wis. or Wisc.\n50         Wyoming                 WY                      Wyo.",
      "text/html": "<div>\n<style scoped>\n    .dataframe tbody tr th:only-of-type {\n        vertical-align: middle;\n    }\n\n    .dataframe tbody tr th {\n        vertical-align: top;\n    }\n\n    .dataframe thead th {\n        text-align: right;\n    }\n</style>\n<table border=\"1\" class=\"dataframe\">\n  <thead>\n    <tr style=\"text-align: right;\">\n      <th></th>\n      <th>0</th>\n      <th>1</th>\n      <th>2</th>\n    </tr>\n  </thead>\n  <tbody>\n    <tr>\n      <th>0</th>\n      <td>State Name</td>\n      <td>USPS Abbreviation</td>\n      <td>Traditional Abbreviation</td>\n    </tr>\n    <tr>\n      <th>1</th>\n      <td>Alabama</td>\n      <td>AL</td>\n      <td>Ala.</td>\n    </tr>\n    <tr>\n      <th>2</th>\n      <td>Alaska</td>\n      <td>AK</td>\n      <td>Alaska</td>\n    </tr>\n    <tr>\n      <th>3</th>\n      <td>Arizona</td>\n      <td>AZ</td>\n      <td>Ariz.</td>\n    </tr>\n    <tr>\n      <th>4</th>\n      <td>Arkansas</td>\n      <td>AR</td>\n      <td>Ark.</td>\n    </tr>\n    <tr>\n      <th>5</th>\n      <td>California</td>\n      <td>CA</td>\n      <td>Calif.</td>\n    </tr>\n    <tr>\n      <th>6</th>\n      <td>Colorado</td>\n      <td>CO</td>\n      <td>Colo.</td>\n    </tr>\n    <tr>\n      <th>7</th>\n      <td>Connecticut</td>\n      <td>CT</td>\n      <td>Conn.</td>\n    </tr>\n    <tr>\n      <th>8</th>\n      <td>Delaware</td>\n      <td>DE</td>\n      <td>Del.</td>\n    </tr>\n    <tr>\n      <th>9</th>\n      <td>Florida</td>\n      <td>FL</td>\n      <td>Fla.</td>\n    </tr>\n    <tr>\n      <th>10</th>\n      <td>Georgia</td>\n      <td>GA</td>\n      <td>Ga.</td>\n    </tr>\n    <tr>\n      <th>11</th>\n      <td>Hawaii</td>\n      <td>HI</td>\n      <td>Hawaii</td>\n    </tr>\n    <tr>\n      <th>12</th>\n      <td>Idaho</td>\n      <td>ID</td>\n      <td>Idaho</td>\n    </tr>\n    <tr>\n      <th>13</th>\n      <td>Illinois</td>\n      <td>IL</td>\n      <td>Ill.</td>\n    </tr>\n    <tr>\n      <th>14</th>\n      <td>Indiana</td>\n      <td>IN</td>\n      <td>Ind.</td>\n    </tr>\n    <tr>\n      <th>15</th>\n      <td>Iowa</td>\n      <td>IA</td>\n      <td>Iowa</td>\n    </tr>\n    <tr>\n      <th>16</th>\n      <td>Kansas</td>\n      <td>KS</td>\n      <td>Kans.</td>\n    </tr>\n    <tr>\n      <th>17</th>\n      <td>Kentucky</td>\n      <td>KY</td>\n      <td>Ky.</td>\n    </tr>\n    <tr>\n      <th>18</th>\n      <td>Louisiana</td>\n      <td>LA</td>\n      <td>La.</td>\n    </tr>\n    <tr>\n      <th>19</th>\n      <td>Maine</td>\n      <td>ME</td>\n      <td>Maine</td>\n    </tr>\n    <tr>\n      <th>20</th>\n      <td>Maryland</td>\n      <td>MD</td>\n      <td>Md.</td>\n    </tr>\n    <tr>\n      <th>21</th>\n      <td>Massachusetts</td>\n      <td>MA</td>\n      <td>Mass.</td>\n    </tr>\n    <tr>\n      <th>22</th>\n      <td>Michigan</td>\n      <td>MI</td>\n      <td>Mich.</td>\n    </tr>\n    <tr>\n      <th>23</th>\n      <td>Minnesota</td>\n      <td>MN</td>\n      <td>Minn.</td>\n    </tr>\n    <tr>\n      <th>24</th>\n      <td>Mississippi</td>\n      <td>MS</td>\n      <td>Miss.</td>\n    </tr>\n    <tr>\n      <th>25</th>\n      <td>Missouri</td>\n      <td>MO</td>\n      <td>Mo.</td>\n    </tr>\n    <tr>\n      <th>26</th>\n      <td>Montana</td>\n      <td>MT</td>\n      <td>Mont.</td>\n    </tr>\n    <tr>\n      <th>27</th>\n      <td>Nebraska</td>\n      <td>NE</td>\n      <td>Neb. or Nebr.</td>\n    </tr>\n    <tr>\n      <th>28</th>\n      <td>Nevada</td>\n      <td>NV</td>\n      <td>Nev.</td>\n    </tr>\n    <tr>\n      <th>29</th>\n      <td>New Hampshire</td>\n      <td>NH</td>\n      <td>N.H.</td>\n    </tr>\n    <tr>\n      <th>30</th>\n      <td>New Jersey</td>\n      <td>NJ</td>\n      <td>N.J.</td>\n    </tr>\n    <tr>\n      <th>31</th>\n      <td>New Mexico</td>\n      <td>NM</td>\n      <td>N.Mex.</td>\n    </tr>\n    <tr>\n      <th>32</th>\n      <td>New York</td>\n      <td>NY</td>\n      <td>N.Y.</td>\n    </tr>\n    <tr>\n      <th>33</th>\n      <td>North Carolina</td>\n      <td>NC</td>\n      <td>N.C.</td>\n    </tr>\n    <tr>\n      <th>34</th>\n      <td>North Dakota</td>\n      <td>ND</td>\n      <td>N.Dak.</td>\n    </tr>\n    <tr>\n      <th>35</th>\n      <td>Ohio</td>\n      <td>OH</td>\n      <td>Ohio</td>\n    </tr>\n    <tr>\n      <th>36</th>\n      <td>Oklahoma</td>\n      <td>OK</td>\n      <td>Okla.</td>\n    </tr>\n    <tr>\n      <th>37</th>\n      <td>Oregon</td>\n      <td>OR</td>\n      <td>Ore. or Oreg.</td>\n    </tr>\n    <tr>\n      <th>38</th>\n      <td>Pennsylvania</td>\n      <td>PA</td>\n      <td>Pa.</td>\n    </tr>\n    <tr>\n      <th>39</th>\n      <td>Rhode Island</td>\n      <td>RI</td>\n      <td>R.I.</td>\n    </tr>\n    <tr>\n      <th>40</th>\n      <td>South Carolina</td>\n      <td>SC</td>\n      <td>S.C.</td>\n    </tr>\n    <tr>\n      <th>41</th>\n      <td>South Dakota</td>\n      <td>SD</td>\n      <td>S.Dak.</td>\n    </tr>\n    <tr>\n      <th>42</th>\n      <td>Tennessee</td>\n      <td>TN</td>\n      <td>Tenn.</td>\n    </tr>\n    <tr>\n      <th>43</th>\n      <td>Texas</td>\n      <td>TX</td>\n      <td>Tex. or Texas</td>\n    </tr>\n    <tr>\n      <th>44</th>\n      <td>Utah</td>\n      <td>UT</td>\n      <td>Utah</td>\n    </tr>\n    <tr>\n      <th>45</th>\n      <td>Vermont</td>\n      <td>VT</td>\n      <td>Vt.</td>\n    </tr>\n    <tr>\n      <th>46</th>\n      <td>Virginia</td>\n      <td>VA</td>\n      <td>Va.</td>\n    </tr>\n    <tr>\n      <th>47</th>\n      <td>Washington</td>\n      <td>WA</td>\n      <td>Wash.</td>\n    </tr>\n    <tr>\n      <th>48</th>\n      <td>West Virginia</td>\n      <td>WV</td>\n      <td>W.Va.</td>\n    </tr>\n    <tr>\n      <th>49</th>\n      <td>Wisconsin</td>\n      <td>WI</td>\n      <td>Wis. or Wisc.</td>\n    </tr>\n    <tr>\n      <th>50</th>\n      <td>Wyoming</td>\n      <td>WY</td>\n      <td>Wyo.</td>\n    </tr>\n  </tbody>\n</table>\n</div>"
     },
     "execution_count": 41,
     "metadata": {},
     "output_type": "execute_result"
    }
   ],
   "source": [
    "tables[0]"
   ],
   "metadata": {
    "collapsed": false
   }
  },
  {
   "cell_type": "code",
   "execution_count": 42,
   "outputs": [
    {
     "name": "stdout",
     "output_type": "stream",
     "text": [
      "(51, 3)\n"
     ]
    },
    {
     "data": {
      "text/plain": "            0                  1                         2\n0  State Name  USPS Abbreviation  Traditional Abbreviation\n1     Alabama                 AL                      Ala.\n2      Alaska                 AK                    Alaska\n3     Arizona                 AZ                     Ariz.\n4    Arkansas                 AR                      Ark.",
      "text/html": "<div>\n<style scoped>\n    .dataframe tbody tr th:only-of-type {\n        vertical-align: middle;\n    }\n\n    .dataframe tbody tr th {\n        vertical-align: top;\n    }\n\n    .dataframe thead th {\n        text-align: right;\n    }\n</style>\n<table border=\"1\" class=\"dataframe\">\n  <thead>\n    <tr style=\"text-align: right;\">\n      <th></th>\n      <th>0</th>\n      <th>1</th>\n      <th>2</th>\n    </tr>\n  </thead>\n  <tbody>\n    <tr>\n      <th>0</th>\n      <td>State Name</td>\n      <td>USPS Abbreviation</td>\n      <td>Traditional Abbreviation</td>\n    </tr>\n    <tr>\n      <th>1</th>\n      <td>Alabama</td>\n      <td>AL</td>\n      <td>Ala.</td>\n    </tr>\n    <tr>\n      <th>2</th>\n      <td>Alaska</td>\n      <td>AK</td>\n      <td>Alaska</td>\n    </tr>\n    <tr>\n      <th>3</th>\n      <td>Arizona</td>\n      <td>AZ</td>\n      <td>Ariz.</td>\n    </tr>\n    <tr>\n      <th>4</th>\n      <td>Arkansas</td>\n      <td>AR</td>\n      <td>Ark.</td>\n    </tr>\n  </tbody>\n</table>\n</div>"
     },
     "execution_count": 42,
     "metadata": {},
     "output_type": "execute_result"
    }
   ],
   "source": [
    "df_abbr = pd.DataFrame(tables[0])\n",
    "\n",
    "print(df_abbr.shape)\n",
    "df_abbr.head()"
   ],
   "metadata": {
    "collapsed": false
   }
  },
  {
   "cell_type": "code",
   "execution_count": 43,
   "outputs": [
    {
     "name": "stdout",
     "output_type": "stream",
     "text": [
      "(50, 3)\n"
     ]
    },
    {
     "data": {
      "text/plain": "0       State Name USPS Abbreviation Traditional Abbreviation\n1          Alabama                AL                     Ala.\n2           Alaska                AK                   Alaska\n3          Arizona                AZ                    Ariz.\n4         Arkansas                AR                     Ark.\n5       California                CA                   Calif.\n6         Colorado                CO                    Colo.\n7      Connecticut                CT                    Conn.\n8         Delaware                DE                     Del.\n9          Florida                FL                     Fla.\n10         Georgia                GA                      Ga.\n11          Hawaii                HI                   Hawaii\n12           Idaho                ID                    Idaho\n13        Illinois                IL                     Ill.\n14         Indiana                IN                     Ind.\n15            Iowa                IA                     Iowa\n16          Kansas                KS                    Kans.\n17        Kentucky                KY                      Ky.\n18       Louisiana                LA                      La.\n19           Maine                ME                    Maine\n20        Maryland                MD                      Md.\n21   Massachusetts                MA                    Mass.\n22        Michigan                MI                    Mich.\n23       Minnesota                MN                    Minn.\n24     Mississippi                MS                    Miss.\n25        Missouri                MO                      Mo.\n26         Montana                MT                    Mont.\n27        Nebraska                NE            Neb. or Nebr.\n28          Nevada                NV                     Nev.\n29   New Hampshire                NH                     N.H.\n30      New Jersey                NJ                     N.J.\n31      New Mexico                NM                   N.Mex.\n32        New York                NY                     N.Y.\n33  North Carolina                NC                     N.C.\n34    North Dakota                ND                   N.Dak.\n35            Ohio                OH                     Ohio\n36        Oklahoma                OK                    Okla.\n37          Oregon                OR            Ore. or Oreg.\n38    Pennsylvania                PA                      Pa.\n39    Rhode Island                RI                     R.I.\n40  South Carolina                SC                     S.C.\n41    South Dakota                SD                   S.Dak.\n42       Tennessee                TN                    Tenn.\n43           Texas                TX            Tex. or Texas\n44            Utah                UT                     Utah\n45         Vermont                VT                      Vt.\n46        Virginia                VA                      Va.\n47      Washington                WA                    Wash.\n48   West Virginia                WV                    W.Va.\n49       Wisconsin                WI            Wis. or Wisc.\n50         Wyoming                WY                     Wyo.",
      "text/html": "<div>\n<style scoped>\n    .dataframe tbody tr th:only-of-type {\n        vertical-align: middle;\n    }\n\n    .dataframe tbody tr th {\n        vertical-align: top;\n    }\n\n    .dataframe thead th {\n        text-align: right;\n    }\n</style>\n<table border=\"1\" class=\"dataframe\">\n  <thead>\n    <tr style=\"text-align: right;\">\n      <th></th>\n      <th>State Name</th>\n      <th>USPS Abbreviation</th>\n      <th>Traditional Abbreviation</th>\n    </tr>\n  </thead>\n  <tbody>\n    <tr>\n      <th>1</th>\n      <td>Alabama</td>\n      <td>AL</td>\n      <td>Ala.</td>\n    </tr>\n    <tr>\n      <th>2</th>\n      <td>Alaska</td>\n      <td>AK</td>\n      <td>Alaska</td>\n    </tr>\n    <tr>\n      <th>3</th>\n      <td>Arizona</td>\n      <td>AZ</td>\n      <td>Ariz.</td>\n    </tr>\n    <tr>\n      <th>4</th>\n      <td>Arkansas</td>\n      <td>AR</td>\n      <td>Ark.</td>\n    </tr>\n    <tr>\n      <th>5</th>\n      <td>California</td>\n      <td>CA</td>\n      <td>Calif.</td>\n    </tr>\n    <tr>\n      <th>6</th>\n      <td>Colorado</td>\n      <td>CO</td>\n      <td>Colo.</td>\n    </tr>\n    <tr>\n      <th>7</th>\n      <td>Connecticut</td>\n      <td>CT</td>\n      <td>Conn.</td>\n    </tr>\n    <tr>\n      <th>8</th>\n      <td>Delaware</td>\n      <td>DE</td>\n      <td>Del.</td>\n    </tr>\n    <tr>\n      <th>9</th>\n      <td>Florida</td>\n      <td>FL</td>\n      <td>Fla.</td>\n    </tr>\n    <tr>\n      <th>10</th>\n      <td>Georgia</td>\n      <td>GA</td>\n      <td>Ga.</td>\n    </tr>\n    <tr>\n      <th>11</th>\n      <td>Hawaii</td>\n      <td>HI</td>\n      <td>Hawaii</td>\n    </tr>\n    <tr>\n      <th>12</th>\n      <td>Idaho</td>\n      <td>ID</td>\n      <td>Idaho</td>\n    </tr>\n    <tr>\n      <th>13</th>\n      <td>Illinois</td>\n      <td>IL</td>\n      <td>Ill.</td>\n    </tr>\n    <tr>\n      <th>14</th>\n      <td>Indiana</td>\n      <td>IN</td>\n      <td>Ind.</td>\n    </tr>\n    <tr>\n      <th>15</th>\n      <td>Iowa</td>\n      <td>IA</td>\n      <td>Iowa</td>\n    </tr>\n    <tr>\n      <th>16</th>\n      <td>Kansas</td>\n      <td>KS</td>\n      <td>Kans.</td>\n    </tr>\n    <tr>\n      <th>17</th>\n      <td>Kentucky</td>\n      <td>KY</td>\n      <td>Ky.</td>\n    </tr>\n    <tr>\n      <th>18</th>\n      <td>Louisiana</td>\n      <td>LA</td>\n      <td>La.</td>\n    </tr>\n    <tr>\n      <th>19</th>\n      <td>Maine</td>\n      <td>ME</td>\n      <td>Maine</td>\n    </tr>\n    <tr>\n      <th>20</th>\n      <td>Maryland</td>\n      <td>MD</td>\n      <td>Md.</td>\n    </tr>\n    <tr>\n      <th>21</th>\n      <td>Massachusetts</td>\n      <td>MA</td>\n      <td>Mass.</td>\n    </tr>\n    <tr>\n      <th>22</th>\n      <td>Michigan</td>\n      <td>MI</td>\n      <td>Mich.</td>\n    </tr>\n    <tr>\n      <th>23</th>\n      <td>Minnesota</td>\n      <td>MN</td>\n      <td>Minn.</td>\n    </tr>\n    <tr>\n      <th>24</th>\n      <td>Mississippi</td>\n      <td>MS</td>\n      <td>Miss.</td>\n    </tr>\n    <tr>\n      <th>25</th>\n      <td>Missouri</td>\n      <td>MO</td>\n      <td>Mo.</td>\n    </tr>\n    <tr>\n      <th>26</th>\n      <td>Montana</td>\n      <td>MT</td>\n      <td>Mont.</td>\n    </tr>\n    <tr>\n      <th>27</th>\n      <td>Nebraska</td>\n      <td>NE</td>\n      <td>Neb. or Nebr.</td>\n    </tr>\n    <tr>\n      <th>28</th>\n      <td>Nevada</td>\n      <td>NV</td>\n      <td>Nev.</td>\n    </tr>\n    <tr>\n      <th>29</th>\n      <td>New Hampshire</td>\n      <td>NH</td>\n      <td>N.H.</td>\n    </tr>\n    <tr>\n      <th>30</th>\n      <td>New Jersey</td>\n      <td>NJ</td>\n      <td>N.J.</td>\n    </tr>\n    <tr>\n      <th>31</th>\n      <td>New Mexico</td>\n      <td>NM</td>\n      <td>N.Mex.</td>\n    </tr>\n    <tr>\n      <th>32</th>\n      <td>New York</td>\n      <td>NY</td>\n      <td>N.Y.</td>\n    </tr>\n    <tr>\n      <th>33</th>\n      <td>North Carolina</td>\n      <td>NC</td>\n      <td>N.C.</td>\n    </tr>\n    <tr>\n      <th>34</th>\n      <td>North Dakota</td>\n      <td>ND</td>\n      <td>N.Dak.</td>\n    </tr>\n    <tr>\n      <th>35</th>\n      <td>Ohio</td>\n      <td>OH</td>\n      <td>Ohio</td>\n    </tr>\n    <tr>\n      <th>36</th>\n      <td>Oklahoma</td>\n      <td>OK</td>\n      <td>Okla.</td>\n    </tr>\n    <tr>\n      <th>37</th>\n      <td>Oregon</td>\n      <td>OR</td>\n      <td>Ore. or Oreg.</td>\n    </tr>\n    <tr>\n      <th>38</th>\n      <td>Pennsylvania</td>\n      <td>PA</td>\n      <td>Pa.</td>\n    </tr>\n    <tr>\n      <th>39</th>\n      <td>Rhode Island</td>\n      <td>RI</td>\n      <td>R.I.</td>\n    </tr>\n    <tr>\n      <th>40</th>\n      <td>South Carolina</td>\n      <td>SC</td>\n      <td>S.C.</td>\n    </tr>\n    <tr>\n      <th>41</th>\n      <td>South Dakota</td>\n      <td>SD</td>\n      <td>S.Dak.</td>\n    </tr>\n    <tr>\n      <th>42</th>\n      <td>Tennessee</td>\n      <td>TN</td>\n      <td>Tenn.</td>\n    </tr>\n    <tr>\n      <th>43</th>\n      <td>Texas</td>\n      <td>TX</td>\n      <td>Tex. or Texas</td>\n    </tr>\n    <tr>\n      <th>44</th>\n      <td>Utah</td>\n      <td>UT</td>\n      <td>Utah</td>\n    </tr>\n    <tr>\n      <th>45</th>\n      <td>Vermont</td>\n      <td>VT</td>\n      <td>Vt.</td>\n    </tr>\n    <tr>\n      <th>46</th>\n      <td>Virginia</td>\n      <td>VA</td>\n      <td>Va.</td>\n    </tr>\n    <tr>\n      <th>47</th>\n      <td>Washington</td>\n      <td>WA</td>\n      <td>Wash.</td>\n    </tr>\n    <tr>\n      <th>48</th>\n      <td>West Virginia</td>\n      <td>WV</td>\n      <td>W.Va.</td>\n    </tr>\n    <tr>\n      <th>49</th>\n      <td>Wisconsin</td>\n      <td>WI</td>\n      <td>Wis. or Wisc.</td>\n    </tr>\n    <tr>\n      <th>50</th>\n      <td>Wyoming</td>\n      <td>WY</td>\n      <td>Wyo.</td>\n    </tr>\n  </tbody>\n</table>\n</div>"
     },
     "execution_count": 43,
     "metadata": {},
     "output_type": "execute_result"
    }
   ],
   "source": [
    "column_names = df_abbr.iloc[0]\n",
    "df_abbr.columns = column_names\n",
    "df_abbr = df_abbr.iloc[1:]\n",
    "\n",
    "print(df_abbr.shape)\n",
    "df_abbr"
   ],
   "metadata": {
    "collapsed": false
   }
  },
  {
   "cell_type": "markdown",
   "source": [
    "# Skill: Keeping Columns"
   ],
   "metadata": {
    "collapsed": false
   }
  },
  {
   "cell_type": "code",
   "execution_count": 44,
   "outputs": [
    {
     "name": "stdout",
     "output_type": "stream",
     "text": [
      "(50, 2)\n"
     ]
    },
    {
     "data": {
      "text/plain": "0  State Name USPS Abbreviation\n1     Alabama                AL\n2      Alaska                AK\n3     Arizona                AZ\n4    Arkansas                AR\n5  California                CA",
      "text/html": "<div>\n<style scoped>\n    .dataframe tbody tr th:only-of-type {\n        vertical-align: middle;\n    }\n\n    .dataframe tbody tr th {\n        vertical-align: top;\n    }\n\n    .dataframe thead th {\n        text-align: right;\n    }\n</style>\n<table border=\"1\" class=\"dataframe\">\n  <thead>\n    <tr style=\"text-align: right;\">\n      <th></th>\n      <th>State Name</th>\n      <th>USPS Abbreviation</th>\n    </tr>\n  </thead>\n  <tbody>\n    <tr>\n      <th>1</th>\n      <td>Alabama</td>\n      <td>AL</td>\n    </tr>\n    <tr>\n      <th>2</th>\n      <td>Alaska</td>\n      <td>AK</td>\n    </tr>\n    <tr>\n      <th>3</th>\n      <td>Arizona</td>\n      <td>AZ</td>\n    </tr>\n    <tr>\n      <th>4</th>\n      <td>Arkansas</td>\n      <td>AR</td>\n    </tr>\n    <tr>\n      <th>5</th>\n      <td>California</td>\n      <td>CA</td>\n    </tr>\n  </tbody>\n</table>\n</div>"
     },
     "execution_count": 44,
     "metadata": {},
     "output_type": "execute_result"
    }
   ],
   "source": [
    "cols_to_keep = [\"State Name\", \"USPS Abbreviation\"]\n",
    "df_abbr = df_abbr[cols_to_keep]\n",
    "\n",
    "print(df_abbr.shape)\n",
    "df_abbr.head()"
   ],
   "metadata": {
    "collapsed": false
   }
  },
  {
   "cell_type": "markdown",
   "source": [
    "# Skill: Combining w/ Left Join"
   ],
   "metadata": {
    "collapsed": false
   }
  },
  {
   "cell_type": "code",
   "execution_count": 45,
   "outputs": [
    {
     "name": "stdout",
     "output_type": "stream",
     "text": [
      "(50, 8)\n"
     ]
    },
    {
     "data": {
      "text/plain": "0  State_Name Total_Computer Total_Computer_Percent Total_Broadband_Internet  \\\n0    Arkansas        1031971                   88.2                   900851   \n1  Washington        2755772                   94.8                  2617889   \n2      Kansas        1047658                   91.7                   964872   \n3    Oklahoma        1352894                   90.6                  1220163   \n4   Wisconsin        2157295                   90.7                  2013911   \n\n0 Total_Broadband_Internet_Percent State_FIPS  State Name USPS Abbreviation  \n0                             77.0         05    Arkansas                AR  \n1                             90.1         53  Washington                WA  \n2                             84.5         20      Kansas                KS  \n3                             81.7         40    Oklahoma                OK  \n4                             84.7         55   Wisconsin                WI  ",
      "text/html": "<div>\n<style scoped>\n    .dataframe tbody tr th:only-of-type {\n        vertical-align: middle;\n    }\n\n    .dataframe tbody tr th {\n        vertical-align: top;\n    }\n\n    .dataframe thead th {\n        text-align: right;\n    }\n</style>\n<table border=\"1\" class=\"dataframe\">\n  <thead>\n    <tr style=\"text-align: right;\">\n      <th></th>\n      <th>State_Name</th>\n      <th>Total_Computer</th>\n      <th>Total_Computer_Percent</th>\n      <th>Total_Broadband_Internet</th>\n      <th>Total_Broadband_Internet_Percent</th>\n      <th>State_FIPS</th>\n      <th>State Name</th>\n      <th>USPS Abbreviation</th>\n    </tr>\n  </thead>\n  <tbody>\n    <tr>\n      <th>0</th>\n      <td>Arkansas</td>\n      <td>1031971</td>\n      <td>88.2</td>\n      <td>900851</td>\n      <td>77.0</td>\n      <td>05</td>\n      <td>Arkansas</td>\n      <td>AR</td>\n    </tr>\n    <tr>\n      <th>1</th>\n      <td>Washington</td>\n      <td>2755772</td>\n      <td>94.8</td>\n      <td>2617889</td>\n      <td>90.1</td>\n      <td>53</td>\n      <td>Washington</td>\n      <td>WA</td>\n    </tr>\n    <tr>\n      <th>2</th>\n      <td>Kansas</td>\n      <td>1047658</td>\n      <td>91.7</td>\n      <td>964872</td>\n      <td>84.5</td>\n      <td>20</td>\n      <td>Kansas</td>\n      <td>KS</td>\n    </tr>\n    <tr>\n      <th>3</th>\n      <td>Oklahoma</td>\n      <td>1352894</td>\n      <td>90.6</td>\n      <td>1220163</td>\n      <td>81.7</td>\n      <td>40</td>\n      <td>Oklahoma</td>\n      <td>OK</td>\n    </tr>\n    <tr>\n      <th>4</th>\n      <td>Wisconsin</td>\n      <td>2157295</td>\n      <td>90.7</td>\n      <td>2013911</td>\n      <td>84.7</td>\n      <td>55</td>\n      <td>Wisconsin</td>\n      <td>WI</td>\n    </tr>\n  </tbody>\n</table>\n</div>"
     },
     "execution_count": 45,
     "metadata": {},
     "output_type": "execute_result"
    }
   ],
   "source": [
    "df_joined = pd.merge(df_state,\n",
    "                       df_abbr,\n",
    "                       left_on=\"State_Name\",\n",
    "                       right_on=\"State Name\",\n",
    "                       how='left'         # Type of Join:  Left!\n",
    "                      )\n",
    "\n",
    "print(df_joined.shape)\n",
    "df_joined.head()"
   ],
   "metadata": {
    "collapsed": false
   }
  },
  {
   "cell_type": "markdown",
   "source": [
    "### It was at this point I realized I needed a bunch of these to be ints and floats."
   ],
   "metadata": {
    "collapsed": false
   }
  },
  {
   "cell_type": "code",
   "execution_count": 46,
   "outputs": [
    {
     "data": {
      "text/plain": "0\nState_Name                          object\nTotal_Computer                      object\nTotal_Computer_Percent              object\nTotal_Broadband_Internet            object\nTotal_Broadband_Internet_Percent    object\nState_FIPS                          object\nState Name                          object\nUSPS Abbreviation                   object\ndtype: object"
     },
     "execution_count": 46,
     "metadata": {},
     "output_type": "execute_result"
    }
   ],
   "source": [
    "df_joined.dtypes"
   ],
   "metadata": {
    "collapsed": false
   }
  },
  {
   "cell_type": "code",
   "execution_count": 47,
   "outputs": [
    {
     "data": {
      "text/plain": "0\nState_Name                           object\nTotal_Computer                        int64\nTotal_Computer_Percent              float64\nTotal_Broadband_Internet              int64\nTotal_Broadband_Internet_Percent    float64\nState_FIPS                           object\nState Name                           object\nUSPS Abbreviation                    object\ndtype: object"
     },
     "execution_count": 47,
     "metadata": {},
     "output_type": "execute_result"
    }
   ],
   "source": [
    "df_joined[\"Total_Computer\"] = pd.to_numeric(df_joined[\"Total_Computer\"]).astype(int)\n",
    "df_joined[\"Total_Broadband_Internet\"] = pd.to_numeric(df_joined[\"Total_Broadband_Internet\"]).astype(int)\n",
    "df_joined[\"Total_Computer_Percent\"] = pd.to_numeric(df_joined[\"Total_Computer_Percent\"]).astype(float)\n",
    "df_joined[\"Total_Broadband_Internet_Percent\"] = pd.to_numeric(df_joined[\"Total_Broadband_Internet_Percent\"]).astype(float)\n",
    "\n",
    "df_joined.dtypes"
   ],
   "metadata": {
    "collapsed": false
   }
  },
  {
   "cell_type": "markdown",
   "source": [
    "# Skill: Reordering"
   ],
   "metadata": {
    "collapsed": false
   }
  },
  {
   "cell_type": "code",
   "execution_count": 48,
   "outputs": [
    {
     "name": "stdout",
     "output_type": "stream",
     "text": [
      "(50, 7)\n"
     ]
    },
    {
     "data": {
      "text/plain": "0  State_Name USPS Abbreviation State_FIPS  Total_Computer  \\\n0    Arkansas                AR         05         1031971   \n1  Washington                WA         53         2755772   \n2      Kansas                KS         20         1047658   \n3    Oklahoma                OK         40         1352894   \n4   Wisconsin                WI         55         2157295   \n\n0  Total_Computer_Percent  Total_Broadband_Internet  \\\n0                    88.2                    900851   \n1                    94.8                   2617889   \n2                    91.7                    964872   \n3                    90.6                   1220163   \n4                    90.7                   2013911   \n\n0  Total_Broadband_Internet_Percent  \n0                              77.0  \n1                              90.1  \n2                              84.5  \n3                              81.7  \n4                              84.7  ",
      "text/html": "<div>\n<style scoped>\n    .dataframe tbody tr th:only-of-type {\n        vertical-align: middle;\n    }\n\n    .dataframe tbody tr th {\n        vertical-align: top;\n    }\n\n    .dataframe thead th {\n        text-align: right;\n    }\n</style>\n<table border=\"1\" class=\"dataframe\">\n  <thead>\n    <tr style=\"text-align: right;\">\n      <th></th>\n      <th>State_Name</th>\n      <th>USPS Abbreviation</th>\n      <th>State_FIPS</th>\n      <th>Total_Computer</th>\n      <th>Total_Computer_Percent</th>\n      <th>Total_Broadband_Internet</th>\n      <th>Total_Broadband_Internet_Percent</th>\n    </tr>\n  </thead>\n  <tbody>\n    <tr>\n      <th>0</th>\n      <td>Arkansas</td>\n      <td>AR</td>\n      <td>05</td>\n      <td>1031971</td>\n      <td>88.2</td>\n      <td>900851</td>\n      <td>77.0</td>\n    </tr>\n    <tr>\n      <th>1</th>\n      <td>Washington</td>\n      <td>WA</td>\n      <td>53</td>\n      <td>2755772</td>\n      <td>94.8</td>\n      <td>2617889</td>\n      <td>90.1</td>\n    </tr>\n    <tr>\n      <th>2</th>\n      <td>Kansas</td>\n      <td>KS</td>\n      <td>20</td>\n      <td>1047658</td>\n      <td>91.7</td>\n      <td>964872</td>\n      <td>84.5</td>\n    </tr>\n    <tr>\n      <th>3</th>\n      <td>Oklahoma</td>\n      <td>OK</td>\n      <td>40</td>\n      <td>1352894</td>\n      <td>90.6</td>\n      <td>1220163</td>\n      <td>81.7</td>\n    </tr>\n    <tr>\n      <th>4</th>\n      <td>Wisconsin</td>\n      <td>WI</td>\n      <td>55</td>\n      <td>2157295</td>\n      <td>90.7</td>\n      <td>2013911</td>\n      <td>84.7</td>\n    </tr>\n  </tbody>\n</table>\n</div>"
     },
     "execution_count": 48,
     "metadata": {},
     "output_type": "execute_result"
    }
   ],
   "source": [
    "cols_to_keep = [\"State_Name\", \"USPS Abbreviation\", \"State_FIPS\", \"Total_Computer\", \"Total_Computer_Percent\", \"Total_Broadband_Internet\", \"Total_Broadband_Internet_Percent\"]\n",
    "df_joined = df_joined[cols_to_keep]\n",
    "\n",
    "print(df_joined.shape)\n",
    "df_joined.head()"
   ],
   "metadata": {
    "collapsed": false
   }
  },
  {
   "cell_type": "markdown",
   "source": [
    "### Save to CSV"
   ],
   "metadata": {
    "collapsed": false
   }
  },
  {
   "cell_type": "code",
   "execution_count": 49,
   "outputs": [],
   "source": [
    "csv_file_to_create = \"States_Computer_Internet.csv\"\n",
    "\n",
    "filename_with_path = \"Data/\" + csv_file_to_create\n",
    "df_joined.to_csv(filename_with_path, index=False)"
   ],
   "metadata": {
    "collapsed": false
   }
  }
 ],
 "metadata": {
  "kernelspec": {
   "display_name": "Python 3",
   "language": "python",
   "name": "python3"
  },
  "language_info": {
   "codemirror_mode": {
    "name": "ipython",
    "version": 2
   },
   "file_extension": ".py",
   "mimetype": "text/x-python",
   "name": "python",
   "nbconvert_exporter": "python",
   "pygments_lexer": "ipython2",
   "version": "2.7.6"
  }
 },
 "nbformat": 4,
 "nbformat_minor": 0
}
