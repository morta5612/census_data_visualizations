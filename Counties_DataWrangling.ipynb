{
 "cells": [
  {
   "cell_type": "markdown",
   "source": [
    "# Question: Which counties in NC have the highest and lowest percentage of computer and internet access?\n",
    "* Data source: acs/acs5/profile for counties (https://api.census.gov/data/2020/acs/acs5/profile?get=NAME,DP02_0153E,DP02_0153PE,DP02_0154E,DP02_0154PE&for=county:*&in=state:37)\n",
    "* Vintage: 2020\n",
    "* Geography Level: Counties"
   ],
   "metadata": {
    "collapsed": false
   }
  },
  {
   "cell_type": "markdown",
   "source": [
    "### Imports"
   ],
   "metadata": {
    "collapsed": false
   }
  },
  {
   "cell_type": "code",
   "execution_count": 71,
   "outputs": [],
   "source": [
    "import pandas as pd\n",
    "import requests"
   ],
   "metadata": {
    "collapsed": false
   }
  },
  {
   "cell_type": "markdown",
   "source": [
    "### Build the API request url"
   ],
   "metadata": {
    "collapsed": false
   }
  },
  {
   "cell_type": "code",
   "execution_count": 72,
   "outputs": [
    {
     "name": "stdout",
     "output_type": "stream",
     "text": [
      "request_url =  https://api.census.gov/data/2020/acs/acs5/profile?get=NAME,DP02_0153E,DP02_0153PE,DP02_0154E,DP02_0154PE&for=county:*&in=state:37\n"
     ]
    }
   ],
   "source": [
    "base_url = \"https://api.census.gov/data\"\n",
    "dataset_name = \"/2020/acs/acs5/profile\"\n",
    "get_start = \"?get=\"\n",
    "get_variables = \"NAME,DP02_0153E,DP02_0153PE,DP02_0154E,DP02_0154PE\"\n",
    "geography = \"&for=county:*&in=state:37\"\n",
    "request_url = base_url + dataset_name + get_start + get_variables + geography\n",
    "print(\"request_url = \", request_url)"
   ],
   "metadata": {
    "collapsed": false
   }
  },
  {
   "cell_type": "markdown",
   "source": [
    "### Use *requests* library to make the API call"
   ],
   "metadata": {
    "collapsed": false
   }
  },
  {
   "cell_type": "code",
   "execution_count": 73,
   "outputs": [],
   "source": [
    "r = requests.get(request_url)\n",
    "\n",
    "api_results = r.json()"
   ],
   "metadata": {
    "collapsed": false
   }
  },
  {
   "cell_type": "markdown",
   "source": [
    "### Get the data into a Dataframe"
   ],
   "metadata": {
    "collapsed": false
   }
  },
  {
   "cell_type": "code",
   "execution_count": 74,
   "outputs": [
    {
     "name": "stdout",
     "output_type": "stream",
     "text": [
      "(101, 7)\n"
     ]
    },
    {
     "data": {
      "text/plain": "                                     0           1            2           3  \\\n0                                 NAME  DP02_0153E  DP02_0153PE  DP02_0154E   \n1         Anson County, North Carolina        8315         84.8        7737   \n2      Beaufort County, North Carolina       17349         85.8       14964   \n3     Brunswick County, North Carolina       55782         93.9       52355   \n4      Cabarrus County, North Carolina       68821         94.5       64618   \n..                                 ...         ...          ...         ...   \n96   Washington County, North Carolina        3812         72.8        3438   \n97      Watauga County, North Carolina       19564         91.2       18109   \n98       Wilkes County, North Carolina       24956         86.3       22996   \n99       Wilson County, North Carolina       26458         82.8       24419   \n100      Yancey County, North Carolina        6153         82.4        5647   \n\n               4      5       6  \n0    DP02_0154PE  state  county  \n1           78.9     37     007  \n2           74.0     37     013  \n3           88.1     37     019  \n4           88.7     37     025  \n..           ...    ...     ...  \n96          65.6     37     187  \n97          84.4     37     189  \n98          79.6     37     193  \n99          76.4     37     195  \n100         75.6     37     199  \n\n[101 rows x 7 columns]",
      "text/html": "<div>\n<style scoped>\n    .dataframe tbody tr th:only-of-type {\n        vertical-align: middle;\n    }\n\n    .dataframe tbody tr th {\n        vertical-align: top;\n    }\n\n    .dataframe thead th {\n        text-align: right;\n    }\n</style>\n<table border=\"1\" class=\"dataframe\">\n  <thead>\n    <tr style=\"text-align: right;\">\n      <th></th>\n      <th>0</th>\n      <th>1</th>\n      <th>2</th>\n      <th>3</th>\n      <th>4</th>\n      <th>5</th>\n      <th>6</th>\n    </tr>\n  </thead>\n  <tbody>\n    <tr>\n      <th>0</th>\n      <td>NAME</td>\n      <td>DP02_0153E</td>\n      <td>DP02_0153PE</td>\n      <td>DP02_0154E</td>\n      <td>DP02_0154PE</td>\n      <td>state</td>\n      <td>county</td>\n    </tr>\n    <tr>\n      <th>1</th>\n      <td>Anson County, North Carolina</td>\n      <td>8315</td>\n      <td>84.8</td>\n      <td>7737</td>\n      <td>78.9</td>\n      <td>37</td>\n      <td>007</td>\n    </tr>\n    <tr>\n      <th>2</th>\n      <td>Beaufort County, North Carolina</td>\n      <td>17349</td>\n      <td>85.8</td>\n      <td>14964</td>\n      <td>74.0</td>\n      <td>37</td>\n      <td>013</td>\n    </tr>\n    <tr>\n      <th>3</th>\n      <td>Brunswick County, North Carolina</td>\n      <td>55782</td>\n      <td>93.9</td>\n      <td>52355</td>\n      <td>88.1</td>\n      <td>37</td>\n      <td>019</td>\n    </tr>\n    <tr>\n      <th>4</th>\n      <td>Cabarrus County, North Carolina</td>\n      <td>68821</td>\n      <td>94.5</td>\n      <td>64618</td>\n      <td>88.7</td>\n      <td>37</td>\n      <td>025</td>\n    </tr>\n    <tr>\n      <th>...</th>\n      <td>...</td>\n      <td>...</td>\n      <td>...</td>\n      <td>...</td>\n      <td>...</td>\n      <td>...</td>\n      <td>...</td>\n    </tr>\n    <tr>\n      <th>96</th>\n      <td>Washington County, North Carolina</td>\n      <td>3812</td>\n      <td>72.8</td>\n      <td>3438</td>\n      <td>65.6</td>\n      <td>37</td>\n      <td>187</td>\n    </tr>\n    <tr>\n      <th>97</th>\n      <td>Watauga County, North Carolina</td>\n      <td>19564</td>\n      <td>91.2</td>\n      <td>18109</td>\n      <td>84.4</td>\n      <td>37</td>\n      <td>189</td>\n    </tr>\n    <tr>\n      <th>98</th>\n      <td>Wilkes County, North Carolina</td>\n      <td>24956</td>\n      <td>86.3</td>\n      <td>22996</td>\n      <td>79.6</td>\n      <td>37</td>\n      <td>193</td>\n    </tr>\n    <tr>\n      <th>99</th>\n      <td>Wilson County, North Carolina</td>\n      <td>26458</td>\n      <td>82.8</td>\n      <td>24419</td>\n      <td>76.4</td>\n      <td>37</td>\n      <td>195</td>\n    </tr>\n    <tr>\n      <th>100</th>\n      <td>Yancey County, North Carolina</td>\n      <td>6153</td>\n      <td>82.4</td>\n      <td>5647</td>\n      <td>75.6</td>\n      <td>37</td>\n      <td>199</td>\n    </tr>\n  </tbody>\n</table>\n<p>101 rows × 7 columns</p>\n</div>"
     },
     "execution_count": 74,
     "metadata": {},
     "output_type": "execute_result"
    }
   ],
   "source": [
    "df_county = pd.DataFrame(api_results)\n",
    "\n",
    "print(df_county.shape)\n",
    "df_county"
   ],
   "metadata": {
    "collapsed": false
   }
  },
  {
   "cell_type": "markdown",
   "source": [
    "### Getting the first row into the columns & removing"
   ],
   "metadata": {
    "collapsed": false
   }
  },
  {
   "cell_type": "code",
   "execution_count": 75,
   "outputs": [
    {
     "name": "stdout",
     "output_type": "stream",
     "text": [
      "0           NAME\n",
      "1     DP02_0153E\n",
      "2    DP02_0153PE\n",
      "3     DP02_0154E\n",
      "4    DP02_0154PE\n",
      "5          state\n",
      "6         county\n",
      "Name: 0, dtype: object\n"
     ]
    }
   ],
   "source": [
    "column_names = df_county.iloc[0]\n",
    "\n",
    "print(column_names)"
   ],
   "metadata": {
    "collapsed": false
   }
  },
  {
   "cell_type": "code",
   "execution_count": 76,
   "outputs": [
    {
     "name": "stdout",
     "output_type": "stream",
     "text": [
      "(101, 7)\n"
     ]
    },
    {
     "data": {
      "text/plain": "0                              NAME  DP02_0153E  DP02_0153PE  DP02_0154E  \\\n0                              NAME  DP02_0153E  DP02_0153PE  DP02_0154E   \n1      Anson County, North Carolina        8315         84.8        7737   \n2   Beaufort County, North Carolina       17349         85.8       14964   \n3  Brunswick County, North Carolina       55782         93.9       52355   \n4   Cabarrus County, North Carolina       68821         94.5       64618   \n\n0  DP02_0154PE  state  county  \n0  DP02_0154PE  state  county  \n1         78.9     37     007  \n2         74.0     37     013  \n3         88.1     37     019  \n4         88.7     37     025  ",
      "text/html": "<div>\n<style scoped>\n    .dataframe tbody tr th:only-of-type {\n        vertical-align: middle;\n    }\n\n    .dataframe tbody tr th {\n        vertical-align: top;\n    }\n\n    .dataframe thead th {\n        text-align: right;\n    }\n</style>\n<table border=\"1\" class=\"dataframe\">\n  <thead>\n    <tr style=\"text-align: right;\">\n      <th></th>\n      <th>NAME</th>\n      <th>DP02_0153E</th>\n      <th>DP02_0153PE</th>\n      <th>DP02_0154E</th>\n      <th>DP02_0154PE</th>\n      <th>state</th>\n      <th>county</th>\n    </tr>\n  </thead>\n  <tbody>\n    <tr>\n      <th>0</th>\n      <td>NAME</td>\n      <td>DP02_0153E</td>\n      <td>DP02_0153PE</td>\n      <td>DP02_0154E</td>\n      <td>DP02_0154PE</td>\n      <td>state</td>\n      <td>county</td>\n    </tr>\n    <tr>\n      <th>1</th>\n      <td>Anson County, North Carolina</td>\n      <td>8315</td>\n      <td>84.8</td>\n      <td>7737</td>\n      <td>78.9</td>\n      <td>37</td>\n      <td>007</td>\n    </tr>\n    <tr>\n      <th>2</th>\n      <td>Beaufort County, North Carolina</td>\n      <td>17349</td>\n      <td>85.8</td>\n      <td>14964</td>\n      <td>74.0</td>\n      <td>37</td>\n      <td>013</td>\n    </tr>\n    <tr>\n      <th>3</th>\n      <td>Brunswick County, North Carolina</td>\n      <td>55782</td>\n      <td>93.9</td>\n      <td>52355</td>\n      <td>88.1</td>\n      <td>37</td>\n      <td>019</td>\n    </tr>\n    <tr>\n      <th>4</th>\n      <td>Cabarrus County, North Carolina</td>\n      <td>68821</td>\n      <td>94.5</td>\n      <td>64618</td>\n      <td>88.7</td>\n      <td>37</td>\n      <td>025</td>\n    </tr>\n  </tbody>\n</table>\n</div>"
     },
     "execution_count": 76,
     "metadata": {},
     "output_type": "execute_result"
    }
   ],
   "source": [
    "df_county.columns = column_names\n",
    "\n",
    "print(df_county.shape)\n",
    "df_county.head()"
   ],
   "metadata": {
    "collapsed": false
   }
  },
  {
   "cell_type": "code",
   "execution_count": 77,
   "outputs": [
    {
     "name": "stdout",
     "output_type": "stream",
     "text": [
      "(100, 7)\n"
     ]
    },
    {
     "data": {
      "text/plain": "0                                 NAME DP02_0153E DP02_0153PE DP02_0154E  \\\n1         Anson County, North Carolina       8315        84.8       7737   \n2      Beaufort County, North Carolina      17349        85.8      14964   \n3     Brunswick County, North Carolina      55782        93.9      52355   \n4      Cabarrus County, North Carolina      68821        94.5      64618   \n5      Carteret County, North Carolina      27889        92.8      26256   \n..                                 ...        ...         ...        ...   \n96   Washington County, North Carolina       3812        72.8       3438   \n97      Watauga County, North Carolina      19564        91.2      18109   \n98       Wilkes County, North Carolina      24956        86.3      22996   \n99       Wilson County, North Carolina      26458        82.8      24419   \n100      Yancey County, North Carolina       6153        82.4       5647   \n\n0   DP02_0154PE state county  \n1          78.9    37    007  \n2          74.0    37    013  \n3          88.1    37    019  \n4          88.7    37    025  \n5          87.3    37    031  \n..          ...   ...    ...  \n96         65.6    37    187  \n97         84.4    37    189  \n98         79.6    37    193  \n99         76.4    37    195  \n100        75.6    37    199  \n\n[100 rows x 7 columns]",
      "text/html": "<div>\n<style scoped>\n    .dataframe tbody tr th:only-of-type {\n        vertical-align: middle;\n    }\n\n    .dataframe tbody tr th {\n        vertical-align: top;\n    }\n\n    .dataframe thead th {\n        text-align: right;\n    }\n</style>\n<table border=\"1\" class=\"dataframe\">\n  <thead>\n    <tr style=\"text-align: right;\">\n      <th></th>\n      <th>NAME</th>\n      <th>DP02_0153E</th>\n      <th>DP02_0153PE</th>\n      <th>DP02_0154E</th>\n      <th>DP02_0154PE</th>\n      <th>state</th>\n      <th>county</th>\n    </tr>\n  </thead>\n  <tbody>\n    <tr>\n      <th>1</th>\n      <td>Anson County, North Carolina</td>\n      <td>8315</td>\n      <td>84.8</td>\n      <td>7737</td>\n      <td>78.9</td>\n      <td>37</td>\n      <td>007</td>\n    </tr>\n    <tr>\n      <th>2</th>\n      <td>Beaufort County, North Carolina</td>\n      <td>17349</td>\n      <td>85.8</td>\n      <td>14964</td>\n      <td>74.0</td>\n      <td>37</td>\n      <td>013</td>\n    </tr>\n    <tr>\n      <th>3</th>\n      <td>Brunswick County, North Carolina</td>\n      <td>55782</td>\n      <td>93.9</td>\n      <td>52355</td>\n      <td>88.1</td>\n      <td>37</td>\n      <td>019</td>\n    </tr>\n    <tr>\n      <th>4</th>\n      <td>Cabarrus County, North Carolina</td>\n      <td>68821</td>\n      <td>94.5</td>\n      <td>64618</td>\n      <td>88.7</td>\n      <td>37</td>\n      <td>025</td>\n    </tr>\n    <tr>\n      <th>5</th>\n      <td>Carteret County, North Carolina</td>\n      <td>27889</td>\n      <td>92.8</td>\n      <td>26256</td>\n      <td>87.3</td>\n      <td>37</td>\n      <td>031</td>\n    </tr>\n    <tr>\n      <th>...</th>\n      <td>...</td>\n      <td>...</td>\n      <td>...</td>\n      <td>...</td>\n      <td>...</td>\n      <td>...</td>\n      <td>...</td>\n    </tr>\n    <tr>\n      <th>96</th>\n      <td>Washington County, North Carolina</td>\n      <td>3812</td>\n      <td>72.8</td>\n      <td>3438</td>\n      <td>65.6</td>\n      <td>37</td>\n      <td>187</td>\n    </tr>\n    <tr>\n      <th>97</th>\n      <td>Watauga County, North Carolina</td>\n      <td>19564</td>\n      <td>91.2</td>\n      <td>18109</td>\n      <td>84.4</td>\n      <td>37</td>\n      <td>189</td>\n    </tr>\n    <tr>\n      <th>98</th>\n      <td>Wilkes County, North Carolina</td>\n      <td>24956</td>\n      <td>86.3</td>\n      <td>22996</td>\n      <td>79.6</td>\n      <td>37</td>\n      <td>193</td>\n    </tr>\n    <tr>\n      <th>99</th>\n      <td>Wilson County, North Carolina</td>\n      <td>26458</td>\n      <td>82.8</td>\n      <td>24419</td>\n      <td>76.4</td>\n      <td>37</td>\n      <td>195</td>\n    </tr>\n    <tr>\n      <th>100</th>\n      <td>Yancey County, North Carolina</td>\n      <td>6153</td>\n      <td>82.4</td>\n      <td>5647</td>\n      <td>75.6</td>\n      <td>37</td>\n      <td>199</td>\n    </tr>\n  </tbody>\n</table>\n<p>100 rows × 7 columns</p>\n</div>"
     },
     "execution_count": 77,
     "metadata": {},
     "output_type": "execute_result"
    }
   ],
   "source": [
    "df_county = df_county.iloc[1:]\n",
    "\n",
    "print(df_county.shape)\n",
    "df_county"
   ],
   "metadata": {
    "collapsed": false
   }
  },
  {
   "cell_type": "markdown",
   "source": [
    "# Skill: Splitting Columns"
   ],
   "metadata": {
    "collapsed": false
   }
  },
  {
   "cell_type": "code",
   "execution_count": 78,
   "outputs": [
    {
     "name": "stdout",
     "output_type": "stream",
     "text": [
      "(100, 9)\n"
     ]
    },
    {
     "name": "stderr",
     "output_type": "stream",
     "text": [
      "/tmp/ipykernel_309755/338019331.py:2: SettingWithCopyWarning: \n",
      "A value is trying to be set on a copy of a slice from a DataFrame.\n",
      "Try using .loc[row_indexer,col_indexer] = value instead\n",
      "\n",
      "See the caveats in the documentation: https://pandas.pydata.org/pandas-docs/stable/user_guide/indexing.html#returning-a-view-versus-a-copy\n",
      "  df_county[two_cols] = df_county[\"NAME\"].str.split(',',1, expand=True)\n",
      "/tmp/ipykernel_309755/338019331.py:2: SettingWithCopyWarning: \n",
      "A value is trying to be set on a copy of a slice from a DataFrame.\n",
      "Try using .loc[row_indexer,col_indexer] = value instead\n",
      "\n",
      "See the caveats in the documentation: https://pandas.pydata.org/pandas-docs/stable/user_guide/indexing.html#returning-a-view-versus-a-copy\n",
      "  df_county[two_cols] = df_county[\"NAME\"].str.split(',',1, expand=True)\n"
     ]
    },
    {
     "data": {
      "text/plain": "0                              NAME DP02_0153E DP02_0153PE DP02_0154E  \\\n1      Anson County, North Carolina       8315        84.8       7737   \n2   Beaufort County, North Carolina      17349        85.8      14964   \n3  Brunswick County, North Carolina      55782        93.9      52355   \n4   Cabarrus County, North Carolina      68821        94.5      64618   \n5   Carteret County, North Carolina      27889        92.8      26256   \n\n0 DP02_0154PE state county       County_Name            Trash  \n1        78.9    37    007      Anson County   North Carolina  \n2        74.0    37    013   Beaufort County   North Carolina  \n3        88.1    37    019  Brunswick County   North Carolina  \n4        88.7    37    025   Cabarrus County   North Carolina  \n5        87.3    37    031   Carteret County   North Carolina  ",
      "text/html": "<div>\n<style scoped>\n    .dataframe tbody tr th:only-of-type {\n        vertical-align: middle;\n    }\n\n    .dataframe tbody tr th {\n        vertical-align: top;\n    }\n\n    .dataframe thead th {\n        text-align: right;\n    }\n</style>\n<table border=\"1\" class=\"dataframe\">\n  <thead>\n    <tr style=\"text-align: right;\">\n      <th></th>\n      <th>NAME</th>\n      <th>DP02_0153E</th>\n      <th>DP02_0153PE</th>\n      <th>DP02_0154E</th>\n      <th>DP02_0154PE</th>\n      <th>state</th>\n      <th>county</th>\n      <th>County_Name</th>\n      <th>Trash</th>\n    </tr>\n  </thead>\n  <tbody>\n    <tr>\n      <th>1</th>\n      <td>Anson County, North Carolina</td>\n      <td>8315</td>\n      <td>84.8</td>\n      <td>7737</td>\n      <td>78.9</td>\n      <td>37</td>\n      <td>007</td>\n      <td>Anson County</td>\n      <td>North Carolina</td>\n    </tr>\n    <tr>\n      <th>2</th>\n      <td>Beaufort County, North Carolina</td>\n      <td>17349</td>\n      <td>85.8</td>\n      <td>14964</td>\n      <td>74.0</td>\n      <td>37</td>\n      <td>013</td>\n      <td>Beaufort County</td>\n      <td>North Carolina</td>\n    </tr>\n    <tr>\n      <th>3</th>\n      <td>Brunswick County, North Carolina</td>\n      <td>55782</td>\n      <td>93.9</td>\n      <td>52355</td>\n      <td>88.1</td>\n      <td>37</td>\n      <td>019</td>\n      <td>Brunswick County</td>\n      <td>North Carolina</td>\n    </tr>\n    <tr>\n      <th>4</th>\n      <td>Cabarrus County, North Carolina</td>\n      <td>68821</td>\n      <td>94.5</td>\n      <td>64618</td>\n      <td>88.7</td>\n      <td>37</td>\n      <td>025</td>\n      <td>Cabarrus County</td>\n      <td>North Carolina</td>\n    </tr>\n    <tr>\n      <th>5</th>\n      <td>Carteret County, North Carolina</td>\n      <td>27889</td>\n      <td>92.8</td>\n      <td>26256</td>\n      <td>87.3</td>\n      <td>37</td>\n      <td>031</td>\n      <td>Carteret County</td>\n      <td>North Carolina</td>\n    </tr>\n  </tbody>\n</table>\n</div>"
     },
     "execution_count": 78,
     "metadata": {},
     "output_type": "execute_result"
    }
   ],
   "source": [
    "two_cols = [\"County_Name\", \"Trash\"]\n",
    "df_county[two_cols] = df_county[\"NAME\"].str.split(',',1, expand=True)\n",
    "\n",
    "print(df_county.shape)\n",
    "df_county.head()"
   ],
   "metadata": {
    "collapsed": false
   }
  },
  {
   "cell_type": "markdown",
   "source": [
    "# Skill: replace()"
   ],
   "metadata": {
    "collapsed": false
   }
  },
  {
   "cell_type": "code",
   "execution_count": 79,
   "outputs": [
    {
     "name": "stdout",
     "output_type": "stream",
     "text": [
      "(100, 9)\n"
     ]
    },
    {
     "name": "stderr",
     "output_type": "stream",
     "text": [
      "/tmp/ipykernel_309755/2800710689.py:1: SettingWithCopyWarning: \n",
      "A value is trying to be set on a copy of a slice from a DataFrame.\n",
      "Try using .loc[row_indexer,col_indexer] = value instead\n",
      "\n",
      "See the caveats in the documentation: https://pandas.pydata.org/pandas-docs/stable/user_guide/indexing.html#returning-a-view-versus-a-copy\n",
      "  df_county[\"County_Name\"] = df_county[\"County_Name\"].str.replace(\"County\", \"\")\n"
     ]
    },
    {
     "data": {
      "text/plain": "0                              NAME DP02_0153E DP02_0153PE DP02_0154E  \\\n1      Anson County, North Carolina       8315        84.8       7737   \n2   Beaufort County, North Carolina      17349        85.8      14964   \n3  Brunswick County, North Carolina      55782        93.9      52355   \n4   Cabarrus County, North Carolina      68821        94.5      64618   \n5   Carteret County, North Carolina      27889        92.8      26256   \n\n0 DP02_0154PE state county County_Name            Trash  \n1        78.9    37    007      Anson    North Carolina  \n2        74.0    37    013   Beaufort    North Carolina  \n3        88.1    37    019  Brunswick    North Carolina  \n4        88.7    37    025   Cabarrus    North Carolina  \n5        87.3    37    031   Carteret    North Carolina  ",
      "text/html": "<div>\n<style scoped>\n    .dataframe tbody tr th:only-of-type {\n        vertical-align: middle;\n    }\n\n    .dataframe tbody tr th {\n        vertical-align: top;\n    }\n\n    .dataframe thead th {\n        text-align: right;\n    }\n</style>\n<table border=\"1\" class=\"dataframe\">\n  <thead>\n    <tr style=\"text-align: right;\">\n      <th></th>\n      <th>NAME</th>\n      <th>DP02_0153E</th>\n      <th>DP02_0153PE</th>\n      <th>DP02_0154E</th>\n      <th>DP02_0154PE</th>\n      <th>state</th>\n      <th>county</th>\n      <th>County_Name</th>\n      <th>Trash</th>\n    </tr>\n  </thead>\n  <tbody>\n    <tr>\n      <th>1</th>\n      <td>Anson County, North Carolina</td>\n      <td>8315</td>\n      <td>84.8</td>\n      <td>7737</td>\n      <td>78.9</td>\n      <td>37</td>\n      <td>007</td>\n      <td>Anson</td>\n      <td>North Carolina</td>\n    </tr>\n    <tr>\n      <th>2</th>\n      <td>Beaufort County, North Carolina</td>\n      <td>17349</td>\n      <td>85.8</td>\n      <td>14964</td>\n      <td>74.0</td>\n      <td>37</td>\n      <td>013</td>\n      <td>Beaufort</td>\n      <td>North Carolina</td>\n    </tr>\n    <tr>\n      <th>3</th>\n      <td>Brunswick County, North Carolina</td>\n      <td>55782</td>\n      <td>93.9</td>\n      <td>52355</td>\n      <td>88.1</td>\n      <td>37</td>\n      <td>019</td>\n      <td>Brunswick</td>\n      <td>North Carolina</td>\n    </tr>\n    <tr>\n      <th>4</th>\n      <td>Cabarrus County, North Carolina</td>\n      <td>68821</td>\n      <td>94.5</td>\n      <td>64618</td>\n      <td>88.7</td>\n      <td>37</td>\n      <td>025</td>\n      <td>Cabarrus</td>\n      <td>North Carolina</td>\n    </tr>\n    <tr>\n      <th>5</th>\n      <td>Carteret County, North Carolina</td>\n      <td>27889</td>\n      <td>92.8</td>\n      <td>26256</td>\n      <td>87.3</td>\n      <td>37</td>\n      <td>031</td>\n      <td>Carteret</td>\n      <td>North Carolina</td>\n    </tr>\n  </tbody>\n</table>\n</div>"
     },
     "execution_count": 79,
     "metadata": {},
     "output_type": "execute_result"
    }
   ],
   "source": [
    "df_county[\"County_Name\"] = df_county[\"County_Name\"].str.replace(\"County\", \"\")\n",
    "\n",
    "print(df_county.shape)\n",
    "df_county.head()"
   ],
   "metadata": {
    "collapsed": false
   }
  },
  {
   "cell_type": "markdown",
   "source": [
    "### The County_Name column probably has trailing spaces after the replace(), so I'll go ahead and strip that column.\n",
    "# Skill: strip()"
   ],
   "metadata": {
    "collapsed": false
   }
  },
  {
   "cell_type": "code",
   "execution_count": 80,
   "outputs": [
    {
     "name": "stdout",
     "output_type": "stream",
     "text": [
      "(100, 9)\n"
     ]
    },
    {
     "name": "stderr",
     "output_type": "stream",
     "text": [
      "/tmp/ipykernel_309755/1393407243.py:1: SettingWithCopyWarning: \n",
      "A value is trying to be set on a copy of a slice from a DataFrame.\n",
      "Try using .loc[row_indexer,col_indexer] = value instead\n",
      "\n",
      "See the caveats in the documentation: https://pandas.pydata.org/pandas-docs/stable/user_guide/indexing.html#returning-a-view-versus-a-copy\n",
      "  df_county[\"County_Name\"] = df_county[\"County_Name\"].str.strip()\n"
     ]
    },
    {
     "data": {
      "text/plain": "0                              NAME DP02_0153E DP02_0153PE DP02_0154E  \\\n1      Anson County, North Carolina       8315        84.8       7737   \n2   Beaufort County, North Carolina      17349        85.8      14964   \n3  Brunswick County, North Carolina      55782        93.9      52355   \n4   Cabarrus County, North Carolina      68821        94.5      64618   \n5   Carteret County, North Carolina      27889        92.8      26256   \n\n0 DP02_0154PE state county County_Name            Trash  \n1        78.9    37    007       Anson   North Carolina  \n2        74.0    37    013    Beaufort   North Carolina  \n3        88.1    37    019   Brunswick   North Carolina  \n4        88.7    37    025    Cabarrus   North Carolina  \n5        87.3    37    031    Carteret   North Carolina  ",
      "text/html": "<div>\n<style scoped>\n    .dataframe tbody tr th:only-of-type {\n        vertical-align: middle;\n    }\n\n    .dataframe tbody tr th {\n        vertical-align: top;\n    }\n\n    .dataframe thead th {\n        text-align: right;\n    }\n</style>\n<table border=\"1\" class=\"dataframe\">\n  <thead>\n    <tr style=\"text-align: right;\">\n      <th></th>\n      <th>NAME</th>\n      <th>DP02_0153E</th>\n      <th>DP02_0153PE</th>\n      <th>DP02_0154E</th>\n      <th>DP02_0154PE</th>\n      <th>state</th>\n      <th>county</th>\n      <th>County_Name</th>\n      <th>Trash</th>\n    </tr>\n  </thead>\n  <tbody>\n    <tr>\n      <th>1</th>\n      <td>Anson County, North Carolina</td>\n      <td>8315</td>\n      <td>84.8</td>\n      <td>7737</td>\n      <td>78.9</td>\n      <td>37</td>\n      <td>007</td>\n      <td>Anson</td>\n      <td>North Carolina</td>\n    </tr>\n    <tr>\n      <th>2</th>\n      <td>Beaufort County, North Carolina</td>\n      <td>17349</td>\n      <td>85.8</td>\n      <td>14964</td>\n      <td>74.0</td>\n      <td>37</td>\n      <td>013</td>\n      <td>Beaufort</td>\n      <td>North Carolina</td>\n    </tr>\n    <tr>\n      <th>3</th>\n      <td>Brunswick County, North Carolina</td>\n      <td>55782</td>\n      <td>93.9</td>\n      <td>52355</td>\n      <td>88.1</td>\n      <td>37</td>\n      <td>019</td>\n      <td>Brunswick</td>\n      <td>North Carolina</td>\n    </tr>\n    <tr>\n      <th>4</th>\n      <td>Cabarrus County, North Carolina</td>\n      <td>68821</td>\n      <td>94.5</td>\n      <td>64618</td>\n      <td>88.7</td>\n      <td>37</td>\n      <td>025</td>\n      <td>Cabarrus</td>\n      <td>North Carolina</td>\n    </tr>\n    <tr>\n      <th>5</th>\n      <td>Carteret County, North Carolina</td>\n      <td>27889</td>\n      <td>92.8</td>\n      <td>26256</td>\n      <td>87.3</td>\n      <td>37</td>\n      <td>031</td>\n      <td>Carteret</td>\n      <td>North Carolina</td>\n    </tr>\n  </tbody>\n</table>\n</div>"
     },
     "execution_count": 80,
     "metadata": {},
     "output_type": "execute_result"
    }
   ],
   "source": [
    "df_county[\"County_Name\"] = df_county[\"County_Name\"].str.strip()\n",
    "\n",
    "print(df_county.shape)\n",
    "df_county.head()"
   ],
   "metadata": {
    "collapsed": false
   }
  },
  {
   "cell_type": "markdown",
   "source": [
    "### Renaming the columns"
   ],
   "metadata": {
    "collapsed": false
   }
  },
  {
   "cell_type": "code",
   "execution_count": 81,
   "outputs": [
    {
     "name": "stdout",
     "output_type": "stream",
     "text": [
      "(100, 9)\n"
     ]
    },
    {
     "name": "stderr",
     "output_type": "stream",
     "text": [
      "/tmp/ipykernel_309755/773321004.py:1: SettingWithCopyWarning: \n",
      "A value is trying to be set on a copy of a slice from a DataFrame\n",
      "\n",
      "See the caveats in the documentation: https://pandas.pydata.org/pandas-docs/stable/user_guide/indexing.html#returning-a-view-versus-a-copy\n",
      "  df_county.rename(columns={\"DP02_0153E\": \"Total_Computer\", \"DP02_0153PE\": \"Total_Computer_Percent\", \"DP02_0154E\": \"Total_Broadband_Internet\", \"DP02_0154PE\": \"Total_Broadband_Internet_Percent\", \"state\": \"State_FIPS\", \"county\": \"County_FIPS\"}, inplace=True)\n"
     ]
    },
    {
     "data": {
      "text/plain": "0                              NAME Total_Computer Total_Computer_Percent  \\\n1      Anson County, North Carolina           8315                   84.8   \n2   Beaufort County, North Carolina          17349                   85.8   \n3  Brunswick County, North Carolina          55782                   93.9   \n4   Cabarrus County, North Carolina          68821                   94.5   \n5   Carteret County, North Carolina          27889                   92.8   \n\n0 Total_Broadband_Internet Total_Broadband_Internet_Percent State_FIPS  \\\n1                     7737                             78.9         37   \n2                    14964                             74.0         37   \n3                    52355                             88.1         37   \n4                    64618                             88.7         37   \n5                    26256                             87.3         37   \n\n0 County_FIPS County_Name            Trash  \n1         007       Anson   North Carolina  \n2         013    Beaufort   North Carolina  \n3         019   Brunswick   North Carolina  \n4         025    Cabarrus   North Carolina  \n5         031    Carteret   North Carolina  ",
      "text/html": "<div>\n<style scoped>\n    .dataframe tbody tr th:only-of-type {\n        vertical-align: middle;\n    }\n\n    .dataframe tbody tr th {\n        vertical-align: top;\n    }\n\n    .dataframe thead th {\n        text-align: right;\n    }\n</style>\n<table border=\"1\" class=\"dataframe\">\n  <thead>\n    <tr style=\"text-align: right;\">\n      <th></th>\n      <th>NAME</th>\n      <th>Total_Computer</th>\n      <th>Total_Computer_Percent</th>\n      <th>Total_Broadband_Internet</th>\n      <th>Total_Broadband_Internet_Percent</th>\n      <th>State_FIPS</th>\n      <th>County_FIPS</th>\n      <th>County_Name</th>\n      <th>Trash</th>\n    </tr>\n  </thead>\n  <tbody>\n    <tr>\n      <th>1</th>\n      <td>Anson County, North Carolina</td>\n      <td>8315</td>\n      <td>84.8</td>\n      <td>7737</td>\n      <td>78.9</td>\n      <td>37</td>\n      <td>007</td>\n      <td>Anson</td>\n      <td>North Carolina</td>\n    </tr>\n    <tr>\n      <th>2</th>\n      <td>Beaufort County, North Carolina</td>\n      <td>17349</td>\n      <td>85.8</td>\n      <td>14964</td>\n      <td>74.0</td>\n      <td>37</td>\n      <td>013</td>\n      <td>Beaufort</td>\n      <td>North Carolina</td>\n    </tr>\n    <tr>\n      <th>3</th>\n      <td>Brunswick County, North Carolina</td>\n      <td>55782</td>\n      <td>93.9</td>\n      <td>52355</td>\n      <td>88.1</td>\n      <td>37</td>\n      <td>019</td>\n      <td>Brunswick</td>\n      <td>North Carolina</td>\n    </tr>\n    <tr>\n      <th>4</th>\n      <td>Cabarrus County, North Carolina</td>\n      <td>68821</td>\n      <td>94.5</td>\n      <td>64618</td>\n      <td>88.7</td>\n      <td>37</td>\n      <td>025</td>\n      <td>Cabarrus</td>\n      <td>North Carolina</td>\n    </tr>\n    <tr>\n      <th>5</th>\n      <td>Carteret County, North Carolina</td>\n      <td>27889</td>\n      <td>92.8</td>\n      <td>26256</td>\n      <td>87.3</td>\n      <td>37</td>\n      <td>031</td>\n      <td>Carteret</td>\n      <td>North Carolina</td>\n    </tr>\n  </tbody>\n</table>\n</div>"
     },
     "execution_count": 81,
     "metadata": {},
     "output_type": "execute_result"
    }
   ],
   "source": [
    "df_county.rename(columns={\"DP02_0153E\": \"Total_Computer\", \"DP02_0153PE\": \"Total_Computer_Percent\", \"DP02_0154E\": \"Total_Broadband_Internet\", \"DP02_0154PE\": \"Total_Broadband_Internet_Percent\", \"state\": \"State_FIPS\", \"county\": \"County_FIPS\"}, inplace=True)\n",
    "\n",
    "print(df_county.shape)\n",
    "df_county.head()"
   ],
   "metadata": {
    "collapsed": false
   }
  },
  {
   "cell_type": "markdown",
   "source": [
    "### Convert to ints and floats"
   ],
   "metadata": {
    "collapsed": false
   }
  },
  {
   "cell_type": "code",
   "execution_count": 82,
   "outputs": [
    {
     "data": {
      "text/plain": "0\nNAME                                object\nTotal_Computer                      object\nTotal_Computer_Percent              object\nTotal_Broadband_Internet            object\nTotal_Broadband_Internet_Percent    object\nState_FIPS                          object\nCounty_FIPS                         object\nCounty_Name                         object\nTrash                               object\ndtype: object"
     },
     "execution_count": 82,
     "metadata": {},
     "output_type": "execute_result"
    }
   ],
   "source": [
    "df_county.dtypes"
   ],
   "metadata": {
    "collapsed": false
   }
  },
  {
   "cell_type": "code",
   "execution_count": 83,
   "outputs": [
    {
     "name": "stderr",
     "output_type": "stream",
     "text": [
      "/tmp/ipykernel_309755/3686167069.py:1: SettingWithCopyWarning: \n",
      "A value is trying to be set on a copy of a slice from a DataFrame.\n",
      "Try using .loc[row_indexer,col_indexer] = value instead\n",
      "\n",
      "See the caveats in the documentation: https://pandas.pydata.org/pandas-docs/stable/user_guide/indexing.html#returning-a-view-versus-a-copy\n",
      "  df_county[\"Total_Computer\"] = pd.to_numeric(df_county[\"Total_Computer\"]).astype(int)\n",
      "/tmp/ipykernel_309755/3686167069.py:2: SettingWithCopyWarning: \n",
      "A value is trying to be set on a copy of a slice from a DataFrame.\n",
      "Try using .loc[row_indexer,col_indexer] = value instead\n",
      "\n",
      "See the caveats in the documentation: https://pandas.pydata.org/pandas-docs/stable/user_guide/indexing.html#returning-a-view-versus-a-copy\n",
      "  df_county[\"Total_Broadband_Internet\"] = pd.to_numeric(df_county[\"Total_Broadband_Internet\"]).astype(int)\n",
      "/tmp/ipykernel_309755/3686167069.py:3: SettingWithCopyWarning: \n",
      "A value is trying to be set on a copy of a slice from a DataFrame.\n",
      "Try using .loc[row_indexer,col_indexer] = value instead\n",
      "\n",
      "See the caveats in the documentation: https://pandas.pydata.org/pandas-docs/stable/user_guide/indexing.html#returning-a-view-versus-a-copy\n",
      "  df_county[\"Total_Computer_Percent\"] = pd.to_numeric(df_county[\"Total_Computer_Percent\"]).astype(float)\n",
      "/tmp/ipykernel_309755/3686167069.py:4: SettingWithCopyWarning: \n",
      "A value is trying to be set on a copy of a slice from a DataFrame.\n",
      "Try using .loc[row_indexer,col_indexer] = value instead\n",
      "\n",
      "See the caveats in the documentation: https://pandas.pydata.org/pandas-docs/stable/user_guide/indexing.html#returning-a-view-versus-a-copy\n",
      "  df_county[\"Total_Broadband_Internet_Percent\"] = pd.to_numeric(df_county[\"Total_Broadband_Internet_Percent\"]).astype(float)\n"
     ]
    },
    {
     "data": {
      "text/plain": "0\nNAME                                 object\nTotal_Computer                        int64\nTotal_Computer_Percent              float64\nTotal_Broadband_Internet              int64\nTotal_Broadband_Internet_Percent    float64\nState_FIPS                           object\nCounty_FIPS                          object\nCounty_Name                          object\nTrash                                object\ndtype: object"
     },
     "execution_count": 83,
     "metadata": {},
     "output_type": "execute_result"
    }
   ],
   "source": [
    "df_county[\"Total_Computer\"] = pd.to_numeric(df_county[\"Total_Computer\"]).astype(int)\n",
    "df_county[\"Total_Broadband_Internet\"] = pd.to_numeric(df_county[\"Total_Broadband_Internet\"]).astype(int)\n",
    "df_county[\"Total_Computer_Percent\"] = pd.to_numeric(df_county[\"Total_Computer_Percent\"]).astype(float)\n",
    "df_county[\"Total_Broadband_Internet_Percent\"] = pd.to_numeric(df_county[\"Total_Broadband_Internet_Percent\"]).astype(float)\n",
    "\n",
    "df_county.dtypes"
   ],
   "metadata": {
    "collapsed": false
   }
  },
  {
   "cell_type": "markdown",
   "source": [
    "### Make a FIPS_Code column"
   ],
   "metadata": {
    "collapsed": false
   }
  },
  {
   "cell_type": "code",
   "execution_count": 84,
   "outputs": [
    {
     "name": "stdout",
     "output_type": "stream",
     "text": [
      "(100, 10)\n"
     ]
    },
    {
     "name": "stderr",
     "output_type": "stream",
     "text": [
      "/tmp/ipykernel_309755/1657695989.py:1: SettingWithCopyWarning: \n",
      "A value is trying to be set on a copy of a slice from a DataFrame.\n",
      "Try using .loc[row_indexer,col_indexer] = value instead\n",
      "\n",
      "See the caveats in the documentation: https://pandas.pydata.org/pandas-docs/stable/user_guide/indexing.html#returning-a-view-versus-a-copy\n",
      "  df_county[\"FIPS_Code\"] = df_county[\"State_FIPS\"] + df_county[\"County_FIPS\"]\n"
     ]
    },
    {
     "data": {
      "text/plain": "0                              NAME  Total_Computer  Total_Computer_Percent  \\\n1      Anson County, North Carolina            8315                    84.8   \n2   Beaufort County, North Carolina           17349                    85.8   \n3  Brunswick County, North Carolina           55782                    93.9   \n4   Cabarrus County, North Carolina           68821                    94.5   \n5   Carteret County, North Carolina           27889                    92.8   \n\n0  Total_Broadband_Internet  Total_Broadband_Internet_Percent State_FIPS  \\\n1                      7737                              78.9         37   \n2                     14964                              74.0         37   \n3                     52355                              88.1         37   \n4                     64618                              88.7         37   \n5                     26256                              87.3         37   \n\n0 County_FIPS County_Name            Trash FIPS_Code  \n1         007       Anson   North Carolina     37007  \n2         013    Beaufort   North Carolina     37013  \n3         019   Brunswick   North Carolina     37019  \n4         025    Cabarrus   North Carolina     37025  \n5         031    Carteret   North Carolina     37031  ",
      "text/html": "<div>\n<style scoped>\n    .dataframe tbody tr th:only-of-type {\n        vertical-align: middle;\n    }\n\n    .dataframe tbody tr th {\n        vertical-align: top;\n    }\n\n    .dataframe thead th {\n        text-align: right;\n    }\n</style>\n<table border=\"1\" class=\"dataframe\">\n  <thead>\n    <tr style=\"text-align: right;\">\n      <th></th>\n      <th>NAME</th>\n      <th>Total_Computer</th>\n      <th>Total_Computer_Percent</th>\n      <th>Total_Broadband_Internet</th>\n      <th>Total_Broadband_Internet_Percent</th>\n      <th>State_FIPS</th>\n      <th>County_FIPS</th>\n      <th>County_Name</th>\n      <th>Trash</th>\n      <th>FIPS_Code</th>\n    </tr>\n  </thead>\n  <tbody>\n    <tr>\n      <th>1</th>\n      <td>Anson County, North Carolina</td>\n      <td>8315</td>\n      <td>84.8</td>\n      <td>7737</td>\n      <td>78.9</td>\n      <td>37</td>\n      <td>007</td>\n      <td>Anson</td>\n      <td>North Carolina</td>\n      <td>37007</td>\n    </tr>\n    <tr>\n      <th>2</th>\n      <td>Beaufort County, North Carolina</td>\n      <td>17349</td>\n      <td>85.8</td>\n      <td>14964</td>\n      <td>74.0</td>\n      <td>37</td>\n      <td>013</td>\n      <td>Beaufort</td>\n      <td>North Carolina</td>\n      <td>37013</td>\n    </tr>\n    <tr>\n      <th>3</th>\n      <td>Brunswick County, North Carolina</td>\n      <td>55782</td>\n      <td>93.9</td>\n      <td>52355</td>\n      <td>88.1</td>\n      <td>37</td>\n      <td>019</td>\n      <td>Brunswick</td>\n      <td>North Carolina</td>\n      <td>37019</td>\n    </tr>\n    <tr>\n      <th>4</th>\n      <td>Cabarrus County, North Carolina</td>\n      <td>68821</td>\n      <td>94.5</td>\n      <td>64618</td>\n      <td>88.7</td>\n      <td>37</td>\n      <td>025</td>\n      <td>Cabarrus</td>\n      <td>North Carolina</td>\n      <td>37025</td>\n    </tr>\n    <tr>\n      <th>5</th>\n      <td>Carteret County, North Carolina</td>\n      <td>27889</td>\n      <td>92.8</td>\n      <td>26256</td>\n      <td>87.3</td>\n      <td>37</td>\n      <td>031</td>\n      <td>Carteret</td>\n      <td>North Carolina</td>\n      <td>37031</td>\n    </tr>\n  </tbody>\n</table>\n</div>"
     },
     "execution_count": 84,
     "metadata": {},
     "output_type": "execute_result"
    }
   ],
   "source": [
    "df_county[\"FIPS_Code\"] = df_county[\"State_FIPS\"] + df_county[\"County_FIPS\"]\n",
    "\n",
    "print(df_county.shape)\n",
    "df_county.head()"
   ],
   "metadata": {
    "collapsed": false
   }
  },
  {
   "cell_type": "markdown",
   "source": [
    "### Bring in the Rural/Urban County data\n",
    "### This data comes from the dataframe created during Lab 8"
   ],
   "metadata": {
    "collapsed": false
   }
  },
  {
   "cell_type": "code",
   "execution_count": 85,
   "outputs": [
    {
     "name": "stdout",
     "output_type": "stream",
     "text": [
      "(100, 4)\n"
     ]
    },
    {
     "data": {
      "text/plain": "   County_Name                Rural_Status  Population      State_Name\n0     Alamance  Regional City and Suburban      173877  North Carolina\n1    Alexander                       Rural       36644  North Carolina\n2    Alleghany                       Rural       11049  North Carolina\n3        Anson                       Rural       22060  North Carolina\n4         Ashe                       Rural       26711  North Carolina\n..         ...                         ...         ...             ...\n95       Wayne                       Rural      116835  North Carolina\n96      Wilkes                       Rural       65806  North Carolina\n97      Wilson                       Rural       78369  North Carolina\n98      Yadkin                       Rural       37192  North Carolina\n99      Yancey                       Rural       18757  North Carolina\n\n[100 rows x 4 columns]",
      "text/html": "<div>\n<style scoped>\n    .dataframe tbody tr th:only-of-type {\n        vertical-align: middle;\n    }\n\n    .dataframe tbody tr th {\n        vertical-align: top;\n    }\n\n    .dataframe thead th {\n        text-align: right;\n    }\n</style>\n<table border=\"1\" class=\"dataframe\">\n  <thead>\n    <tr style=\"text-align: right;\">\n      <th></th>\n      <th>County_Name</th>\n      <th>Rural_Status</th>\n      <th>Population</th>\n      <th>State_Name</th>\n    </tr>\n  </thead>\n  <tbody>\n    <tr>\n      <th>0</th>\n      <td>Alamance</td>\n      <td>Regional City and Suburban</td>\n      <td>173877</td>\n      <td>North Carolina</td>\n    </tr>\n    <tr>\n      <th>1</th>\n      <td>Alexander</td>\n      <td>Rural</td>\n      <td>36644</td>\n      <td>North Carolina</td>\n    </tr>\n    <tr>\n      <th>2</th>\n      <td>Alleghany</td>\n      <td>Rural</td>\n      <td>11049</td>\n      <td>North Carolina</td>\n    </tr>\n    <tr>\n      <th>3</th>\n      <td>Anson</td>\n      <td>Rural</td>\n      <td>22060</td>\n      <td>North Carolina</td>\n    </tr>\n    <tr>\n      <th>4</th>\n      <td>Ashe</td>\n      <td>Rural</td>\n      <td>26711</td>\n      <td>North Carolina</td>\n    </tr>\n    <tr>\n      <th>...</th>\n      <td>...</td>\n      <td>...</td>\n      <td>...</td>\n      <td>...</td>\n    </tr>\n    <tr>\n      <th>95</th>\n      <td>Wayne</td>\n      <td>Rural</td>\n      <td>116835</td>\n      <td>North Carolina</td>\n    </tr>\n    <tr>\n      <th>96</th>\n      <td>Wilkes</td>\n      <td>Rural</td>\n      <td>65806</td>\n      <td>North Carolina</td>\n    </tr>\n    <tr>\n      <th>97</th>\n      <td>Wilson</td>\n      <td>Rural</td>\n      <td>78369</td>\n      <td>North Carolina</td>\n    </tr>\n    <tr>\n      <th>98</th>\n      <td>Yadkin</td>\n      <td>Rural</td>\n      <td>37192</td>\n      <td>North Carolina</td>\n    </tr>\n    <tr>\n      <th>99</th>\n      <td>Yancey</td>\n      <td>Rural</td>\n      <td>18757</td>\n      <td>North Carolina</td>\n    </tr>\n  </tbody>\n</table>\n<p>100 rows × 4 columns</p>\n</div>"
     },
     "execution_count": 85,
     "metadata": {},
     "output_type": "execute_result"
    }
   ],
   "source": [
    "df_urb_rur = pd.read_csv(\"Data/Rural_Urban_Counties.csv\")\n",
    "\n",
    "print(df_urb_rur.shape)\n",
    "df_urb_rur"
   ],
   "metadata": {
    "collapsed": false
   }
  },
  {
   "cell_type": "markdown",
   "source": [
    "# Skill: Left Join w/ Rural Urban County Data"
   ],
   "metadata": {
    "collapsed": false
   }
  },
  {
   "cell_type": "code",
   "execution_count": 86,
   "outputs": [
    {
     "name": "stdout",
     "output_type": "stream",
     "text": [
      "(100, 13)\n"
     ]
    },
    {
     "data": {
      "text/plain": "                               NAME  Total_Computer  Total_Computer_Percent  \\\n0      Anson County, North Carolina            8315                    84.8   \n1   Beaufort County, North Carolina           17349                    85.8   \n2  Brunswick County, North Carolina           55782                    93.9   \n3   Cabarrus County, North Carolina           68821                    94.5   \n4   Carteret County, North Carolina           27889                    92.8   \n\n   Total_Broadband_Internet  Total_Broadband_Internet_Percent State_FIPS  \\\n0                      7737                              78.9         37   \n1                     14964                              74.0         37   \n2                     52355                              88.1         37   \n3                     64618                              88.7         37   \n4                     26256                              87.3         37   \n\n  County_FIPS County_Name            Trash FIPS_Code  \\\n0         007       Anson   North Carolina     37007   \n1         013    Beaufort   North Carolina     37013   \n2         019   Brunswick   North Carolina     37019   \n3         025    Cabarrus   North Carolina     37025   \n4         031    Carteret   North Carolina     37031   \n\n                 Rural_Status  Population      State_Name  \n0                       Rural       22060  North Carolina  \n1                       Rural       44468  North Carolina  \n2                       Rural      144215  North Carolina  \n3  Regional City and Suburban      231278  North Carolina  \n4                       Rural       68541  North Carolina  ",
      "text/html": "<div>\n<style scoped>\n    .dataframe tbody tr th:only-of-type {\n        vertical-align: middle;\n    }\n\n    .dataframe tbody tr th {\n        vertical-align: top;\n    }\n\n    .dataframe thead th {\n        text-align: right;\n    }\n</style>\n<table border=\"1\" class=\"dataframe\">\n  <thead>\n    <tr style=\"text-align: right;\">\n      <th></th>\n      <th>NAME</th>\n      <th>Total_Computer</th>\n      <th>Total_Computer_Percent</th>\n      <th>Total_Broadband_Internet</th>\n      <th>Total_Broadband_Internet_Percent</th>\n      <th>State_FIPS</th>\n      <th>County_FIPS</th>\n      <th>County_Name</th>\n      <th>Trash</th>\n      <th>FIPS_Code</th>\n      <th>Rural_Status</th>\n      <th>Population</th>\n      <th>State_Name</th>\n    </tr>\n  </thead>\n  <tbody>\n    <tr>\n      <th>0</th>\n      <td>Anson County, North Carolina</td>\n      <td>8315</td>\n      <td>84.8</td>\n      <td>7737</td>\n      <td>78.9</td>\n      <td>37</td>\n      <td>007</td>\n      <td>Anson</td>\n      <td>North Carolina</td>\n      <td>37007</td>\n      <td>Rural</td>\n      <td>22060</td>\n      <td>North Carolina</td>\n    </tr>\n    <tr>\n      <th>1</th>\n      <td>Beaufort County, North Carolina</td>\n      <td>17349</td>\n      <td>85.8</td>\n      <td>14964</td>\n      <td>74.0</td>\n      <td>37</td>\n      <td>013</td>\n      <td>Beaufort</td>\n      <td>North Carolina</td>\n      <td>37013</td>\n      <td>Rural</td>\n      <td>44468</td>\n      <td>North Carolina</td>\n    </tr>\n    <tr>\n      <th>2</th>\n      <td>Brunswick County, North Carolina</td>\n      <td>55782</td>\n      <td>93.9</td>\n      <td>52355</td>\n      <td>88.1</td>\n      <td>37</td>\n      <td>019</td>\n      <td>Brunswick</td>\n      <td>North Carolina</td>\n      <td>37019</td>\n      <td>Rural</td>\n      <td>144215</td>\n      <td>North Carolina</td>\n    </tr>\n    <tr>\n      <th>3</th>\n      <td>Cabarrus County, North Carolina</td>\n      <td>68821</td>\n      <td>94.5</td>\n      <td>64618</td>\n      <td>88.7</td>\n      <td>37</td>\n      <td>025</td>\n      <td>Cabarrus</td>\n      <td>North Carolina</td>\n      <td>37025</td>\n      <td>Regional City and Suburban</td>\n      <td>231278</td>\n      <td>North Carolina</td>\n    </tr>\n    <tr>\n      <th>4</th>\n      <td>Carteret County, North Carolina</td>\n      <td>27889</td>\n      <td>92.8</td>\n      <td>26256</td>\n      <td>87.3</td>\n      <td>37</td>\n      <td>031</td>\n      <td>Carteret</td>\n      <td>North Carolina</td>\n      <td>37031</td>\n      <td>Rural</td>\n      <td>68541</td>\n      <td>North Carolina</td>\n    </tr>\n  </tbody>\n</table>\n</div>"
     },
     "execution_count": 86,
     "metadata": {},
     "output_type": "execute_result"
    }
   ],
   "source": [
    "df_joined = pd.merge(df_county,\n",
    "                       df_urb_rur,\n",
    "                       left_on=\"County_Name\",\n",
    "                       right_on=\"County_Name\",\n",
    "                       how='left'         # Type of Join:  Left!\n",
    "                      )\n",
    "\n",
    "print(df_joined.shape)\n",
    "df_joined.head()"
   ],
   "metadata": {
    "collapsed": false
   }
  },
  {
   "cell_type": "markdown",
   "source": [
    "### Reorder and remove columns"
   ],
   "metadata": {
    "collapsed": false
   }
  },
  {
   "cell_type": "code",
   "execution_count": 88,
   "outputs": [
    {
     "name": "stdout",
     "output_type": "stream",
     "text": [
      "(100, 9)\n"
     ]
    },
    {
     "data": {
      "text/plain": "  County_Name                Rural_Status State_FIPS County_FIPS FIPS_Code  \\\n0       Anson                       Rural         37         007     37007   \n1    Beaufort                       Rural         37         013     37013   \n2   Brunswick                       Rural         37         019     37019   \n3    Cabarrus  Regional City and Suburban         37         025     37025   \n4    Carteret                       Rural         37         031     37031   \n\n   Total_Computer  Total_Computer_Percent  Total_Broadband_Internet  \\\n0            8315                    84.8                      7737   \n1           17349                    85.8                     14964   \n2           55782                    93.9                     52355   \n3           68821                    94.5                     64618   \n4           27889                    92.8                     26256   \n\n   Total_Broadband_Internet_Percent  \n0                              78.9  \n1                              74.0  \n2                              88.1  \n3                              88.7  \n4                              87.3  ",
      "text/html": "<div>\n<style scoped>\n    .dataframe tbody tr th:only-of-type {\n        vertical-align: middle;\n    }\n\n    .dataframe tbody tr th {\n        vertical-align: top;\n    }\n\n    .dataframe thead th {\n        text-align: right;\n    }\n</style>\n<table border=\"1\" class=\"dataframe\">\n  <thead>\n    <tr style=\"text-align: right;\">\n      <th></th>\n      <th>County_Name</th>\n      <th>Rural_Status</th>\n      <th>State_FIPS</th>\n      <th>County_FIPS</th>\n      <th>FIPS_Code</th>\n      <th>Total_Computer</th>\n      <th>Total_Computer_Percent</th>\n      <th>Total_Broadband_Internet</th>\n      <th>Total_Broadband_Internet_Percent</th>\n    </tr>\n  </thead>\n  <tbody>\n    <tr>\n      <th>0</th>\n      <td>Anson</td>\n      <td>Rural</td>\n      <td>37</td>\n      <td>007</td>\n      <td>37007</td>\n      <td>8315</td>\n      <td>84.8</td>\n      <td>7737</td>\n      <td>78.9</td>\n    </tr>\n    <tr>\n      <th>1</th>\n      <td>Beaufort</td>\n      <td>Rural</td>\n      <td>37</td>\n      <td>013</td>\n      <td>37013</td>\n      <td>17349</td>\n      <td>85.8</td>\n      <td>14964</td>\n      <td>74.0</td>\n    </tr>\n    <tr>\n      <th>2</th>\n      <td>Brunswick</td>\n      <td>Rural</td>\n      <td>37</td>\n      <td>019</td>\n      <td>37019</td>\n      <td>55782</td>\n      <td>93.9</td>\n      <td>52355</td>\n      <td>88.1</td>\n    </tr>\n    <tr>\n      <th>3</th>\n      <td>Cabarrus</td>\n      <td>Regional City and Suburban</td>\n      <td>37</td>\n      <td>025</td>\n      <td>37025</td>\n      <td>68821</td>\n      <td>94.5</td>\n      <td>64618</td>\n      <td>88.7</td>\n    </tr>\n    <tr>\n      <th>4</th>\n      <td>Carteret</td>\n      <td>Rural</td>\n      <td>37</td>\n      <td>031</td>\n      <td>37031</td>\n      <td>27889</td>\n      <td>92.8</td>\n      <td>26256</td>\n      <td>87.3</td>\n    </tr>\n  </tbody>\n</table>\n</div>"
     },
     "execution_count": 88,
     "metadata": {},
     "output_type": "execute_result"
    }
   ],
   "source": [
    "cols_to_keep = [\"County_Name\", \"Rural_Status\", \"State_FIPS\", \"County_FIPS\", \"FIPS_Code\", \"Total_Computer\", \"Total_Computer_Percent\", \"Total_Broadband_Internet\", \"Total_Broadband_Internet_Percent\"]\n",
    "df_joined = df_joined[cols_to_keep]\n",
    "\n",
    "print(df_joined.shape)\n",
    "df_joined.head()"
   ],
   "metadata": {
    "collapsed": false
   }
  },
  {
   "cell_type": "markdown",
   "source": [
    "### Save to CSV"
   ],
   "metadata": {
    "collapsed": false
   }
  },
  {
   "cell_type": "code",
   "execution_count": 90,
   "outputs": [],
   "source": [
    "csv_file_to_create = \"County_Computer_Internet.csv\"\n",
    "\n",
    "filename_with_path = \"Data/\" + csv_file_to_create\n",
    "df_joined.to_csv(filename_with_path, index=False)"
   ],
   "metadata": {
    "collapsed": false
   }
  }
 ],
 "metadata": {
  "kernelspec": {
   "display_name": "Python 3",
   "language": "python",
   "name": "python3"
  },
  "language_info": {
   "codemirror_mode": {
    "name": "ipython",
    "version": 2
   },
   "file_extension": ".py",
   "mimetype": "text/x-python",
   "name": "python",
   "nbconvert_exporter": "python",
   "pygments_lexer": "ipython2",
   "version": "2.7.6"
  }
 },
 "nbformat": 4,
 "nbformat_minor": 0
}
