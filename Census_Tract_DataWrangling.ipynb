{
 "cells": [
  {
   "cell_type": "markdown",
   "source": [
    "# Question: Which census tracts in NC have the highest and lowest percentage of computer and internet access?\n",
    "* Data source: acs/acs5/profile for census tracts (https://api.census.gov/data/2020/acs/acs5/profile?get=NAME,DP02_0153E,DP02_0153PE,DP02_0154E,DP02_0154PE&for=tract:*&in=state:37)\n",
    "* Vintage: 2020\n",
    "* Geography Level: Census Tracts"
   ],
   "metadata": {
    "collapsed": false
   }
  },
  {
   "cell_type": "markdown",
   "source": [
    "### Imports"
   ],
   "metadata": {
    "collapsed": false
   }
  },
  {
   "cell_type": "code",
   "execution_count": 16,
   "outputs": [],
   "source": [
    "import pandas as pd\n",
    "import requests"
   ],
   "metadata": {
    "collapsed": false
   }
  },
  {
   "cell_type": "markdown",
   "source": [
    "### Build the API request url"
   ],
   "metadata": {
    "collapsed": false
   }
  },
  {
   "cell_type": "code",
   "execution_count": 17,
   "outputs": [
    {
     "name": "stdout",
     "output_type": "stream",
     "text": [
      "request_url =  https://api.census.gov/data/2020/acs/acs5/profile?get=NAME,DP02_0153E,DP02_0153PE,DP02_0154E,DP02_0154PE&for=tract:*&in=state:37\n"
     ]
    }
   ],
   "source": [
    "base_url = \"https://api.census.gov/data\"\n",
    "dataset_name = \"/2020/acs/acs5/profile\"\n",
    "get_start = \"?get=\"\n",
    "get_variables = \"NAME,DP02_0153E,DP02_0153PE,DP02_0154E,DP02_0154PE\"\n",
    "geography = \"&for=tract:*&in=state:37\"\n",
    "request_url = base_url + dataset_name + get_start + get_variables + geography\n",
    "print(\"request_url = \", request_url)"
   ],
   "metadata": {
    "collapsed": false
   }
  },
  {
   "cell_type": "markdown",
   "source": [
    "### Use *requests* library to make the API call"
   ],
   "metadata": {
    "collapsed": false
   }
  },
  {
   "cell_type": "code",
   "execution_count": 18,
   "outputs": [],
   "source": [
    "r = requests.get(request_url)\n",
    "\n",
    "api_results = r.json()"
   ],
   "metadata": {
    "collapsed": false
   }
  },
  {
   "cell_type": "markdown",
   "source": [
    "### Get the data into a Dataframe"
   ],
   "metadata": {
    "collapsed": false
   }
  },
  {
   "cell_type": "code",
   "execution_count": 19,
   "outputs": [
    {
     "name": "stdout",
     "output_type": "stream",
     "text": [
      "(2673, 8)\n"
     ]
    },
    {
     "data": {
      "text/plain": "                                                      0           1  \\\n0                                                  NAME  DP02_0153E   \n1     Census Tract 201, Alamance County, North Carolina        1671   \n2     Census Tract 202, Alamance County, North Carolina        1268   \n3     Census Tract 203.01, Alamance County, North Ca...        1221   \n4     Census Tract 203.02, Alamance County, North Ca...        1135   \n...                                                 ...         ...   \n2668   Census Tract 535.17, Wake County, North Carolina        1571   \n2669   Census Tract 535.18, Wake County, North Carolina        1724   \n2670   Census Tract 535.19, Wake County, North Carolina        1736   \n2671   Census Tract 535.20, Wake County, North Carolina        2778   \n2672   Census Tract 535.21, Wake County, North Carolina        1485   \n\n                2           3            4      5       6       7  \n0     DP02_0153PE  DP02_0154E  DP02_0154PE  state  county   tract  \n1            90.7        1403         76.2     37     001  020100  \n2            94.0        1117         82.8     37     001  020200  \n3            85.9        1043         73.3     37     001  020301  \n4            92.4        1147         93.4     37     001  020302  \n...           ...         ...          ...    ...     ...     ...  \n2668         97.3        1491         92.4     37     183  053517  \n2669         97.3        1724         97.3     37     183  053518  \n2670         97.3        1643         92.0     37     183  053519  \n2671         99.4        2424         86.7     37     183  053520  \n2672         99.1        1462         97.6     37     183  053521  \n\n[2673 rows x 8 columns]",
      "text/html": "<div>\n<style scoped>\n    .dataframe tbody tr th:only-of-type {\n        vertical-align: middle;\n    }\n\n    .dataframe tbody tr th {\n        vertical-align: top;\n    }\n\n    .dataframe thead th {\n        text-align: right;\n    }\n</style>\n<table border=\"1\" class=\"dataframe\">\n  <thead>\n    <tr style=\"text-align: right;\">\n      <th></th>\n      <th>0</th>\n      <th>1</th>\n      <th>2</th>\n      <th>3</th>\n      <th>4</th>\n      <th>5</th>\n      <th>6</th>\n      <th>7</th>\n    </tr>\n  </thead>\n  <tbody>\n    <tr>\n      <th>0</th>\n      <td>NAME</td>\n      <td>DP02_0153E</td>\n      <td>DP02_0153PE</td>\n      <td>DP02_0154E</td>\n      <td>DP02_0154PE</td>\n      <td>state</td>\n      <td>county</td>\n      <td>tract</td>\n    </tr>\n    <tr>\n      <th>1</th>\n      <td>Census Tract 201, Alamance County, North Carolina</td>\n      <td>1671</td>\n      <td>90.7</td>\n      <td>1403</td>\n      <td>76.2</td>\n      <td>37</td>\n      <td>001</td>\n      <td>020100</td>\n    </tr>\n    <tr>\n      <th>2</th>\n      <td>Census Tract 202, Alamance County, North Carolina</td>\n      <td>1268</td>\n      <td>94.0</td>\n      <td>1117</td>\n      <td>82.8</td>\n      <td>37</td>\n      <td>001</td>\n      <td>020200</td>\n    </tr>\n    <tr>\n      <th>3</th>\n      <td>Census Tract 203.01, Alamance County, North Ca...</td>\n      <td>1221</td>\n      <td>85.9</td>\n      <td>1043</td>\n      <td>73.3</td>\n      <td>37</td>\n      <td>001</td>\n      <td>020301</td>\n    </tr>\n    <tr>\n      <th>4</th>\n      <td>Census Tract 203.02, Alamance County, North Ca...</td>\n      <td>1135</td>\n      <td>92.4</td>\n      <td>1147</td>\n      <td>93.4</td>\n      <td>37</td>\n      <td>001</td>\n      <td>020302</td>\n    </tr>\n    <tr>\n      <th>...</th>\n      <td>...</td>\n      <td>...</td>\n      <td>...</td>\n      <td>...</td>\n      <td>...</td>\n      <td>...</td>\n      <td>...</td>\n      <td>...</td>\n    </tr>\n    <tr>\n      <th>2668</th>\n      <td>Census Tract 535.17, Wake County, North Carolina</td>\n      <td>1571</td>\n      <td>97.3</td>\n      <td>1491</td>\n      <td>92.4</td>\n      <td>37</td>\n      <td>183</td>\n      <td>053517</td>\n    </tr>\n    <tr>\n      <th>2669</th>\n      <td>Census Tract 535.18, Wake County, North Carolina</td>\n      <td>1724</td>\n      <td>97.3</td>\n      <td>1724</td>\n      <td>97.3</td>\n      <td>37</td>\n      <td>183</td>\n      <td>053518</td>\n    </tr>\n    <tr>\n      <th>2670</th>\n      <td>Census Tract 535.19, Wake County, North Carolina</td>\n      <td>1736</td>\n      <td>97.3</td>\n      <td>1643</td>\n      <td>92.0</td>\n      <td>37</td>\n      <td>183</td>\n      <td>053519</td>\n    </tr>\n    <tr>\n      <th>2671</th>\n      <td>Census Tract 535.20, Wake County, North Carolina</td>\n      <td>2778</td>\n      <td>99.4</td>\n      <td>2424</td>\n      <td>86.7</td>\n      <td>37</td>\n      <td>183</td>\n      <td>053520</td>\n    </tr>\n    <tr>\n      <th>2672</th>\n      <td>Census Tract 535.21, Wake County, North Carolina</td>\n      <td>1485</td>\n      <td>99.1</td>\n      <td>1462</td>\n      <td>97.6</td>\n      <td>37</td>\n      <td>183</td>\n      <td>053521</td>\n    </tr>\n  </tbody>\n</table>\n<p>2673 rows × 8 columns</p>\n</div>"
     },
     "execution_count": 19,
     "metadata": {},
     "output_type": "execute_result"
    }
   ],
   "source": [
    "df_tract = pd.DataFrame(api_results)\n",
    "\n",
    "print(df_tract.shape)\n",
    "df_tract"
   ],
   "metadata": {
    "collapsed": false
   }
  },
  {
   "cell_type": "markdown",
   "source": [
    "### Getting the first row into the columns & removing"
   ],
   "metadata": {
    "collapsed": false
   }
  },
  {
   "cell_type": "code",
   "execution_count": 20,
   "outputs": [
    {
     "name": "stdout",
     "output_type": "stream",
     "text": [
      "0           NAME\n",
      "1     DP02_0153E\n",
      "2    DP02_0153PE\n",
      "3     DP02_0154E\n",
      "4    DP02_0154PE\n",
      "5          state\n",
      "6         county\n",
      "7          tract\n",
      "Name: 0, dtype: object\n"
     ]
    }
   ],
   "source": [
    "column_names = df_tract.iloc[0]\n",
    "\n",
    "print(column_names)"
   ],
   "metadata": {
    "collapsed": false
   }
  },
  {
   "cell_type": "code",
   "execution_count": 21,
   "outputs": [
    {
     "name": "stdout",
     "output_type": "stream",
     "text": [
      "(2673, 8)\n"
     ]
    },
    {
     "data": {
      "text/plain": "0                                               NAME  DP02_0153E  DP02_0153PE  \\\n0                                               NAME  DP02_0153E  DP02_0153PE   \n1  Census Tract 201, Alamance County, North Carolina        1671         90.7   \n2  Census Tract 202, Alamance County, North Carolina        1268         94.0   \n3  Census Tract 203.01, Alamance County, North Ca...        1221         85.9   \n4  Census Tract 203.02, Alamance County, North Ca...        1135         92.4   \n\n0  DP02_0154E  DP02_0154PE  state  county   tract  \n0  DP02_0154E  DP02_0154PE  state  county   tract  \n1        1403         76.2     37     001  020100  \n2        1117         82.8     37     001  020200  \n3        1043         73.3     37     001  020301  \n4        1147         93.4     37     001  020302  ",
      "text/html": "<div>\n<style scoped>\n    .dataframe tbody tr th:only-of-type {\n        vertical-align: middle;\n    }\n\n    .dataframe tbody tr th {\n        vertical-align: top;\n    }\n\n    .dataframe thead th {\n        text-align: right;\n    }\n</style>\n<table border=\"1\" class=\"dataframe\">\n  <thead>\n    <tr style=\"text-align: right;\">\n      <th></th>\n      <th>NAME</th>\n      <th>DP02_0153E</th>\n      <th>DP02_0153PE</th>\n      <th>DP02_0154E</th>\n      <th>DP02_0154PE</th>\n      <th>state</th>\n      <th>county</th>\n      <th>tract</th>\n    </tr>\n  </thead>\n  <tbody>\n    <tr>\n      <th>0</th>\n      <td>NAME</td>\n      <td>DP02_0153E</td>\n      <td>DP02_0153PE</td>\n      <td>DP02_0154E</td>\n      <td>DP02_0154PE</td>\n      <td>state</td>\n      <td>county</td>\n      <td>tract</td>\n    </tr>\n    <tr>\n      <th>1</th>\n      <td>Census Tract 201, Alamance County, North Carolina</td>\n      <td>1671</td>\n      <td>90.7</td>\n      <td>1403</td>\n      <td>76.2</td>\n      <td>37</td>\n      <td>001</td>\n      <td>020100</td>\n    </tr>\n    <tr>\n      <th>2</th>\n      <td>Census Tract 202, Alamance County, North Carolina</td>\n      <td>1268</td>\n      <td>94.0</td>\n      <td>1117</td>\n      <td>82.8</td>\n      <td>37</td>\n      <td>001</td>\n      <td>020200</td>\n    </tr>\n    <tr>\n      <th>3</th>\n      <td>Census Tract 203.01, Alamance County, North Ca...</td>\n      <td>1221</td>\n      <td>85.9</td>\n      <td>1043</td>\n      <td>73.3</td>\n      <td>37</td>\n      <td>001</td>\n      <td>020301</td>\n    </tr>\n    <tr>\n      <th>4</th>\n      <td>Census Tract 203.02, Alamance County, North Ca...</td>\n      <td>1135</td>\n      <td>92.4</td>\n      <td>1147</td>\n      <td>93.4</td>\n      <td>37</td>\n      <td>001</td>\n      <td>020302</td>\n    </tr>\n  </tbody>\n</table>\n</div>"
     },
     "execution_count": 21,
     "metadata": {},
     "output_type": "execute_result"
    }
   ],
   "source": [
    "df_tract.columns = column_names\n",
    "\n",
    "print(df_tract.shape)\n",
    "df_tract.head()"
   ],
   "metadata": {
    "collapsed": false
   }
  },
  {
   "cell_type": "code",
   "execution_count": 22,
   "outputs": [
    {
     "name": "stdout",
     "output_type": "stream",
     "text": [
      "(2672, 8)\n"
     ]
    },
    {
     "data": {
      "text/plain": "0                                                  NAME DP02_0153E  \\\n1     Census Tract 201, Alamance County, North Carolina       1671   \n2     Census Tract 202, Alamance County, North Carolina       1268   \n3     Census Tract 203.01, Alamance County, North Ca...       1221   \n4     Census Tract 203.02, Alamance County, North Ca...       1135   \n5     Census Tract 204, Alamance County, North Carolina       2102   \n...                                                 ...        ...   \n2668   Census Tract 535.17, Wake County, North Carolina       1571   \n2669   Census Tract 535.18, Wake County, North Carolina       1724   \n2670   Census Tract 535.19, Wake County, North Carolina       1736   \n2671   Census Tract 535.20, Wake County, North Carolina       2778   \n2672   Census Tract 535.21, Wake County, North Carolina       1485   \n\n0    DP02_0153PE DP02_0154E DP02_0154PE state county   tract  \n1           90.7       1403        76.2    37    001  020100  \n2           94.0       1117        82.8    37    001  020200  \n3           85.9       1043        73.3    37    001  020301  \n4           92.4       1147        93.4    37    001  020302  \n5           83.2       1718        68.0    37    001  020400  \n...          ...        ...         ...   ...    ...     ...  \n2668        97.3       1491        92.4    37    183  053517  \n2669        97.3       1724        97.3    37    183  053518  \n2670        97.3       1643        92.0    37    183  053519  \n2671        99.4       2424        86.7    37    183  053520  \n2672        99.1       1462        97.6    37    183  053521  \n\n[2672 rows x 8 columns]",
      "text/html": "<div>\n<style scoped>\n    .dataframe tbody tr th:only-of-type {\n        vertical-align: middle;\n    }\n\n    .dataframe tbody tr th {\n        vertical-align: top;\n    }\n\n    .dataframe thead th {\n        text-align: right;\n    }\n</style>\n<table border=\"1\" class=\"dataframe\">\n  <thead>\n    <tr style=\"text-align: right;\">\n      <th></th>\n      <th>NAME</th>\n      <th>DP02_0153E</th>\n      <th>DP02_0153PE</th>\n      <th>DP02_0154E</th>\n      <th>DP02_0154PE</th>\n      <th>state</th>\n      <th>county</th>\n      <th>tract</th>\n    </tr>\n  </thead>\n  <tbody>\n    <tr>\n      <th>1</th>\n      <td>Census Tract 201, Alamance County, North Carolina</td>\n      <td>1671</td>\n      <td>90.7</td>\n      <td>1403</td>\n      <td>76.2</td>\n      <td>37</td>\n      <td>001</td>\n      <td>020100</td>\n    </tr>\n    <tr>\n      <th>2</th>\n      <td>Census Tract 202, Alamance County, North Carolina</td>\n      <td>1268</td>\n      <td>94.0</td>\n      <td>1117</td>\n      <td>82.8</td>\n      <td>37</td>\n      <td>001</td>\n      <td>020200</td>\n    </tr>\n    <tr>\n      <th>3</th>\n      <td>Census Tract 203.01, Alamance County, North Ca...</td>\n      <td>1221</td>\n      <td>85.9</td>\n      <td>1043</td>\n      <td>73.3</td>\n      <td>37</td>\n      <td>001</td>\n      <td>020301</td>\n    </tr>\n    <tr>\n      <th>4</th>\n      <td>Census Tract 203.02, Alamance County, North Ca...</td>\n      <td>1135</td>\n      <td>92.4</td>\n      <td>1147</td>\n      <td>93.4</td>\n      <td>37</td>\n      <td>001</td>\n      <td>020302</td>\n    </tr>\n    <tr>\n      <th>5</th>\n      <td>Census Tract 204, Alamance County, North Carolina</td>\n      <td>2102</td>\n      <td>83.2</td>\n      <td>1718</td>\n      <td>68.0</td>\n      <td>37</td>\n      <td>001</td>\n      <td>020400</td>\n    </tr>\n    <tr>\n      <th>...</th>\n      <td>...</td>\n      <td>...</td>\n      <td>...</td>\n      <td>...</td>\n      <td>...</td>\n      <td>...</td>\n      <td>...</td>\n      <td>...</td>\n    </tr>\n    <tr>\n      <th>2668</th>\n      <td>Census Tract 535.17, Wake County, North Carolina</td>\n      <td>1571</td>\n      <td>97.3</td>\n      <td>1491</td>\n      <td>92.4</td>\n      <td>37</td>\n      <td>183</td>\n      <td>053517</td>\n    </tr>\n    <tr>\n      <th>2669</th>\n      <td>Census Tract 535.18, Wake County, North Carolina</td>\n      <td>1724</td>\n      <td>97.3</td>\n      <td>1724</td>\n      <td>97.3</td>\n      <td>37</td>\n      <td>183</td>\n      <td>053518</td>\n    </tr>\n    <tr>\n      <th>2670</th>\n      <td>Census Tract 535.19, Wake County, North Carolina</td>\n      <td>1736</td>\n      <td>97.3</td>\n      <td>1643</td>\n      <td>92.0</td>\n      <td>37</td>\n      <td>183</td>\n      <td>053519</td>\n    </tr>\n    <tr>\n      <th>2671</th>\n      <td>Census Tract 535.20, Wake County, North Carolina</td>\n      <td>2778</td>\n      <td>99.4</td>\n      <td>2424</td>\n      <td>86.7</td>\n      <td>37</td>\n      <td>183</td>\n      <td>053520</td>\n    </tr>\n    <tr>\n      <th>2672</th>\n      <td>Census Tract 535.21, Wake County, North Carolina</td>\n      <td>1485</td>\n      <td>99.1</td>\n      <td>1462</td>\n      <td>97.6</td>\n      <td>37</td>\n      <td>183</td>\n      <td>053521</td>\n    </tr>\n  </tbody>\n</table>\n<p>2672 rows × 8 columns</p>\n</div>"
     },
     "execution_count": 22,
     "metadata": {},
     "output_type": "execute_result"
    }
   ],
   "source": [
    "df_tract = df_tract.iloc[1:]\n",
    "\n",
    "print(df_tract.shape)\n",
    "df_tract"
   ],
   "metadata": {
    "collapsed": false
   }
  },
  {
   "cell_type": "markdown",
   "source": [
    "### Splitting the columns to get rid of extra information"
   ],
   "metadata": {
    "collapsed": false
   }
  },
  {
   "cell_type": "code",
   "execution_count": 23,
   "outputs": [
    {
     "name": "stdout",
     "output_type": "stream",
     "text": [
      "(2672, 11)\n"
     ]
    },
    {
     "name": "stderr",
     "output_type": "stream",
     "text": [
      "/tmp/ipykernel_319587/333555371.py:2: SettingWithCopyWarning: \n",
      "A value is trying to be set on a copy of a slice from a DataFrame.\n",
      "Try using .loc[row_indexer,col_indexer] = value instead\n",
      "\n",
      "See the caveats in the documentation: https://pandas.pydata.org/pandas-docs/stable/user_guide/indexing.html#returning-a-view-versus-a-copy\n",
      "  df_tract[three_cols] = df_tract[\"NAME\"].str.split(',',2, expand=True)\n",
      "/tmp/ipykernel_319587/333555371.py:2: SettingWithCopyWarning: \n",
      "A value is trying to be set on a copy of a slice from a DataFrame.\n",
      "Try using .loc[row_indexer,col_indexer] = value instead\n",
      "\n",
      "See the caveats in the documentation: https://pandas.pydata.org/pandas-docs/stable/user_guide/indexing.html#returning-a-view-versus-a-copy\n",
      "  df_tract[three_cols] = df_tract[\"NAME\"].str.split(',',2, expand=True)\n",
      "/tmp/ipykernel_319587/333555371.py:2: SettingWithCopyWarning: \n",
      "A value is trying to be set on a copy of a slice from a DataFrame.\n",
      "Try using .loc[row_indexer,col_indexer] = value instead\n",
      "\n",
      "See the caveats in the documentation: https://pandas.pydata.org/pandas-docs/stable/user_guide/indexing.html#returning-a-view-versus-a-copy\n",
      "  df_tract[three_cols] = df_tract[\"NAME\"].str.split(',',2, expand=True)\n"
     ]
    },
    {
     "data": {
      "text/plain": "0                                               NAME DP02_0153E DP02_0153PE  \\\n1  Census Tract 201, Alamance County, North Carolina       1671        90.7   \n2  Census Tract 202, Alamance County, North Carolina       1268        94.0   \n3  Census Tract 203.01, Alamance County, North Ca...       1221        85.9   \n4  Census Tract 203.02, Alamance County, North Ca...       1135        92.4   \n5  Census Tract 204, Alamance County, North Carolina       2102        83.2   \n\n0 DP02_0154E DP02_0154PE state county   tract    Census_Tract_Name  \\\n1       1403        76.2    37    001  020100     Census Tract 201   \n2       1117        82.8    37    001  020200     Census Tract 202   \n3       1043        73.3    37    001  020301  Census Tract 203.01   \n4       1147        93.4    37    001  020302  Census Tract 203.02   \n5       1718        68.0    37    001  020400     Census Tract 204   \n\n0       County_Name            trash  \n1   Alamance County   North Carolina  \n2   Alamance County   North Carolina  \n3   Alamance County   North Carolina  \n4   Alamance County   North Carolina  \n5   Alamance County   North Carolina  ",
      "text/html": "<div>\n<style scoped>\n    .dataframe tbody tr th:only-of-type {\n        vertical-align: middle;\n    }\n\n    .dataframe tbody tr th {\n        vertical-align: top;\n    }\n\n    .dataframe thead th {\n        text-align: right;\n    }\n</style>\n<table border=\"1\" class=\"dataframe\">\n  <thead>\n    <tr style=\"text-align: right;\">\n      <th></th>\n      <th>NAME</th>\n      <th>DP02_0153E</th>\n      <th>DP02_0153PE</th>\n      <th>DP02_0154E</th>\n      <th>DP02_0154PE</th>\n      <th>state</th>\n      <th>county</th>\n      <th>tract</th>\n      <th>Census_Tract_Name</th>\n      <th>County_Name</th>\n      <th>trash</th>\n    </tr>\n  </thead>\n  <tbody>\n    <tr>\n      <th>1</th>\n      <td>Census Tract 201, Alamance County, North Carolina</td>\n      <td>1671</td>\n      <td>90.7</td>\n      <td>1403</td>\n      <td>76.2</td>\n      <td>37</td>\n      <td>001</td>\n      <td>020100</td>\n      <td>Census Tract 201</td>\n      <td>Alamance County</td>\n      <td>North Carolina</td>\n    </tr>\n    <tr>\n      <th>2</th>\n      <td>Census Tract 202, Alamance County, North Carolina</td>\n      <td>1268</td>\n      <td>94.0</td>\n      <td>1117</td>\n      <td>82.8</td>\n      <td>37</td>\n      <td>001</td>\n      <td>020200</td>\n      <td>Census Tract 202</td>\n      <td>Alamance County</td>\n      <td>North Carolina</td>\n    </tr>\n    <tr>\n      <th>3</th>\n      <td>Census Tract 203.01, Alamance County, North Ca...</td>\n      <td>1221</td>\n      <td>85.9</td>\n      <td>1043</td>\n      <td>73.3</td>\n      <td>37</td>\n      <td>001</td>\n      <td>020301</td>\n      <td>Census Tract 203.01</td>\n      <td>Alamance County</td>\n      <td>North Carolina</td>\n    </tr>\n    <tr>\n      <th>4</th>\n      <td>Census Tract 203.02, Alamance County, North Ca...</td>\n      <td>1135</td>\n      <td>92.4</td>\n      <td>1147</td>\n      <td>93.4</td>\n      <td>37</td>\n      <td>001</td>\n      <td>020302</td>\n      <td>Census Tract 203.02</td>\n      <td>Alamance County</td>\n      <td>North Carolina</td>\n    </tr>\n    <tr>\n      <th>5</th>\n      <td>Census Tract 204, Alamance County, North Carolina</td>\n      <td>2102</td>\n      <td>83.2</td>\n      <td>1718</td>\n      <td>68.0</td>\n      <td>37</td>\n      <td>001</td>\n      <td>020400</td>\n      <td>Census Tract 204</td>\n      <td>Alamance County</td>\n      <td>North Carolina</td>\n    </tr>\n  </tbody>\n</table>\n</div>"
     },
     "execution_count": 23,
     "metadata": {},
     "output_type": "execute_result"
    }
   ],
   "source": [
    "three_cols = [\"Census_Tract_Name\", \"County_Name\", \"trash\"]\n",
    "df_tract[three_cols] = df_tract[\"NAME\"].str.split(',',2, expand=True)\n",
    "\n",
    "print(df_tract.shape)\n",
    "df_tract.head()"
   ],
   "metadata": {
    "collapsed": false
   }
  },
  {
   "cell_type": "code",
   "execution_count": 24,
   "outputs": [
    {
     "name": "stdout",
     "output_type": "stream",
     "text": [
      "(2672, 11)\n"
     ]
    },
    {
     "name": "stderr",
     "output_type": "stream",
     "text": [
      "/tmp/ipykernel_319587/1798163037.py:1: SettingWithCopyWarning: \n",
      "A value is trying to be set on a copy of a slice from a DataFrame.\n",
      "Try using .loc[row_indexer,col_indexer] = value instead\n",
      "\n",
      "See the caveats in the documentation: https://pandas.pydata.org/pandas-docs/stable/user_guide/indexing.html#returning-a-view-versus-a-copy\n",
      "  df_tract[\"County_Name\"] = df_tract[\"County_Name\"].str.replace(\"County\", \"\")\n"
     ]
    },
    {
     "data": {
      "text/plain": "0                                               NAME DP02_0153E DP02_0153PE  \\\n1  Census Tract 201, Alamance County, North Carolina       1671        90.7   \n2  Census Tract 202, Alamance County, North Carolina       1268        94.0   \n3  Census Tract 203.01, Alamance County, North Ca...       1221        85.9   \n4  Census Tract 203.02, Alamance County, North Ca...       1135        92.4   \n5  Census Tract 204, Alamance County, North Carolina       2102        83.2   \n\n0 DP02_0154E DP02_0154PE state county   tract    Census_Tract_Name  \\\n1       1403        76.2    37    001  020100     Census Tract 201   \n2       1117        82.8    37    001  020200     Census Tract 202   \n3       1043        73.3    37    001  020301  Census Tract 203.01   \n4       1147        93.4    37    001  020302  Census Tract 203.02   \n5       1718        68.0    37    001  020400     Census Tract 204   \n\n0 County_Name            trash  \n1   Alamance    North Carolina  \n2   Alamance    North Carolina  \n3   Alamance    North Carolina  \n4   Alamance    North Carolina  \n5   Alamance    North Carolina  ",
      "text/html": "<div>\n<style scoped>\n    .dataframe tbody tr th:only-of-type {\n        vertical-align: middle;\n    }\n\n    .dataframe tbody tr th {\n        vertical-align: top;\n    }\n\n    .dataframe thead th {\n        text-align: right;\n    }\n</style>\n<table border=\"1\" class=\"dataframe\">\n  <thead>\n    <tr style=\"text-align: right;\">\n      <th></th>\n      <th>NAME</th>\n      <th>DP02_0153E</th>\n      <th>DP02_0153PE</th>\n      <th>DP02_0154E</th>\n      <th>DP02_0154PE</th>\n      <th>state</th>\n      <th>county</th>\n      <th>tract</th>\n      <th>Census_Tract_Name</th>\n      <th>County_Name</th>\n      <th>trash</th>\n    </tr>\n  </thead>\n  <tbody>\n    <tr>\n      <th>1</th>\n      <td>Census Tract 201, Alamance County, North Carolina</td>\n      <td>1671</td>\n      <td>90.7</td>\n      <td>1403</td>\n      <td>76.2</td>\n      <td>37</td>\n      <td>001</td>\n      <td>020100</td>\n      <td>Census Tract 201</td>\n      <td>Alamance</td>\n      <td>North Carolina</td>\n    </tr>\n    <tr>\n      <th>2</th>\n      <td>Census Tract 202, Alamance County, North Carolina</td>\n      <td>1268</td>\n      <td>94.0</td>\n      <td>1117</td>\n      <td>82.8</td>\n      <td>37</td>\n      <td>001</td>\n      <td>020200</td>\n      <td>Census Tract 202</td>\n      <td>Alamance</td>\n      <td>North Carolina</td>\n    </tr>\n    <tr>\n      <th>3</th>\n      <td>Census Tract 203.01, Alamance County, North Ca...</td>\n      <td>1221</td>\n      <td>85.9</td>\n      <td>1043</td>\n      <td>73.3</td>\n      <td>37</td>\n      <td>001</td>\n      <td>020301</td>\n      <td>Census Tract 203.01</td>\n      <td>Alamance</td>\n      <td>North Carolina</td>\n    </tr>\n    <tr>\n      <th>4</th>\n      <td>Census Tract 203.02, Alamance County, North Ca...</td>\n      <td>1135</td>\n      <td>92.4</td>\n      <td>1147</td>\n      <td>93.4</td>\n      <td>37</td>\n      <td>001</td>\n      <td>020302</td>\n      <td>Census Tract 203.02</td>\n      <td>Alamance</td>\n      <td>North Carolina</td>\n    </tr>\n    <tr>\n      <th>5</th>\n      <td>Census Tract 204, Alamance County, North Carolina</td>\n      <td>2102</td>\n      <td>83.2</td>\n      <td>1718</td>\n      <td>68.0</td>\n      <td>37</td>\n      <td>001</td>\n      <td>020400</td>\n      <td>Census Tract 204</td>\n      <td>Alamance</td>\n      <td>North Carolina</td>\n    </tr>\n  </tbody>\n</table>\n</div>"
     },
     "execution_count": 24,
     "metadata": {},
     "output_type": "execute_result"
    }
   ],
   "source": [
    "df_tract[\"County_Name\"] = df_tract[\"County_Name\"].str.replace(\"County\", \"\")\n",
    "\n",
    "print(df_tract.shape)\n",
    "df_tract.head()"
   ],
   "metadata": {
    "collapsed": false
   }
  },
  {
   "cell_type": "markdown",
   "source": [
    "### Renaming the columns"
   ],
   "metadata": {
    "collapsed": false
   }
  },
  {
   "cell_type": "code",
   "execution_count": 25,
   "outputs": [
    {
     "name": "stdout",
     "output_type": "stream",
     "text": [
      "(2672, 11)\n"
     ]
    },
    {
     "name": "stderr",
     "output_type": "stream",
     "text": [
      "/tmp/ipykernel_319587/1400212101.py:1: SettingWithCopyWarning: \n",
      "A value is trying to be set on a copy of a slice from a DataFrame\n",
      "\n",
      "See the caveats in the documentation: https://pandas.pydata.org/pandas-docs/stable/user_guide/indexing.html#returning-a-view-versus-a-copy\n",
      "  df_tract.rename(columns={\"DP02_0153E\": \"Total_Computer\", \"DP02_0153PE\": \"Total_Computer_Percent\", \"DP02_0154E\": \"Total_Broadband_Internet\", \"DP02_0154PE\": \"Total_Broadband_Internet_Percent\", \"state\": \"State_FIPS\", \"county\": \"County_FIPS\", \"tract\": \"Census_Tract_FIPS\"}, inplace=True)\n"
     ]
    },
    {
     "data": {
      "text/plain": "0                                               NAME Total_Computer  \\\n1  Census Tract 201, Alamance County, North Carolina           1671   \n2  Census Tract 202, Alamance County, North Carolina           1268   \n3  Census Tract 203.01, Alamance County, North Ca...           1221   \n4  Census Tract 203.02, Alamance County, North Ca...           1135   \n5  Census Tract 204, Alamance County, North Carolina           2102   \n\n0 Total_Computer_Percent Total_Broadband_Internet  \\\n1                   90.7                     1403   \n2                   94.0                     1117   \n3                   85.9                     1043   \n4                   92.4                     1147   \n5                   83.2                     1718   \n\n0 Total_Broadband_Internet_Percent State_FIPS County_FIPS Census_Tract_FIPS  \\\n1                             76.2         37         001            020100   \n2                             82.8         37         001            020200   \n3                             73.3         37         001            020301   \n4                             93.4         37         001            020302   \n5                             68.0         37         001            020400   \n\n0    Census_Tract_Name County_Name            trash  \n1     Census Tract 201   Alamance    North Carolina  \n2     Census Tract 202   Alamance    North Carolina  \n3  Census Tract 203.01   Alamance    North Carolina  \n4  Census Tract 203.02   Alamance    North Carolina  \n5     Census Tract 204   Alamance    North Carolina  ",
      "text/html": "<div>\n<style scoped>\n    .dataframe tbody tr th:only-of-type {\n        vertical-align: middle;\n    }\n\n    .dataframe tbody tr th {\n        vertical-align: top;\n    }\n\n    .dataframe thead th {\n        text-align: right;\n    }\n</style>\n<table border=\"1\" class=\"dataframe\">\n  <thead>\n    <tr style=\"text-align: right;\">\n      <th></th>\n      <th>NAME</th>\n      <th>Total_Computer</th>\n      <th>Total_Computer_Percent</th>\n      <th>Total_Broadband_Internet</th>\n      <th>Total_Broadband_Internet_Percent</th>\n      <th>State_FIPS</th>\n      <th>County_FIPS</th>\n      <th>Census_Tract_FIPS</th>\n      <th>Census_Tract_Name</th>\n      <th>County_Name</th>\n      <th>trash</th>\n    </tr>\n  </thead>\n  <tbody>\n    <tr>\n      <th>1</th>\n      <td>Census Tract 201, Alamance County, North Carolina</td>\n      <td>1671</td>\n      <td>90.7</td>\n      <td>1403</td>\n      <td>76.2</td>\n      <td>37</td>\n      <td>001</td>\n      <td>020100</td>\n      <td>Census Tract 201</td>\n      <td>Alamance</td>\n      <td>North Carolina</td>\n    </tr>\n    <tr>\n      <th>2</th>\n      <td>Census Tract 202, Alamance County, North Carolina</td>\n      <td>1268</td>\n      <td>94.0</td>\n      <td>1117</td>\n      <td>82.8</td>\n      <td>37</td>\n      <td>001</td>\n      <td>020200</td>\n      <td>Census Tract 202</td>\n      <td>Alamance</td>\n      <td>North Carolina</td>\n    </tr>\n    <tr>\n      <th>3</th>\n      <td>Census Tract 203.01, Alamance County, North Ca...</td>\n      <td>1221</td>\n      <td>85.9</td>\n      <td>1043</td>\n      <td>73.3</td>\n      <td>37</td>\n      <td>001</td>\n      <td>020301</td>\n      <td>Census Tract 203.01</td>\n      <td>Alamance</td>\n      <td>North Carolina</td>\n    </tr>\n    <tr>\n      <th>4</th>\n      <td>Census Tract 203.02, Alamance County, North Ca...</td>\n      <td>1135</td>\n      <td>92.4</td>\n      <td>1147</td>\n      <td>93.4</td>\n      <td>37</td>\n      <td>001</td>\n      <td>020302</td>\n      <td>Census Tract 203.02</td>\n      <td>Alamance</td>\n      <td>North Carolina</td>\n    </tr>\n    <tr>\n      <th>5</th>\n      <td>Census Tract 204, Alamance County, North Carolina</td>\n      <td>2102</td>\n      <td>83.2</td>\n      <td>1718</td>\n      <td>68.0</td>\n      <td>37</td>\n      <td>001</td>\n      <td>020400</td>\n      <td>Census Tract 204</td>\n      <td>Alamance</td>\n      <td>North Carolina</td>\n    </tr>\n  </tbody>\n</table>\n</div>"
     },
     "execution_count": 25,
     "metadata": {},
     "output_type": "execute_result"
    }
   ],
   "source": [
    "df_tract.rename(columns={\"DP02_0153E\": \"Total_Computer\", \"DP02_0153PE\": \"Total_Computer_Percent\", \"DP02_0154E\": \"Total_Broadband_Internet\", \"DP02_0154PE\": \"Total_Broadband_Internet_Percent\", \"state\": \"State_FIPS\", \"county\": \"County_FIPS\", \"tract\": \"Census_Tract_FIPS\"}, inplace=True)\n",
    "\n",
    "print(df_tract.shape)\n",
    "df_tract.head()"
   ],
   "metadata": {
    "collapsed": false
   }
  },
  {
   "cell_type": "markdown",
   "source": [
    "### Convert to ints and floats"
   ],
   "metadata": {
    "collapsed": false
   }
  },
  {
   "cell_type": "code",
   "execution_count": 26,
   "outputs": [
    {
     "data": {
      "text/plain": "0\nNAME                                object\nTotal_Computer                      object\nTotal_Computer_Percent              object\nTotal_Broadband_Internet            object\nTotal_Broadband_Internet_Percent    object\nState_FIPS                          object\nCounty_FIPS                         object\nCensus_Tract_FIPS                   object\nCensus_Tract_Name                   object\nCounty_Name                         object\ntrash                               object\ndtype: object"
     },
     "execution_count": 26,
     "metadata": {},
     "output_type": "execute_result"
    }
   ],
   "source": [
    "df_tract.dtypes"
   ],
   "metadata": {
    "collapsed": false
   }
  },
  {
   "cell_type": "code",
   "execution_count": 27,
   "outputs": [
    {
     "name": "stderr",
     "output_type": "stream",
     "text": [
      "/tmp/ipykernel_319587/3114280226.py:1: SettingWithCopyWarning: \n",
      "A value is trying to be set on a copy of a slice from a DataFrame.\n",
      "Try using .loc[row_indexer,col_indexer] = value instead\n",
      "\n",
      "See the caveats in the documentation: https://pandas.pydata.org/pandas-docs/stable/user_guide/indexing.html#returning-a-view-versus-a-copy\n",
      "  df_tract[\"Total_Computer\"] = pd.to_numeric(df_tract[\"Total_Computer\"]).astype(int)\n",
      "/tmp/ipykernel_319587/3114280226.py:2: SettingWithCopyWarning: \n",
      "A value is trying to be set on a copy of a slice from a DataFrame.\n",
      "Try using .loc[row_indexer,col_indexer] = value instead\n",
      "\n",
      "See the caveats in the documentation: https://pandas.pydata.org/pandas-docs/stable/user_guide/indexing.html#returning-a-view-versus-a-copy\n",
      "  df_tract[\"Total_Broadband_Internet\"] = pd.to_numeric(df_tract[\"Total_Broadband_Internet\"]).astype(int)\n",
      "/tmp/ipykernel_319587/3114280226.py:3: SettingWithCopyWarning: \n",
      "A value is trying to be set on a copy of a slice from a DataFrame.\n",
      "Try using .loc[row_indexer,col_indexer] = value instead\n",
      "\n",
      "See the caveats in the documentation: https://pandas.pydata.org/pandas-docs/stable/user_guide/indexing.html#returning-a-view-versus-a-copy\n",
      "  df_tract[\"Total_Computer_Percent\"] = pd.to_numeric(df_tract[\"Total_Computer_Percent\"]).astype(float)\n",
      "/tmp/ipykernel_319587/3114280226.py:4: SettingWithCopyWarning: \n",
      "A value is trying to be set on a copy of a slice from a DataFrame.\n",
      "Try using .loc[row_indexer,col_indexer] = value instead\n",
      "\n",
      "See the caveats in the documentation: https://pandas.pydata.org/pandas-docs/stable/user_guide/indexing.html#returning-a-view-versus-a-copy\n",
      "  df_tract[\"Total_Broadband_Internet_Percent\"] = pd.to_numeric(df_tract[\"Total_Broadband_Internet_Percent\"]).astype(float)\n"
     ]
    },
    {
     "data": {
      "text/plain": "0\nNAME                                 object\nTotal_Computer                        int64\nTotal_Computer_Percent              float64\nTotal_Broadband_Internet              int64\nTotal_Broadband_Internet_Percent    float64\nState_FIPS                           object\nCounty_FIPS                          object\nCensus_Tract_FIPS                    object\nCensus_Tract_Name                    object\nCounty_Name                          object\ntrash                                object\ndtype: object"
     },
     "execution_count": 27,
     "metadata": {},
     "output_type": "execute_result"
    }
   ],
   "source": [
    "df_tract[\"Total_Computer\"] = pd.to_numeric(df_tract[\"Total_Computer\"]).astype(int)\n",
    "df_tract[\"Total_Broadband_Internet\"] = pd.to_numeric(df_tract[\"Total_Broadband_Internet\"]).astype(int)\n",
    "df_tract[\"Total_Computer_Percent\"] = pd.to_numeric(df_tract[\"Total_Computer_Percent\"]).astype(float)\n",
    "df_tract[\"Total_Broadband_Internet_Percent\"] = pd.to_numeric(df_tract[\"Total_Broadband_Internet_Percent\"]).astype(float)\n",
    "\n",
    "df_tract.dtypes"
   ],
   "metadata": {
    "collapsed": false
   }
  },
  {
   "cell_type": "markdown",
   "source": [
    "### Make a FIPS_Code column"
   ],
   "metadata": {
    "collapsed": false
   }
  },
  {
   "cell_type": "code",
   "execution_count": 28,
   "outputs": [
    {
     "name": "stdout",
     "output_type": "stream",
     "text": [
      "(2672, 12)\n"
     ]
    },
    {
     "name": "stderr",
     "output_type": "stream",
     "text": [
      "/tmp/ipykernel_319587/2867321446.py:1: SettingWithCopyWarning: \n",
      "A value is trying to be set on a copy of a slice from a DataFrame.\n",
      "Try using .loc[row_indexer,col_indexer] = value instead\n",
      "\n",
      "See the caveats in the documentation: https://pandas.pydata.org/pandas-docs/stable/user_guide/indexing.html#returning-a-view-versus-a-copy\n",
      "  df_tract[\"FIPS_Code\"] = df_tract[\"State_FIPS\"] + df_tract[\"County_FIPS\"] + df_tract[\"Census_Tract_FIPS\"]\n"
     ]
    },
    {
     "data": {
      "text/plain": "0                                               NAME  Total_Computer  \\\n1  Census Tract 201, Alamance County, North Carolina            1671   \n2  Census Tract 202, Alamance County, North Carolina            1268   \n3  Census Tract 203.01, Alamance County, North Ca...            1221   \n4  Census Tract 203.02, Alamance County, North Ca...            1135   \n5  Census Tract 204, Alamance County, North Carolina            2102   \n\n0  Total_Computer_Percent  Total_Broadband_Internet  \\\n1                    90.7                      1403   \n2                    94.0                      1117   \n3                    85.9                      1043   \n4                    92.4                      1147   \n5                    83.2                      1718   \n\n0  Total_Broadband_Internet_Percent State_FIPS County_FIPS Census_Tract_FIPS  \\\n1                              76.2         37         001            020100   \n2                              82.8         37         001            020200   \n3                              73.3         37         001            020301   \n4                              93.4         37         001            020302   \n5                              68.0         37         001            020400   \n\n0    Census_Tract_Name County_Name            trash    FIPS_Code  \n1     Census Tract 201   Alamance    North Carolina  37001020100  \n2     Census Tract 202   Alamance    North Carolina  37001020200  \n3  Census Tract 203.01   Alamance    North Carolina  37001020301  \n4  Census Tract 203.02   Alamance    North Carolina  37001020302  \n5     Census Tract 204   Alamance    North Carolina  37001020400  ",
      "text/html": "<div>\n<style scoped>\n    .dataframe tbody tr th:only-of-type {\n        vertical-align: middle;\n    }\n\n    .dataframe tbody tr th {\n        vertical-align: top;\n    }\n\n    .dataframe thead th {\n        text-align: right;\n    }\n</style>\n<table border=\"1\" class=\"dataframe\">\n  <thead>\n    <tr style=\"text-align: right;\">\n      <th></th>\n      <th>NAME</th>\n      <th>Total_Computer</th>\n      <th>Total_Computer_Percent</th>\n      <th>Total_Broadband_Internet</th>\n      <th>Total_Broadband_Internet_Percent</th>\n      <th>State_FIPS</th>\n      <th>County_FIPS</th>\n      <th>Census_Tract_FIPS</th>\n      <th>Census_Tract_Name</th>\n      <th>County_Name</th>\n      <th>trash</th>\n      <th>FIPS_Code</th>\n    </tr>\n  </thead>\n  <tbody>\n    <tr>\n      <th>1</th>\n      <td>Census Tract 201, Alamance County, North Carolina</td>\n      <td>1671</td>\n      <td>90.7</td>\n      <td>1403</td>\n      <td>76.2</td>\n      <td>37</td>\n      <td>001</td>\n      <td>020100</td>\n      <td>Census Tract 201</td>\n      <td>Alamance</td>\n      <td>North Carolina</td>\n      <td>37001020100</td>\n    </tr>\n    <tr>\n      <th>2</th>\n      <td>Census Tract 202, Alamance County, North Carolina</td>\n      <td>1268</td>\n      <td>94.0</td>\n      <td>1117</td>\n      <td>82.8</td>\n      <td>37</td>\n      <td>001</td>\n      <td>020200</td>\n      <td>Census Tract 202</td>\n      <td>Alamance</td>\n      <td>North Carolina</td>\n      <td>37001020200</td>\n    </tr>\n    <tr>\n      <th>3</th>\n      <td>Census Tract 203.01, Alamance County, North Ca...</td>\n      <td>1221</td>\n      <td>85.9</td>\n      <td>1043</td>\n      <td>73.3</td>\n      <td>37</td>\n      <td>001</td>\n      <td>020301</td>\n      <td>Census Tract 203.01</td>\n      <td>Alamance</td>\n      <td>North Carolina</td>\n      <td>37001020301</td>\n    </tr>\n    <tr>\n      <th>4</th>\n      <td>Census Tract 203.02, Alamance County, North Ca...</td>\n      <td>1135</td>\n      <td>92.4</td>\n      <td>1147</td>\n      <td>93.4</td>\n      <td>37</td>\n      <td>001</td>\n      <td>020302</td>\n      <td>Census Tract 203.02</td>\n      <td>Alamance</td>\n      <td>North Carolina</td>\n      <td>37001020302</td>\n    </tr>\n    <tr>\n      <th>5</th>\n      <td>Census Tract 204, Alamance County, North Carolina</td>\n      <td>2102</td>\n      <td>83.2</td>\n      <td>1718</td>\n      <td>68.0</td>\n      <td>37</td>\n      <td>001</td>\n      <td>020400</td>\n      <td>Census Tract 204</td>\n      <td>Alamance</td>\n      <td>North Carolina</td>\n      <td>37001020400</td>\n    </tr>\n  </tbody>\n</table>\n</div>"
     },
     "execution_count": 28,
     "metadata": {},
     "output_type": "execute_result"
    }
   ],
   "source": [
    "df_tract[\"FIPS_Code\"] = df_tract[\"State_FIPS\"] + df_tract[\"County_FIPS\"] + df_tract[\"Census_Tract_FIPS\"]\n",
    "\n",
    "print(df_tract.shape)\n",
    "df_tract.head()"
   ],
   "metadata": {
    "collapsed": false
   }
  },
  {
   "cell_type": "markdown",
   "source": [
    "### Reorder and remove columns"
   ],
   "metadata": {
    "collapsed": false
   }
  },
  {
   "cell_type": "code",
   "execution_count": 29,
   "outputs": [
    {
     "name": "stdout",
     "output_type": "stream",
     "text": [
      "(2672, 10)\n"
     ]
    },
    {
     "data": {
      "text/plain": "0    Census_Tract_Name County_Name State_FIPS County_FIPS Census_Tract_FIPS  \\\n1     Census Tract 201   Alamance          37         001            020100   \n2     Census Tract 202   Alamance          37         001            020200   \n3  Census Tract 203.01   Alamance          37         001            020301   \n4  Census Tract 203.02   Alamance          37         001            020302   \n5     Census Tract 204   Alamance          37         001            020400   \n\n0    FIPS_Code  Total_Computer  Total_Computer_Percent  \\\n1  37001020100            1671                    90.7   \n2  37001020200            1268                    94.0   \n3  37001020301            1221                    85.9   \n4  37001020302            1135                    92.4   \n5  37001020400            2102                    83.2   \n\n0  Total_Broadband_Internet  Total_Broadband_Internet_Percent  \n1                      1403                              76.2  \n2                      1117                              82.8  \n3                      1043                              73.3  \n4                      1147                              93.4  \n5                      1718                              68.0  ",
      "text/html": "<div>\n<style scoped>\n    .dataframe tbody tr th:only-of-type {\n        vertical-align: middle;\n    }\n\n    .dataframe tbody tr th {\n        vertical-align: top;\n    }\n\n    .dataframe thead th {\n        text-align: right;\n    }\n</style>\n<table border=\"1\" class=\"dataframe\">\n  <thead>\n    <tr style=\"text-align: right;\">\n      <th></th>\n      <th>Census_Tract_Name</th>\n      <th>County_Name</th>\n      <th>State_FIPS</th>\n      <th>County_FIPS</th>\n      <th>Census_Tract_FIPS</th>\n      <th>FIPS_Code</th>\n      <th>Total_Computer</th>\n      <th>Total_Computer_Percent</th>\n      <th>Total_Broadband_Internet</th>\n      <th>Total_Broadband_Internet_Percent</th>\n    </tr>\n  </thead>\n  <tbody>\n    <tr>\n      <th>1</th>\n      <td>Census Tract 201</td>\n      <td>Alamance</td>\n      <td>37</td>\n      <td>001</td>\n      <td>020100</td>\n      <td>37001020100</td>\n      <td>1671</td>\n      <td>90.7</td>\n      <td>1403</td>\n      <td>76.2</td>\n    </tr>\n    <tr>\n      <th>2</th>\n      <td>Census Tract 202</td>\n      <td>Alamance</td>\n      <td>37</td>\n      <td>001</td>\n      <td>020200</td>\n      <td>37001020200</td>\n      <td>1268</td>\n      <td>94.0</td>\n      <td>1117</td>\n      <td>82.8</td>\n    </tr>\n    <tr>\n      <th>3</th>\n      <td>Census Tract 203.01</td>\n      <td>Alamance</td>\n      <td>37</td>\n      <td>001</td>\n      <td>020301</td>\n      <td>37001020301</td>\n      <td>1221</td>\n      <td>85.9</td>\n      <td>1043</td>\n      <td>73.3</td>\n    </tr>\n    <tr>\n      <th>4</th>\n      <td>Census Tract 203.02</td>\n      <td>Alamance</td>\n      <td>37</td>\n      <td>001</td>\n      <td>020302</td>\n      <td>37001020302</td>\n      <td>1135</td>\n      <td>92.4</td>\n      <td>1147</td>\n      <td>93.4</td>\n    </tr>\n    <tr>\n      <th>5</th>\n      <td>Census Tract 204</td>\n      <td>Alamance</td>\n      <td>37</td>\n      <td>001</td>\n      <td>020400</td>\n      <td>37001020400</td>\n      <td>2102</td>\n      <td>83.2</td>\n      <td>1718</td>\n      <td>68.0</td>\n    </tr>\n  </tbody>\n</table>\n</div>"
     },
     "execution_count": 29,
     "metadata": {},
     "output_type": "execute_result"
    }
   ],
   "source": [
    "cols_to_keep = [\"Census_Tract_Name\", \"County_Name\", \"State_FIPS\", \"County_FIPS\", \"Census_Tract_FIPS\", \"FIPS_Code\", \"Total_Computer\", \"Total_Computer_Percent\", \"Total_Broadband_Internet\", \"Total_Broadband_Internet_Percent\"]\n",
    "df_tract = df_tract[cols_to_keep]\n",
    "\n",
    "print(df_tract.shape)\n",
    "df_tract.head()"
   ],
   "metadata": {
    "collapsed": false
   }
  },
  {
   "cell_type": "markdown",
   "source": [
    "### Save to CSV"
   ],
   "metadata": {
    "collapsed": false
   }
  },
  {
   "cell_type": "code",
   "execution_count": 30,
   "outputs": [],
   "source": [
    "csv_file_to_create = \"Census_Tract_Computer_Internet.csv\"\n",
    "\n",
    "filename_with_path = \"Data/\" + csv_file_to_create\n",
    "df_tract.to_csv(filename_with_path, index=False)"
   ],
   "metadata": {
    "collapsed": false
   }
  }
 ],
 "metadata": {
  "kernelspec": {
   "display_name": "Python 3",
   "language": "python",
   "name": "python3"
  },
  "language_info": {
   "codemirror_mode": {
    "name": "ipython",
    "version": 2
   },
   "file_extension": ".py",
   "mimetype": "text/x-python",
   "name": "python",
   "nbconvert_exporter": "python",
   "pygments_lexer": "ipython2",
   "version": "2.7.6"
  }
 },
 "nbformat": 4,
 "nbformat_minor": 0
}
